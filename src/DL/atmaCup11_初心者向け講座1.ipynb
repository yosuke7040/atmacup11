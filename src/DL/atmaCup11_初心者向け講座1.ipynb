{
 "cells": [
  {
   "cell_type": "markdown",
   "metadata": {},
   "source": [
    "## Table of Contents\n",
    "\n",
    "* データの準備\n",
    "* データを知る\n",
    "    * 画像について\n",
    "    * その他のテーブルデータについて\n",
    "* 画像を使った予測モデルの作成\n",
    "    * 画像データの読み込み・データ拡張\n",
    "    * データを読み込むクラスの作成\n",
    "    * 学習のスキームを定義する\n",
    "        * 目的関数\n",
    "        * 最適化アルゴリズム\n",
    "    * 学習の実行\n",
    "    * 学習を関数化して実装する\n",
    "* 交差検証による学習\n",
    "    * 交差検証はなぜ必要か\n",
    "    * 検証を行なう関数を実装実装する\n",
    "    * 交差検証で学習する\n",
    "* 学習したモデルで submission file を作る"
   ]
  },
  {
   "cell_type": "markdown",
   "metadata": {},
   "source": [
    "## Note:\n",
    "\n",
    "**事前学習済みモデルは利用禁止です!**"
   ]
  },
  {
   "cell_type": "markdown",
   "metadata": {},
   "source": [
    "## データの準備\n",
    "\n",
    "データをダウンロードします。`DATA_ROOT` に今回のコンペ用のデータをすべて配置します。適宜実行環境に合わせて修正をしてください。"
   ]
  },
  {
   "cell_type": "code",
   "execution_count": 1,
   "metadata": {},
   "outputs": [
    {
     "name": "stdout",
     "output_type": "stream",
     "text": [
      "env: DATA_ROOT=/analysis/data/atmacup11/\n"
     ]
    }
   ],
   "source": [
    "%env DATA_ROOT /analysis/data/atmacup11/"
   ]
  },
  {
   "cell_type": "code",
   "execution_count": null,
   "metadata": {},
   "outputs": [],
   "source": [
    "!mkdir -p ${DATA_ROOT}/inputs && \\\n",
    "    cd ${DATA_ROOT}/inputs && \\\n",
    "    wget -O data.zip \"your-copied-url-here\" && \\\n",
    "    unzip -n data.zip && \\\n",
    "    mkdir -p photos && \\\n",
    "    unzip -n photos.zip -d ./photos"
   ]
  },
  {
   "cell_type": "markdown",
   "metadata": {},
   "source": [
    "### 基本の設定"
   ]
  },
  {
   "cell_type": "code",
   "execution_count": 2,
   "metadata": {},
   "outputs": [],
   "source": [
    "import os\n",
    "\n",
    "import pandas as pd\n",
    "import numpy as np\n",
    "from glob import  glob\n",
    "\n",
    "import matplotlib.pyplot as plt\n",
    "import seaborn as sns"
   ]
  },
  {
   "cell_type": "code",
   "execution_count": 51,
   "metadata": {
    "scrolled": true
   },
   "outputs": [
    {
     "name": "stdout",
     "output_type": "stream",
     "text": [
      "Requirement already satisfied: python-vivid in /home/penguin/conda/lib/python3.7/site-packages (0.3.3.4)\n",
      "Requirement already satisfied: scipy in /home/penguin/conda/lib/python3.7/site-packages (from python-vivid) (1.5.0)\n",
      "Requirement already satisfied: pandas in /home/penguin/conda/lib/python3.7/site-packages (from python-vivid) (1.2.2)\n",
      "Requirement already satisfied: lightgbm in /home/penguin/conda/lib/python3.7/site-packages (from python-vivid) (2.3.2)\n",
      "Requirement already satisfied: xgboost in /home/penguin/conda/lib/python3.7/site-packages (from python-vivid) (1.4.2)\n",
      "Requirement already satisfied: optuna in /home/penguin/conda/lib/python3.7/site-packages (from python-vivid) (1.5.0)\n",
      "Requirement already satisfied: networkx in /home/penguin/conda/lib/python3.7/site-packages (from python-vivid) (2.4)\n",
      "Requirement already satisfied: joblib in /home/penguin/conda/lib/python3.7/site-packages (from python-vivid) (0.16.0)\n",
      "Requirement already satisfied: numpy in /home/penguin/conda/lib/python3.7/site-packages (from python-vivid) (1.18.5)\n",
      "Requirement already satisfied: tabulate in /home/penguin/conda/lib/python3.7/site-packages (from python-vivid) (0.8.9)\n",
      "Requirement already satisfied: scikit-learn in /home/penguin/conda/lib/python3.7/site-packages (from python-vivid) (0.23.1)\n",
      "Requirement already satisfied: tqdm in /home/penguin/conda/lib/python3.7/site-packages (from python-vivid) (4.47.0)\n",
      "Requirement already satisfied: matplotlib in /home/penguin/conda/lib/python3.7/site-packages (from python-vivid) (3.2.2)\n",
      "Requirement already satisfied: seaborn in /home/penguin/conda/lib/python3.7/site-packages (from python-vivid) (0.10.1)\n",
      "Requirement already satisfied: feather-format in /home/penguin/conda/lib/python3.7/site-packages (from python-vivid) (0.4.1)\n",
      "Requirement already satisfied: pyarrow>=0.4.0 in /home/penguin/conda/lib/python3.7/site-packages (from feather-format->python-vivid) (4.0.1)\n",
      "Requirement already satisfied: threadpoolctl>=2.0.0 in /home/penguin/conda/lib/python3.7/site-packages (from scikit-learn->python-vivid) (2.1.0)\n",
      "Requirement already satisfied: python-dateutil>=2.1 in /home/penguin/conda/lib/python3.7/site-packages (from matplotlib->python-vivid) (2.8.1)\n",
      "Requirement already satisfied: cycler>=0.10 in /home/penguin/conda/lib/python3.7/site-packages (from matplotlib->python-vivid) (0.10.0)\n",
      "Requirement already satisfied: kiwisolver>=1.0.1 in /home/penguin/conda/lib/python3.7/site-packages (from matplotlib->python-vivid) (1.2.0)\n",
      "Requirement already satisfied: pyparsing!=2.0.4,!=2.1.2,!=2.1.6,>=2.0.1 in /home/penguin/conda/lib/python3.7/site-packages (from matplotlib->python-vivid) (2.4.7)\n",
      "Requirement already satisfied: six in /home/penguin/conda/lib/python3.7/site-packages (from cycler>=0.10->matplotlib->python-vivid) (1.15.0)\n",
      "Requirement already satisfied: decorator>=4.3.0 in /home/penguin/conda/lib/python3.7/site-packages (from networkx->python-vivid) (4.4.2)\n",
      "Requirement already satisfied: cmaes>=0.5.0 in /home/penguin/conda/lib/python3.7/site-packages (from optuna->python-vivid) (0.5.1)\n",
      "Requirement already satisfied: sqlalchemy>=1.1.0 in /home/penguin/conda/lib/python3.7/site-packages (from optuna->python-vivid) (1.3.18)\n",
      "Requirement already satisfied: cliff in /home/penguin/conda/lib/python3.7/site-packages (from optuna->python-vivid) (3.3.0)\n",
      "Requirement already satisfied: colorlog in /home/penguin/conda/lib/python3.7/site-packages (from optuna->python-vivid) (4.1.0)\n",
      "Requirement already satisfied: alembic in /home/penguin/conda/lib/python3.7/site-packages (from optuna->python-vivid) (1.4.2)\n",
      "Requirement already satisfied: python-editor>=0.3 in /home/penguin/conda/lib/python3.7/site-packages (from alembic->optuna->python-vivid) (1.0.4)\n",
      "Requirement already satisfied: Mako in /home/penguin/conda/lib/python3.7/site-packages (from alembic->optuna->python-vivid) (1.1.3)\n",
      "Requirement already satisfied: pbr!=2.1.0,>=2.0.0 in /home/penguin/conda/lib/python3.7/site-packages (from cliff->optuna->python-vivid) (5.4.5)\n",
      "Requirement already satisfied: PyYAML>=3.12 in /home/penguin/conda/lib/python3.7/site-packages (from cliff->optuna->python-vivid) (5.3.1)\n",
      "Requirement already satisfied: PrettyTable<0.8,>=0.7.2 in /home/penguin/conda/lib/python3.7/site-packages (from cliff->optuna->python-vivid) (0.7.2)\n",
      "Requirement already satisfied: stevedore>=1.20.0 in /home/penguin/conda/lib/python3.7/site-packages (from cliff->optuna->python-vivid) (3.0.0)\n",
      "Requirement already satisfied: cmd2!=0.8.3,>=0.8.0 in /home/penguin/conda/lib/python3.7/site-packages (from cliff->optuna->python-vivid) (1.1.0)\n",
      "Requirement already satisfied: pyperclip>=1.6 in /home/penguin/conda/lib/python3.7/site-packages (from cmd2!=0.8.3,>=0.8.0->cliff->optuna->python-vivid) (1.8.0)\n",
      "Requirement already satisfied: setuptools>=34.4 in /home/penguin/conda/lib/python3.7/site-packages (from cmd2!=0.8.3,>=0.8.0->cliff->optuna->python-vivid) (49.1.0.post20200710)\n",
      "Requirement already satisfied: attrs>=16.3.0 in /home/penguin/conda/lib/python3.7/site-packages (from cmd2!=0.8.3,>=0.8.0->cliff->optuna->python-vivid) (19.3.0)\n",
      "Requirement already satisfied: wcwidth>=0.1.7 in /home/penguin/conda/lib/python3.7/site-packages (from cmd2!=0.8.3,>=0.8.0->cliff->optuna->python-vivid) (0.2.5)\n",
      "Requirement already satisfied: colorama>=0.3.7 in /home/penguin/conda/lib/python3.7/site-packages (from cmd2!=0.8.3,>=0.8.0->cliff->optuna->python-vivid) (0.4.3)\n",
      "Requirement already satisfied: importlib-metadata>=1.7.0 in /home/penguin/conda/lib/python3.7/site-packages (from stevedore>=1.20.0->cliff->optuna->python-vivid) (1.7.0)\n",
      "Requirement already satisfied: zipp>=0.5 in /home/penguin/conda/lib/python3.7/site-packages (from importlib-metadata>=1.7.0->stevedore>=1.20.0->cliff->optuna->python-vivid) (3.1.0)\n",
      "Requirement already satisfied: MarkupSafe>=0.9.2 in /home/penguin/conda/lib/python3.7/site-packages (from Mako->alembic->optuna->python-vivid) (1.1.1)\n",
      "Requirement already satisfied: pytz>=2017.3 in /home/penguin/conda/lib/python3.7/site-packages (from pandas->python-vivid) (2020.1)\n",
      "\u001b[33mWARNING: You are using pip version 21.1.2; however, version 21.1.3 is available.\n",
      "You should consider upgrading via the '/home/penguin/conda/bin/python -m pip install --upgrade pip' command.\u001b[0m\n"
     ]
    }
   ],
   "source": [
    "!pip install python-vivid"
   ]
  },
  {
   "cell_type": "markdown",
   "metadata": {},
   "source": [
    "### 各種ディレクトリの定義"
   ]
  },
  {
   "cell_type": "code",
   "execution_count": 3,
   "metadata": {},
   "outputs": [],
   "source": [
    "dataset_root = os.environ.get('DATA_ROOT', None)\n",
    "assert dataset_root is not None\n",
    "\n",
    "input_dir = os.path.join(dataset_root, \"inputs\")\n",
    "photo_dir = os.path.join(input_dir, \"photos\")\n",
    "\n",
    "output_dir = os.path.join(dataset_root, \"outputs_tutorial#1\")\n",
    "os.makedirs(output_dir, exist_ok=True)\n",
    "\n",
    "photo_pathes = glob(os.path.join(photo_dir, \"*.jpg\"))"
   ]
  },
  {
   "cell_type": "markdown",
   "metadata": {},
   "source": [
    "## ディレクトリ構造\n",
    "\n",
    "* dataset root + /input 配下にデータが格納されるようになっています。\n",
    "* photos ディレクトリに画像が入っています。"
   ]
  },
  {
   "cell_type": "code",
   "execution_count": 4,
   "metadata": {},
   "outputs": [
    {
     "data": {
      "text/plain": [
       "['/analysis/data/atmacup11//inputs/data.zip',\n",
       " '/analysis/data/atmacup11//inputs/test.csv',\n",
       " '/analysis/data/atmacup11//inputs/techniques.csv',\n",
       " '/analysis/data/atmacup11//inputs/photos',\n",
       " '/analysis/data/atmacup11//inputs/photos.zip',\n",
       " '/analysis/data/atmacup11//inputs/train.csv',\n",
       " '/analysis/data/atmacup11//inputs/materials.csv',\n",
       " '/analysis/data/atmacup11//inputs/atmaCup#11_sample_submission.csv']"
      ]
     },
     "execution_count": 4,
     "metadata": {},
     "output_type": "execute_result"
    }
   ],
   "source": [
    "glob(dataset_root + '/inputs/*')"
   ]
  },
  {
   "cell_type": "markdown",
   "metadata": {},
   "source": [
    "## データを知る\n",
    "\n",
    "分析対象のデータはなにかをできるだけ正確に理解することがコンペでもなんでも大事です。まずはデータタブにある文章を一読しておきましょう。\n",
    "\n",
    "### 画像について\n",
    "\n",
    "画像データのメタ情報に関しては以下のようなことを確認すると良いでしょう。\n",
    "\n",
    "* 画像の大きさ (width / height)\n",
    "* チャネル数 (通常はRGBの3チャネルの構造ですが、グレースケール(白黒)の場合白か黒かの1チャネルになっている場合があります。)\n",
    "\n",
    "メタ情報と同じぐらいに大事なのが「目で見る」ことです。 (ローカルPCにダウンロードして、finder などで一度全部見てみることをおすすめします。)\n",
    "人間の目は賢いので、ぱぱっと見ているだけでパターンがほんのりと分かったりします。この知見は、モデル作成やアイディア出しの時の材料としてとても有用です。\n",
    "\n",
    "* 何が映っているか\n",
    "* ある条件ごとに映っているものの偏りはないか"
   ]
  },
  {
   "cell_type": "markdown",
   "metadata": {},
   "source": [
    "\n",
    "### 参考\n",
    "\n",
    "* [簡単なEDA](https://www.guruguru.science/competitions/17/discussions/a31f7d55-6334-4f81-98ff-e82ae3695785/) @dixhom san"
   ]
  },
  {
   "cell_type": "markdown",
   "metadata": {},
   "source": [
    "### その他のデータについて"
   ]
  },
  {
   "cell_type": "code",
   "execution_count": 5,
   "metadata": {},
   "outputs": [],
   "source": [
    "train_df = pd.read_csv(os.path.join(input_dir, 'train.csv'))\n",
    "test_df = pd.read_csv(os.path.join(input_dir, 'test.csv'))\n",
    "\n",
    "material_df = pd.read_csv(os.path.join(input_dir, 'materials.csv'))\n",
    "technique_df = pd.read_csv(os.path.join(input_dir, 'techniques.csv'))"
   ]
  },
  {
   "cell_type": "markdown",
   "metadata": {},
   "source": [
    "material / technique はデータタブに以下のような記載があります。\n",
    "\n",
    "> train.csv にある作品にのみデータが付与されています。test.csv には存在していませんので注意してください。\n",
    "\n",
    "これを確認してみましょう。"
   ]
  },
  {
   "cell_type": "code",
   "execution_count": 6,
   "metadata": {},
   "outputs": [],
   "source": [
    "from matplotlib_venn import venn2"
   ]
  },
  {
   "cell_type": "code",
   "execution_count": 7,
   "metadata": {},
   "outputs": [
    {
     "data": {
      "text/plain": [
       "<matplotlib_venn._common.VennDiagram at 0x7faa66f78c10>"
      ]
     },
     "execution_count": 7,
     "metadata": {},
     "output_type": "execute_result"
    },
    {
     "data": {
      "image/png": "[encoded data removed]",
      "text/plain": [
       "<Figure size 864x360 with 2 Axes>"
      ]
     },
     "metadata": {},
     "output_type": "display_data"
    }
   ],
   "source": [
    "input_df = technique_df\n",
    "\n",
    "fig, axes = plt.subplots(figsize=(12, 5), ncols=2)\n",
    "\n",
    "venn2(subsets=(\n",
    "    set(train_df['object_id']), set(input_df['object_id'])\n",
    "), set_labels=('train', 'input'), ax=axes[0])\n",
    "\n",
    "venn2(subsets=(\n",
    "    set(test_df['object_id']), set(input_df['object_id'])\n",
    "), set_labels=('test', 'input'), ax=axes[1])"
   ]
  },
  {
   "cell_type": "code",
   "execution_count": 8,
   "metadata": {},
   "outputs": [
    {
     "data": {
      "text/plain": [
       "<matplotlib_venn._common.VennDiagram at 0x7faa6664c6d0>"
      ]
     },
     "execution_count": 8,
     "metadata": {},
     "output_type": "execute_result"
    },
    {
     "data": {
      "image/png": "[encoded data removed]",
      "text/plain": [
       "<Figure size 864x360 with 2 Axes>"
      ]
     },
     "metadata": {},
     "output_type": "display_data"
    }
   ],
   "source": [
    "# material の場合\n",
    "input_df = material_df\n",
    "\n",
    "fig, axes = plt.subplots(figsize=(12, 5), ncols=2)\n",
    "\n",
    "venn2(subsets=(\n",
    "    set(train_df['object_id']), set(input_df['object_id'])\n",
    "), set_labels=('train', 'input'), ax=axes[0])\n",
    "\n",
    "venn2(subsets=(\n",
    "    set(test_df['object_id']), set(input_df['object_id'])\n",
    "), set_labels=('test', 'input'), ax=axes[1])"
   ]
  },
  {
   "cell_type": "markdown",
   "metadata": {},
   "source": [
    "### train.csv"
   ]
  },
  {
   "cell_type": "code",
   "execution_count": 9,
   "metadata": {},
   "outputs": [
    {
     "data": {
      "text/html": [
       "<div>\n",
       "<style scoped>\n",
       "    .dataframe tbody tr th:only-of-type {\n",
       "        vertical-align: middle;\n",
       "    }\n",
       "\n",
       "    .dataframe tbody tr th {\n",
       "        vertical-align: top;\n",
       "    }\n",
       "\n",
       "    .dataframe thead th {\n",
       "        text-align: right;\n",
       "    }\n",
       "</style>\n",
       "<table border=\"1\" class=\"dataframe\">\n",
       "  <thead>\n",
       "    <tr style=\"text-align: right;\">\n",
       "      <th></th>\n",
       "      <th>object_id</th>\n",
       "      <th>sorting_date</th>\n",
       "      <th>art_series_id</th>\n",
       "      <th>target</th>\n",
       "    </tr>\n",
       "  </thead>\n",
       "  <tbody>\n",
       "    <tr>\n",
       "      <th>0</th>\n",
       "      <td>002bff09b09998d0be65</td>\n",
       "      <td>1631</td>\n",
       "      <td>509357f67692a6a45626</td>\n",
       "      <td>1</td>\n",
       "    </tr>\n",
       "    <tr>\n",
       "      <th>1</th>\n",
       "      <td>00309fb1ef05416f9c1f</td>\n",
       "      <td>1900</td>\n",
       "      <td>7987b47bbe5dc3039179</td>\n",
       "      <td>3</td>\n",
       "    </tr>\n",
       "    <tr>\n",
       "      <th>2</th>\n",
       "      <td>003a1562e97f79ba96dc</td>\n",
       "      <td>1834</td>\n",
       "      <td>ded7c3c9636708e5b14c</td>\n",
       "      <td>3</td>\n",
       "    </tr>\n",
       "    <tr>\n",
       "      <th>3</th>\n",
       "      <td>004890880e8e7431147b</td>\n",
       "      <td>1743</td>\n",
       "      <td>582ac2d7f0cef195b605</td>\n",
       "      <td>2</td>\n",
       "    </tr>\n",
       "    <tr>\n",
       "      <th>4</th>\n",
       "      <td>00718c32602425f504c1</td>\n",
       "      <td>1885</td>\n",
       "      <td>64c907f0c08dce4fb8e8</td>\n",
       "      <td>3</td>\n",
       "    </tr>\n",
       "  </tbody>\n",
       "</table>\n",
       "</div>"
      ],
      "text/plain": [
       "              object_id  sorting_date         art_series_id  target\n",
       "0  002bff09b09998d0be65          1631  509357f67692a6a45626       1\n",
       "1  00309fb1ef05416f9c1f          1900  7987b47bbe5dc3039179       3\n",
       "2  003a1562e97f79ba96dc          1834  ded7c3c9636708e5b14c       3\n",
       "3  004890880e8e7431147b          1743  582ac2d7f0cef195b605       2\n",
       "4  00718c32602425f504c1          1885  64c907f0c08dce4fb8e8       3"
      ]
     },
     "execution_count": 9,
     "metadata": {},
     "output_type": "execute_result"
    }
   ],
   "source": [
    "train_df.head()"
   ]
  },
  {
   "cell_type": "markdown",
   "metadata": {},
   "source": [
    "`target` は年代カテゴリです。予測対象となるカラムがどういう値かはとても大事なので、今回は `target` について見ていきます。"
   ]
  },
  {
   "cell_type": "code",
   "execution_count": 10,
   "metadata": {},
   "outputs": [
    {
     "data": {
      "image/png": "[encoded data removed]",
      "text/plain": [
       "<Figure size 576x288 with 1 Axes>"
      ]
     },
     "metadata": {
      "needs_background": "light"
     },
     "output_type": "display_data"
    }
   ],
   "source": [
    "fig, ax = plt.subplots(figsize=(8, 4))\n",
    "sns.countplot(data=train_df, x='target', ax=ax)\n",
    "ax.grid()"
   ]
  },
  {
   "cell_type": "code",
   "execution_count": 11,
   "metadata": {},
   "outputs": [
    {
     "data": {
      "text/plain": [
       "0     475\n",
       "1     896\n",
       "2    1511\n",
       "3    1055\n",
       "Name: target, dtype: int64"
      ]
     },
     "execution_count": 11,
     "metadata": {},
     "output_type": "execute_result"
    }
   ],
   "source": [
    "train_df['target'].value_counts().sort_index()"
   ]
  },
  {
   "cell_type": "markdown",
   "metadata": {},
   "source": [
    "target は `sorting_date` から計算されているよ、とありますので、その関係性を見てみましょう。今回は `seaborn.boxen` plot を使いました。通常の統計量に加えて全体の分布も見れるので好きです。"
   ]
  },
  {
   "cell_type": "code",
   "execution_count": 12,
   "metadata": {},
   "outputs": [
    {
     "data": {
      "image/png": "[encoded data removed]",
      "text/plain": [
       "<Figure size 576x288 with 1 Axes>"
      ]
     },
     "metadata": {
      "needs_background": "light"
     },
     "output_type": "display_data"
    }
   ],
   "source": [
    "fig, ax = plt.subplots(figsize=(8, 4))\n",
    "sns.boxenplot(data=train_df, x='target', y='sorting_date', ax=ax)\n",
    "ax.grid()"
   ]
  },
  {
   "cell_type": "code",
   "execution_count": 13,
   "metadata": {},
   "outputs": [
    {
     "data": {
      "text/html": [
       "<div>\n",
       "<style scoped>\n",
       "    .dataframe tbody tr th:only-of-type {\n",
       "        vertical-align: middle;\n",
       "    }\n",
       "\n",
       "    .dataframe tbody tr th {\n",
       "        vertical-align: top;\n",
       "    }\n",
       "\n",
       "    .dataframe thead th {\n",
       "        text-align: right;\n",
       "    }\n",
       "</style>\n",
       "<table border=\"1\" class=\"dataframe\">\n",
       "  <thead>\n",
       "    <tr style=\"text-align: right;\">\n",
       "      <th></th>\n",
       "      <th>min</th>\n",
       "      <th>max</th>\n",
       "      <th>median</th>\n",
       "      <th>size</th>\n",
       "    </tr>\n",
       "    <tr>\n",
       "      <th>target</th>\n",
       "      <th></th>\n",
       "      <th></th>\n",
       "      <th></th>\n",
       "      <th></th>\n",
       "    </tr>\n",
       "  </thead>\n",
       "  <tbody>\n",
       "    <tr>\n",
       "      <th>0</th>\n",
       "      <td>1440</td>\n",
       "      <td>1600</td>\n",
       "      <td>1574</td>\n",
       "      <td>475</td>\n",
       "    </tr>\n",
       "    <tr>\n",
       "      <th>1</th>\n",
       "      <td>1601</td>\n",
       "      <td>1700</td>\n",
       "      <td>1655</td>\n",
       "      <td>896</td>\n",
       "    </tr>\n",
       "    <tr>\n",
       "      <th>2</th>\n",
       "      <td>1701</td>\n",
       "      <td>1800</td>\n",
       "      <td>1770</td>\n",
       "      <td>1511</td>\n",
       "    </tr>\n",
       "    <tr>\n",
       "      <th>3</th>\n",
       "      <td>1801</td>\n",
       "      <td>1991</td>\n",
       "      <td>1841</td>\n",
       "      <td>1055</td>\n",
       "    </tr>\n",
       "  </tbody>\n",
       "</table>\n",
       "</div>"
      ],
      "text/plain": [
       "         min   max  median  size\n",
       "target                          \n",
       "0       1440  1600    1574   475\n",
       "1       1601  1700    1655   896\n",
       "2       1701  1800    1770  1511\n",
       "3       1801  1991    1841  1055"
      ]
     },
     "execution_count": 13,
     "metadata": {},
     "output_type": "execute_result"
    }
   ],
   "source": [
    "# 数字を正確に知りたい場合は groupby を使いましょう。\n",
    "train_df.groupby('target')['sorting_date'].agg(['min', 'max', 'median', 'size'])"
   ]
  },
  {
   "cell_type": "markdown",
   "metadata": {},
   "source": [
    "* target と sorting_date の関係性は閾値ごとで決まっている\n",
    "* 各カテゴリごとのピークは真ん中にある (黒い棒は median を表しています)"
   ]
  },
  {
   "cell_type": "markdown",
   "metadata": {},
   "source": [
    "### test.csv\n",
    "\n",
    "テスト時には object_id 以外の情報は与えられません。\n",
    "\n",
    "* object_id は train / test でかぶっていないので、新しい画像が来てその画像の年代を推定するという問題になっていることがわかります。\n",
    "* sorting_date はもちろん technique / material に関しても test の object_id には紐付かないため予測時に直接使うことは出来ません。\n",
    "    * 出来ない例). 予測画像の技術が A なので年代は 0 だと予測する"
   ]
  },
  {
   "cell_type": "code",
   "execution_count": 14,
   "metadata": {},
   "outputs": [
    {
     "data": {
      "text/html": [
       "<div>\n",
       "<style scoped>\n",
       "    .dataframe tbody tr th:only-of-type {\n",
       "        vertical-align: middle;\n",
       "    }\n",
       "\n",
       "    .dataframe tbody tr th {\n",
       "        vertical-align: top;\n",
       "    }\n",
       "\n",
       "    .dataframe thead th {\n",
       "        text-align: right;\n",
       "    }\n",
       "</style>\n",
       "<table border=\"1\" class=\"dataframe\">\n",
       "  <thead>\n",
       "    <tr style=\"text-align: right;\">\n",
       "      <th></th>\n",
       "      <th>object_id</th>\n",
       "    </tr>\n",
       "  </thead>\n",
       "  <tbody>\n",
       "    <tr>\n",
       "      <th>0</th>\n",
       "      <td>0009e50b94be36ccad39</td>\n",
       "    </tr>\n",
       "    <tr>\n",
       "      <th>1</th>\n",
       "      <td>000bd5e82eb22f199f44</td>\n",
       "    </tr>\n",
       "    <tr>\n",
       "      <th>2</th>\n",
       "      <td>0015f44de1854f617516</td>\n",
       "    </tr>\n",
       "    <tr>\n",
       "      <th>3</th>\n",
       "      <td>00388a678879ba1efa27</td>\n",
       "    </tr>\n",
       "    <tr>\n",
       "      <th>4</th>\n",
       "      <td>005e1e7c6496902d23f3</td>\n",
       "    </tr>\n",
       "  </tbody>\n",
       "</table>\n",
       "</div>"
      ],
      "text/plain": [
       "              object_id\n",
       "0  0009e50b94be36ccad39\n",
       "1  000bd5e82eb22f199f44\n",
       "2  0015f44de1854f617516\n",
       "3  00388a678879ba1efa27\n",
       "4  005e1e7c6496902d23f3"
      ]
     },
     "execution_count": 14,
     "metadata": {},
     "output_type": "execute_result"
    }
   ],
   "source": [
    "test_df.head()"
   ]
  },
  {
   "cell_type": "markdown",
   "metadata": {},
   "source": [
    "## 画像データを使ったモデルの作成\n",
    "\n",
    "今回は pytorch を使ってモデルを作成していきます。"
   ]
  },
  {
   "cell_type": "markdown",
   "metadata": {},
   "source": [
    "### 画像データの読み込み"
   ]
  },
  {
   "cell_type": "code",
   "execution_count": 15,
   "metadata": {},
   "outputs": [],
   "source": [
    "from PIL import Image\n",
    "\n",
    "def to_img_path(object_id):\n",
    "    return os.path.join(photo_dir, f'{object_id}.jpg')\n",
    "\n",
    "def read_image(object_id):\n",
    "    return Image.open(to_img_path(object_id))"
   ]
  },
  {
   "cell_type": "code",
   "execution_count": 17,
   "metadata": {},
   "outputs": [],
   "source": [
    "img = read_image(train_df['object_id'].iat[0])"
   ]
  },
  {
   "cell_type": "code",
   "execution_count": 18,
   "metadata": {},
   "outputs": [
    {
     "data": {
      "image/png": "[encoded data removed]",
      "text/plain": [
       "<PIL.JpegImagePlugin.JpegImageFile image mode=RGB size=224x109 at 0x7FAA664831D0>"
      ]
     },
     "execution_count": 18,
     "metadata": {},
     "output_type": "execute_result"
    }
   ],
   "source": [
    "img"
   ]
  },
  {
   "cell_type": "markdown",
   "metadata": {},
   "source": [
    "### データ拡張 (data augmentation)"
   ]
  },
  {
   "cell_type": "markdown",
   "metadata": {},
   "source": [
    "画像認識などにおいては予測は入力変数がある変換を受けても変動しない性質(これを不変性と呼びます)が求められることがあります。例えば画像から数字を認識する問題であれば、数字の位置がずれている時も同じ予測値を返して欲しい (平行移動不変性を持ってほしい) です。\n",
    "\n",
    "不変性を獲得するために、データ拡張と呼ばれる方法がよく用いられます。これは入力されるデータXを少し変更した X'をモデルに入れて出力を得た時もXと同じ出力を得られるように学習をする方法です。イメージ的には、画像がちょっとぐらい変わっても予測は変わらないよねというのを学習することに対応しています。\n",
    "\n",
    "データ拡張にはいろいろな方法があります。例えば以下のような物があります。\n",
    "\n",
    "* 左右を入れ替える\n",
    "* 上下を入れ替える\n",
    "* ランダムに画像を切り出す\n",
    "* 色相を変化させる\n",
    "\n",
    "今の予測対象において求められている不変性を考えてデータ拡張を選ぶのが良いでしょう。"
   ]
  },
  {
   "cell_type": "markdown",
   "metadata": {},
   "source": [
    "### データ拡張の実装\n",
    "\n",
    "いちから実装する必要はなく大抵のものは用意されています。例えば pytorch では torchvision.transforms モジュールによく使われる拡張が実装されています。"
   ]
  },
  {
   "cell_type": "code",
   "execution_count": 19,
   "metadata": {},
   "outputs": [],
   "source": [
    "from torchvision import transforms as T"
   ]
  },
  {
   "cell_type": "code",
   "execution_count": 20,
   "metadata": {},
   "outputs": [
    {
     "data": {
      "image/png": "[encoded data removed]",
      "text/plain": [
       "<PIL.Image.Image image mode=RGB size=224x109 at 0x7FAA18098CD0>"
      ]
     },
     "execution_count": 20,
     "metadata": {},
     "output_type": "execute_result"
    }
   ],
   "source": [
    "# p は変更する確率を表しています。今は変換がされた時の値を見たいので 1 を指定しました。\n",
    "T.RandomVerticalFlip(p=1)(img)"
   ]
  },
  {
   "cell_type": "code",
   "execution_count": 21,
   "metadata": {},
   "outputs": [
    {
     "data": {
      "image/png": "[encoded data removed]",
      "text/plain": [
       "<PIL.Image.Image image mode=RGB size=224x109 at 0x7FAA1809F090>"
      ]
     },
     "execution_count": 21,
     "metadata": {},
     "output_type": "execute_result"
    }
   ],
   "source": [
    "T.RandomHorizontalFlip(p=1)(img)"
   ]
  },
  {
   "cell_type": "code",
   "execution_count": 22,
   "metadata": {},
   "outputs": [
    {
     "data": {
      "image/png": "[encoded data removed]",
      "text/plain": [
       "<PIL.Image.Image image mode=RGB size=224x109 at 0x7FAA1809FA90>"
      ]
     },
     "execution_count": 22,
     "metadata": {},
     "output_type": "execute_result"
    }
   ],
   "source": [
    "T.RandomGrayscale(1)(img)"
   ]
  },
  {
   "cell_type": "code",
   "execution_count": 23,
   "metadata": {},
   "outputs": [
    {
     "data": {
      "image/png": "[encoded data removed]",
      "text/plain": [
       "<PIL.Image.Image image mode=RGB size=224x109 at 0x7FAA180A5B50>"
      ]
     },
     "execution_count": 23,
     "metadata": {},
     "output_type": "execute_result"
    }
   ],
   "source": [
    "# 明るさ・コントラスト・彩度をランダムに変動させる\n",
    "T.ColorJitter(brightness=.3, contrast=.5, saturation=[.8, 1.3])(img)"
   ]
  },
  {
   "cell_type": "code",
   "execution_count": 24,
   "metadata": {},
   "outputs": [
    {
     "data": {
      "image/png": "[encoded data removed]",
      "text/plain": [
       "<PIL.Image.Image image mode=RGB size=200x200 at 0x7FAA18098B50>"
      ]
     },
     "execution_count": 24,
     "metadata": {},
     "output_type": "execute_result"
    }
   ],
   "source": [
    "T.RandomResizedCrop(size=(200, 200), )(img)"
   ]
  },
  {
   "cell_type": "markdown",
   "metadata": {},
   "source": [
    "学習の際には求める不変性の変換器をいくつも適用したい場合があります。この場合には T.Compose を使うと並べた順番に変換を適用してくれます。"
   ]
  },
  {
   "cell_type": "code",
   "execution_count": 25,
   "metadata": {},
   "outputs": [
    {
     "data": {
      "image/png": "[encoded data removed]",
      "text/plain": [
       "<PIL.Image.Image image mode=RGB size=224x109 at 0x7FAA66556410>"
      ]
     },
     "execution_count": 25,
     "metadata": {},
     "output_type": "execute_result"
    }
   ],
   "source": [
    "converter = T.Compose([\n",
    "    T.RandomVerticalFlip(p=1),\n",
    "    T.ColorJitter(brightness=.5, contrast=.5)\n",
    "])\n",
    "\n",
    "converter(img)"
   ]
  },
  {
   "cell_type": "markdown",
   "metadata": {},
   "source": [
    "### モデルの定義"
   ]
  },
  {
   "cell_type": "code",
   "execution_count": 26,
   "metadata": {},
   "outputs": [],
   "source": [
    "import torch\n",
    "from torchvision.models import resnet34\n",
    "from torch import nn"
   ]
  },
  {
   "cell_type": "code",
   "execution_count": 27,
   "metadata": {},
   "outputs": [],
   "source": [
    "model = resnet34(pretrained=False)"
   ]
  },
  {
   "cell_type": "code",
   "execution_count": 28,
   "metadata": {},
   "outputs": [
    {
     "data": {
      "text/plain": [
       "ResNet(\n",
       "  (conv1): Conv2d(3, 64, kernel_size=(7, 7), stride=(2, 2), padding=(3, 3), bias=False)\n",
       "  (bn1): BatchNorm2d(64, eps=1e-05, momentum=0.1, affine=True, track_running_stats=True)\n",
       "  (relu): ReLU(inplace=True)\n",
       "  (maxpool): MaxPool2d(kernel_size=3, stride=2, padding=1, dilation=1, ceil_mode=False)\n",
       "  (layer1): Sequential(\n",
       "    (0): BasicBlock(\n",
       "      (conv1): Conv2d(64, 64, kernel_size=(3, 3), stride=(1, 1), padding=(1, 1), bias=False)\n",
       "      (bn1): BatchNorm2d(64, eps=1e-05, momentum=0.1, affine=True, track_running_stats=True)\n",
       "      (relu): ReLU(inplace=True)\n",
       "      (conv2): Conv2d(64, 64, kernel_size=(3, 3), stride=(1, 1), padding=(1, 1), bias=False)\n",
       "      (bn2): BatchNorm2d(64, eps=1e-05, momentum=0.1, affine=True, track_running_stats=True)\n",
       "    )\n",
       "    (1): BasicBlock(\n",
       "      (conv1): Conv2d(64, 64, kernel_size=(3, 3), stride=(1, 1), padding=(1, 1), bias=False)\n",
       "      (bn1): BatchNorm2d(64, eps=1e-05, momentum=0.1, affine=True, track_running_stats=True)\n",
       "      (relu): ReLU(inplace=True)\n",
       "      (conv2): Conv2d(64, 64, kernel_size=(3, 3), stride=(1, 1), padding=(1, 1), bias=False)\n",
       "      (bn2): BatchNorm2d(64, eps=1e-05, momentum=0.1, affine=True, track_running_stats=True)\n",
       "    )\n",
       "    (2): BasicBlock(\n",
       "      (conv1): Conv2d(64, 64, kernel_size=(3, 3), stride=(1, 1), padding=(1, 1), bias=False)\n",
       "      (bn1): BatchNorm2d(64, eps=1e-05, momentum=0.1, affine=True, track_running_stats=True)\n",
       "      (relu): ReLU(inplace=True)\n",
       "      (conv2): Conv2d(64, 64, kernel_size=(3, 3), stride=(1, 1), padding=(1, 1), bias=False)\n",
       "      (bn2): BatchNorm2d(64, eps=1e-05, momentum=0.1, affine=True, track_running_stats=True)\n",
       "    )\n",
       "  )\n",
       "  (layer2): Sequential(\n",
       "    (0): BasicBlock(\n",
       "      (conv1): Conv2d(64, 128, kernel_size=(3, 3), stride=(2, 2), padding=(1, 1), bias=False)\n",
       "      (bn1): BatchNorm2d(128, eps=1e-05, momentum=0.1, affine=True, track_running_stats=True)\n",
       "      (relu): ReLU(inplace=True)\n",
       "      (conv2): Conv2d(128, 128, kernel_size=(3, 3), stride=(1, 1), padding=(1, 1), bias=False)\n",
       "      (bn2): BatchNorm2d(128, eps=1e-05, momentum=0.1, affine=True, track_running_stats=True)\n",
       "      (downsample): Sequential(\n",
       "        (0): Conv2d(64, 128, kernel_size=(1, 1), stride=(2, 2), bias=False)\n",
       "        (1): BatchNorm2d(128, eps=1e-05, momentum=0.1, affine=True, track_running_stats=True)\n",
       "      )\n",
       "    )\n",
       "    (1): BasicBlock(\n",
       "      (conv1): Conv2d(128, 128, kernel_size=(3, 3), stride=(1, 1), padding=(1, 1), bias=False)\n",
       "      (bn1): BatchNorm2d(128, eps=1e-05, momentum=0.1, affine=True, track_running_stats=True)\n",
       "      (relu): ReLU(inplace=True)\n",
       "      (conv2): Conv2d(128, 128, kernel_size=(3, 3), stride=(1, 1), padding=(1, 1), bias=False)\n",
       "      (bn2): BatchNorm2d(128, eps=1e-05, momentum=0.1, affine=True, track_running_stats=True)\n",
       "    )\n",
       "    (2): BasicBlock(\n",
       "      (conv1): Conv2d(128, 128, kernel_size=(3, 3), stride=(1, 1), padding=(1, 1), bias=False)\n",
       "      (bn1): BatchNorm2d(128, eps=1e-05, momentum=0.1, affine=True, track_running_stats=True)\n",
       "      (relu): ReLU(inplace=True)\n",
       "      (conv2): Conv2d(128, 128, kernel_size=(3, 3), stride=(1, 1), padding=(1, 1), bias=False)\n",
       "      (bn2): BatchNorm2d(128, eps=1e-05, momentum=0.1, affine=True, track_running_stats=True)\n",
       "    )\n",
       "    (3): BasicBlock(\n",
       "      (conv1): Conv2d(128, 128, kernel_size=(3, 3), stride=(1, 1), padding=(1, 1), bias=False)\n",
       "      (bn1): BatchNorm2d(128, eps=1e-05, momentum=0.1, affine=True, track_running_stats=True)\n",
       "      (relu): ReLU(inplace=True)\n",
       "      (conv2): Conv2d(128, 128, kernel_size=(3, 3), stride=(1, 1), padding=(1, 1), bias=False)\n",
       "      (bn2): BatchNorm2d(128, eps=1e-05, momentum=0.1, affine=True, track_running_stats=True)\n",
       "    )\n",
       "  )\n",
       "  (layer3): Sequential(\n",
       "    (0): BasicBlock(\n",
       "      (conv1): Conv2d(128, 256, kernel_size=(3, 3), stride=(2, 2), padding=(1, 1), bias=False)\n",
       "      (bn1): BatchNorm2d(256, eps=1e-05, momentum=0.1, affine=True, track_running_stats=True)\n",
       "      (relu): ReLU(inplace=True)\n",
       "      (conv2): Conv2d(256, 256, kernel_size=(3, 3), stride=(1, 1), padding=(1, 1), bias=False)\n",
       "      (bn2): BatchNorm2d(256, eps=1e-05, momentum=0.1, affine=True, track_running_stats=True)\n",
       "      (downsample): Sequential(\n",
       "        (0): Conv2d(128, 256, kernel_size=(1, 1), stride=(2, 2), bias=False)\n",
       "        (1): BatchNorm2d(256, eps=1e-05, momentum=0.1, affine=True, track_running_stats=True)\n",
       "      )\n",
       "    )\n",
       "    (1): BasicBlock(\n",
       "      (conv1): Conv2d(256, 256, kernel_size=(3, 3), stride=(1, 1), padding=(1, 1), bias=False)\n",
       "      (bn1): BatchNorm2d(256, eps=1e-05, momentum=0.1, affine=True, track_running_stats=True)\n",
       "      (relu): ReLU(inplace=True)\n",
       "      (conv2): Conv2d(256, 256, kernel_size=(3, 3), stride=(1, 1), padding=(1, 1), bias=False)\n",
       "      (bn2): BatchNorm2d(256, eps=1e-05, momentum=0.1, affine=True, track_running_stats=True)\n",
       "    )\n",
       "    (2): BasicBlock(\n",
       "      (conv1): Conv2d(256, 256, kernel_size=(3, 3), stride=(1, 1), padding=(1, 1), bias=False)\n",
       "      (bn1): BatchNorm2d(256, eps=1e-05, momentum=0.1, affine=True, track_running_stats=True)\n",
       "      (relu): ReLU(inplace=True)\n",
       "      (conv2): Conv2d(256, 256, kernel_size=(3, 3), stride=(1, 1), padding=(1, 1), bias=False)\n",
       "      (bn2): BatchNorm2d(256, eps=1e-05, momentum=0.1, affine=True, track_running_stats=True)\n",
       "    )\n",
       "    (3): BasicBlock(\n",
       "      (conv1): Conv2d(256, 256, kernel_size=(3, 3), stride=(1, 1), padding=(1, 1), bias=False)\n",
       "      (bn1): BatchNorm2d(256, eps=1e-05, momentum=0.1, affine=True, track_running_stats=True)\n",
       "      (relu): ReLU(inplace=True)\n",
       "      (conv2): Conv2d(256, 256, kernel_size=(3, 3), stride=(1, 1), padding=(1, 1), bias=False)\n",
       "      (bn2): BatchNorm2d(256, eps=1e-05, momentum=0.1, affine=True, track_running_stats=True)\n",
       "    )\n",
       "    (4): BasicBlock(\n",
       "      (conv1): Conv2d(256, 256, kernel_size=(3, 3), stride=(1, 1), padding=(1, 1), bias=False)\n",
       "      (bn1): BatchNorm2d(256, eps=1e-05, momentum=0.1, affine=True, track_running_stats=True)\n",
       "      (relu): ReLU(inplace=True)\n",
       "      (conv2): Conv2d(256, 256, kernel_size=(3, 3), stride=(1, 1), padding=(1, 1), bias=False)\n",
       "      (bn2): BatchNorm2d(256, eps=1e-05, momentum=0.1, affine=True, track_running_stats=True)\n",
       "    )\n",
       "    (5): BasicBlock(\n",
       "      (conv1): Conv2d(256, 256, kernel_size=(3, 3), stride=(1, 1), padding=(1, 1), bias=False)\n",
       "      (bn1): BatchNorm2d(256, eps=1e-05, momentum=0.1, affine=True, track_running_stats=True)\n",
       "      (relu): ReLU(inplace=True)\n",
       "      (conv2): Conv2d(256, 256, kernel_size=(3, 3), stride=(1, 1), padding=(1, 1), bias=False)\n",
       "      (bn2): BatchNorm2d(256, eps=1e-05, momentum=0.1, affine=True, track_running_stats=True)\n",
       "    )\n",
       "  )\n",
       "  (layer4): Sequential(\n",
       "    (0): BasicBlock(\n",
       "      (conv1): Conv2d(256, 512, kernel_size=(3, 3), stride=(2, 2), padding=(1, 1), bias=False)\n",
       "      (bn1): BatchNorm2d(512, eps=1e-05, momentum=0.1, affine=True, track_running_stats=True)\n",
       "      (relu): ReLU(inplace=True)\n",
       "      (conv2): Conv2d(512, 512, kernel_size=(3, 3), stride=(1, 1), padding=(1, 1), bias=False)\n",
       "      (bn2): BatchNorm2d(512, eps=1e-05, momentum=0.1, affine=True, track_running_stats=True)\n",
       "      (downsample): Sequential(\n",
       "        (0): Conv2d(256, 512, kernel_size=(1, 1), stride=(2, 2), bias=False)\n",
       "        (1): BatchNorm2d(512, eps=1e-05, momentum=0.1, affine=True, track_running_stats=True)\n",
       "      )\n",
       "    )\n",
       "    (1): BasicBlock(\n",
       "      (conv1): Conv2d(512, 512, kernel_size=(3, 3), stride=(1, 1), padding=(1, 1), bias=False)\n",
       "      (bn1): BatchNorm2d(512, eps=1e-05, momentum=0.1, affine=True, track_running_stats=True)\n",
       "      (relu): ReLU(inplace=True)\n",
       "      (conv2): Conv2d(512, 512, kernel_size=(3, 3), stride=(1, 1), padding=(1, 1), bias=False)\n",
       "      (bn2): BatchNorm2d(512, eps=1e-05, momentum=0.1, affine=True, track_running_stats=True)\n",
       "    )\n",
       "    (2): BasicBlock(\n",
       "      (conv1): Conv2d(512, 512, kernel_size=(3, 3), stride=(1, 1), padding=(1, 1), bias=False)\n",
       "      (bn1): BatchNorm2d(512, eps=1e-05, momentum=0.1, affine=True, track_running_stats=True)\n",
       "      (relu): ReLU(inplace=True)\n",
       "      (conv2): Conv2d(512, 512, kernel_size=(3, 3), stride=(1, 1), padding=(1, 1), bias=False)\n",
       "      (bn2): BatchNorm2d(512, eps=1e-05, momentum=0.1, affine=True, track_running_stats=True)\n",
       "    )\n",
       "  )\n",
       "  (avgpool): AdaptiveAvgPool2d(output_size=(1, 1))\n",
       "  (fc): Linear(in_features=512, out_features=1000, bias=True)\n",
       ")"
      ]
     },
     "execution_count": 28,
     "metadata": {},
     "output_type": "execute_result"
    }
   ],
   "source": [
    "model"
   ]
  },
  {
   "cell_type": "code",
   "execution_count": 29,
   "metadata": {},
   "outputs": [],
   "source": [
    "converter = T.Compose([\n",
    "    T.RandomVerticalFlip(p=1),\n",
    "    T.ColorJitter(brightness=.5, contrast=.5),\n",
    "    T.ToTensor()\n",
    "])"
   ]
  },
  {
   "cell_type": "code",
   "execution_count": 30,
   "metadata": {},
   "outputs": [],
   "source": [
    "x = converter(img)"
   ]
  },
  {
   "cell_type": "code",
   "execution_count": 31,
   "metadata": {},
   "outputs": [
    {
     "data": {
      "text/plain": [
       "PIL.JpegImagePlugin.JpegImageFile"
      ]
     },
     "execution_count": 31,
     "metadata": {},
     "output_type": "execute_result"
    }
   ],
   "source": [
    "type(img)"
   ]
  },
  {
   "cell_type": "code",
   "execution_count": 32,
   "metadata": {},
   "outputs": [
    {
     "data": {
      "text/plain": [
       "torch.Tensor"
      ]
     },
     "execution_count": 32,
     "metadata": {},
     "output_type": "execute_result"
    }
   ],
   "source": [
    "type(x)"
   ]
  },
  {
   "cell_type": "code",
   "execution_count": 33,
   "metadata": {},
   "outputs": [
    {
     "data": {
      "text/plain": [
       "torch.Size([3, 109, 224])"
      ]
     },
     "execution_count": 33,
     "metadata": {},
     "output_type": "execute_result"
    }
   ],
   "source": [
    "x.shape"
   ]
  },
  {
   "cell_type": "code",
   "execution_count": 34,
   "metadata": {},
   "outputs": [
    {
     "data": {
      "text/plain": [
       "torch.Size([1, 3, 109, 224])"
      ]
     },
     "execution_count": 34,
     "metadata": {},
     "output_type": "execute_result"
    }
   ],
   "source": [
    "x.unsqueeze(0).shape"
   ]
  },
  {
   "cell_type": "code",
   "execution_count": 35,
   "metadata": {},
   "outputs": [],
   "source": [
    "output = model(x.unsqueeze(0))"
   ]
  },
  {
   "cell_type": "code",
   "execution_count": 36,
   "metadata": {},
   "outputs": [
    {
     "data": {
      "text/plain": [
       "torch.Size([1, 1000])"
      ]
     },
     "execution_count": 36,
     "metadata": {},
     "output_type": "execute_result"
    }
   ],
   "source": [
    "output.shape"
   ]
  },
  {
   "cell_type": "markdown",
   "metadata": {},
   "source": [
    "タスクの出力は年代の1次元なので最終層を書き換えておきましょう。"
   ]
  },
  {
   "cell_type": "code",
   "execution_count": 37,
   "metadata": {},
   "outputs": [],
   "source": [
    "model.fc = nn.Linear(in_features=512, out_features=1, bias=True)"
   ]
  },
  {
   "cell_type": "code",
   "execution_count": 38,
   "metadata": {},
   "outputs": [
    {
     "data": {
      "text/plain": [
       "tensor([[0.5594]], grad_fn=<AddmmBackward>)"
      ]
     },
     "execution_count": 38,
     "metadata": {},
     "output_type": "execute_result"
    }
   ],
   "source": [
    "model(x.unsqueeze(0))"
   ]
  },
  {
   "cell_type": "markdown",
   "metadata": {},
   "source": [
    "## 学習のスキームを定義する\n",
    "\n",
    "これでモデルを使って予測値を出力することは出来るようになりました! ただ今のままでは単なるランダムな出力になっていますので、これをデータに合わせて「あるデータXを入れた時は、Xの年代yを出力する」ように修正していく必要があります。ざっと流れを書くと以下のようになります。\n",
    "\n",
    "1. 入力データ x をモデルに入れて出力 z を作成\n",
    "2. x に対応する正解ラベル y と z を目的関数に入れてどのぐらいずれいているか(loss)を計算\n",
    "3. lossの情報を元にして最適化手法によってモデルを更新\n",
    "\n",
    "### 目的関数の定義\n",
    "\n",
    "2 のフェーズで予測した値がどのぐらい良いのか悪いのか(loss)を数値的に判断する必要があります。このlossを算出する関数を目的関数 (Objective) とよびます (criterion という変数名で定義することが多いです)。今回のコンペの指標は RMSE ですのでこれに合わせて MSELoss を使います。"
   ]
  },
  {
   "cell_type": "code",
   "execution_count": 39,
   "metadata": {},
   "outputs": [],
   "source": [
    "criterion = nn.MSELoss()"
   ]
  },
  {
   "cell_type": "code",
   "execution_count": 40,
   "metadata": {},
   "outputs": [
    {
     "data": {
      "text/plain": [
       "49"
      ]
     },
     "execution_count": 40,
     "metadata": {},
     "output_type": "execute_result"
    }
   ],
   "source": [
    "(3 - 10) ** 2"
   ]
  },
  {
   "cell_type": "code",
   "execution_count": 41,
   "metadata": {},
   "outputs": [
    {
     "data": {
      "text/plain": [
       "tensor(49.)"
      ]
     },
     "execution_count": 41,
     "metadata": {},
     "output_type": "execute_result"
    }
   ],
   "source": [
    "criterion(torch.Tensor([3]), torch.Tensor([10]))"
   ]
  },
  {
   "cell_type": "markdown",
   "metadata": {},
   "source": [
    "### 最適化手法の定義\n",
    "\n",
    "目的関数で今の良さ悪さは判定できました。次に必要なのがその情報をつかってモデルをどのように修正するか、のやり方です。このやり方のことを最適化手法 (Optimizer) とよびます。現在の NN では確率的勾配法 (SGD) をベースとした最適化手法を使うことが多いです。\n",
    "\n",
    "![](https://ruder.io/content/images/2016/09/contours_evaluation_optimizers.gif)\n",
    "\n",
    "上記はSGDの動きを可視化したものです。等高線が目的関数の値で、これが小さいところを探しています。\n",
    "\n",
    "最適化手法は多数提案されてて、任意のタスクに対してこれが一番と決まったものがないのですが最近では Adam や AdamW などが使われることが多いようです。今回は Adam をつかって行きます。\n",
    "\n",
    "#### 参考文献\n",
    "\n",
    "* [実務で使えるニューラルネットワークの最適化手法](https://acro-engineer.hatenablog.com/entry/2019/12/25/130000)\n",
    "* [確率的勾配法のはなし](https://speakerdeck.com/nyk510/que-lu-de-gou-pei-fa-falsehanasi)\n",
    "    * 僕のスライドです。sgd が何をやっているのか, adam とは何が違うかについてざっくりと説明しています。"
   ]
  },
  {
   "cell_type": "code",
   "execution_count": 42,
   "metadata": {},
   "outputs": [],
   "source": [
    "from torch.optim import Adam\n",
    "\n",
    "# 最適化手法の定義. どのモデルのパラメータを更新したいか、を第一引数にする\n",
    "# lr は learning_rate の略. 正解はないのですが adam だと 1e-3 などが使われることが多いです\n",
    "optimizer = Adam(params=model.parameters(), lr=1e-3)"
   ]
  },
  {
   "cell_type": "markdown",
   "metadata": {},
   "source": [
    "### 学習をする\n",
    "\n",
    "では実際に学習を行ってみましょう! 流れは上記で紹介したとおりです。"
   ]
  },
  {
   "cell_type": "code",
   "execution_count": 43,
   "metadata": {},
   "outputs": [
    {
     "name": "stdout",
     "output_type": "stream",
     "text": [
      "0.18765418231487274\n"
     ]
    }
   ],
   "source": [
    "# 1. データを torch.Tensor の形式で用意\n",
    "x = converter(img)\n",
    "x = x.unsqueeze(0)\n",
    "\n",
    "label = train_df['target'].iat[0]\n",
    "label = torch.Tensor([label])\n",
    "label = label.reshape(-1, 1)\n",
    "\n",
    "# 2. モデルに入れて loss を objective で計算\n",
    "output = model(x)\n",
    "loss = criterion(output, label)\n",
    "\n",
    "# 3. loss から optimizer が model を更新\n",
    "\n",
    "# zero_grad は今ある勾配の情報をリセットする関数. このあとに計算される勾配を元にして最適化される\n",
    "optimizer.zero_grad()\n",
    "\n",
    "# loss から勾配を計算\n",
    "loss.backward()\n",
    "\n",
    "# 最適化ステップを一つすすめる\n",
    "optimizer.step()\n",
    "\n",
    "print(loss.item())"
   ]
  },
  {
   "cell_type": "markdown",
   "metadata": {},
   "source": [
    "### 学習を関数化する"
   ]
  },
  {
   "cell_type": "markdown",
   "metadata": {},
   "source": [
    "さあ、これで学習をすすめることは出来るようになりました。がこのままだといちいち画像をとってきてそれをモデルに入れてなど大変です。また上記では簡単のため画像1枚だけでステップをすすめましたが、通常は複数枚同時にロスを計算する場合が多いですが、それをいちいち自分で実装していると大変です。(ちなみにですがこの一つの塊をミニバッチ (mini-batch) とよびます。)\n",
    "\n",
    "幸いなことに pytorch ではデータ読み出し等に関する便利なクラスが用意されていますので、それを使っていきましょう。"
   ]
  },
  {
   "cell_type": "markdown",
   "metadata": {},
   "source": [
    "#### torch.utils.data.DataSet の活用\n",
    "\n",
    "いろいろと書いていますが基本的に必要なのは `__getitem__` と `__len__` の2つです。\n",
    "\n",
    "ひとつ目の `___getitem__` は index の int を引数にとって、その時のデータを返す関数とする必要があります。以下では画像を変換したものと、その正解ラベルを変換しています。\n",
    "\n",
    "ふたつ目の `__len__` は `len` を呼ばれた時の長さを返すものです。これによってこのデータの長さを外部から参照できるため、たとえば「データ全部を見終わったら終わりにする」といった処理を、このクラスの外側で書くことが出来ます。"
   ]
  },
  {
   "cell_type": "code",
   "execution_count": 44,
   "metadata": {},
   "outputs": [],
   "source": [
    "from torch.utils import data\n",
    "\n",
    "IMG_MEAN = [0.485, 0.456, 0.406]\n",
    "IMG_STD = [0.229, 0.224, 0.225]\n",
    "\n",
    "class AtmaDataset(data.Dataset):\n",
    "    \"\"\"atmaCup用にデータ読み込み等を行なうデータ・セット\"\"\"\n",
    "    object_path_key = \"object_path\"\n",
    "    label_key = \"target\"\n",
    "\n",
    "    @property\n",
    "    def meta_keys(self):\n",
    "        retval = [self.object_path_key]\n",
    "\n",
    "        if self.is_train:\n",
    "            retval += [self.label_key]\n",
    "\n",
    "        return retval\n",
    "\n",
    "    def __init__(self, meta_df: pd.DataFrame, is_train=True):\n",
    "        \"\"\"\n",
    "        args:\n",
    "            meta_df: \n",
    "                画像へのパスと label 情報が含まれている dataframe\n",
    "                必ず object_path に画像へのパス, target に正解ラベルが入っている必要があります\n",
    "            \n",
    "            is_train:\n",
    "                True のとき学習用のデータ拡張を適用します.\n",
    "                False の時は単に size にリサイズを行います\n",
    "        \"\"\"\n",
    "\n",
    "        self.is_train = is_train\n",
    "        for k in self.meta_keys:\n",
    "            if k not in meta_df:\n",
    "                raise ValueError(\"meta df must have {}\".format(k))\n",
    "\n",
    "        self.meta_df = meta_df.reset_index(drop=True)\n",
    "        self.index_to_data = self.meta_df.to_dict(orient=\"index\")\n",
    "\n",
    "        size = (224, 224)\n",
    "\n",
    "        additional_items = (\n",
    "            [T.Resize(size)]\n",
    "            if not is_train\n",
    "            else [\n",
    "                T.RandomGrayscale(p=0.2),\n",
    "                T.RandomVerticalFlip(),\n",
    "                T.RandomHorizontalFlip(),\n",
    "                T.ColorJitter(\n",
    "                    brightness=0.3,\n",
    "                    contrast=0.5,\n",
    "                    saturation=[0.8, 1.3],\n",
    "                    hue=[-0.05, 0.05],\n",
    "                ),\n",
    "                T.RandomResizedCrop(size),\n",
    "            ]\n",
    "        )\n",
    "\n",
    "        self.transformer = T.Compose(\n",
    "            [*additional_items, T.ToTensor(), T.Normalize(mean=IMG_MEAN, std=IMG_STD)]\n",
    "        )\n",
    "\n",
    "    def __getitem__(self, index):\n",
    "        data = self.index_to_data[index]\n",
    "\n",
    "        obj_path, label = data.get(self.object_path_key), data.get(self.label_key, -1)\n",
    "        img = Image.open(obj_path)\n",
    "        img = self.transformer(img)\n",
    "        return img, label\n",
    "\n",
    "    def __len__(self):\n",
    "        return len(self.meta_df)"
   ]
  },
  {
   "cell_type": "code",
   "execution_count": 45,
   "metadata": {},
   "outputs": [],
   "source": [
    "train_meta_df = train_df[['target', 'object_id']].copy()\n",
    "train_meta_df['object_path'] = train_meta_df['object_id'].map(to_img_path)\n",
    "\n",
    "dataset = AtmaDataset(meta_df=train_meta_df)"
   ]
  },
  {
   "cell_type": "markdown",
   "metadata": {},
   "source": [
    "また dataset をミニバッチ化して for 文で廻せるようにしてくれる DataLoader というクラスもあります。DataLoader クラスは iterator なため `for .... in data_loader` という書き方でミニバッチをどんどんと生成してくれます。また、単にミニバッチを作成してくれるだけでなく並列処理もやってくれて便利です。"
   ]
  },
  {
   "cell_type": "code",
   "execution_count": 46,
   "metadata": {},
   "outputs": [],
   "source": [
    "# この場合同時に 54 個の画像に対応した tensor と label が作られる\n",
    "loader = data.DataLoader(dataset=dataset, batch_size=54, num_workers=4)"
   ]
  },
  {
   "cell_type": "markdown",
   "metadata": {},
   "source": [
    "ちょっと for の中身でどうなるかを確認してみましょう。"
   ]
  },
  {
   "cell_type": "code",
   "execution_count": 47,
   "metadata": {},
   "outputs": [],
   "source": [
    "for x_tensor, y in loader:\n",
    "    break"
   ]
  },
  {
   "cell_type": "code",
   "execution_count": 48,
   "metadata": {},
   "outputs": [
    {
     "data": {
      "text/plain": [
       "(torch.Size([54, 3, 224, 224]), torch.Size([54]))"
      ]
     },
     "execution_count": 48,
     "metadata": {},
     "output_type": "execute_result"
    }
   ],
   "source": [
    "# 最初の次元が先に設定した 54 になっている\n",
    "x_tensor.shape, y.shape"
   ]
  },
  {
   "cell_type": "markdown",
   "metadata": {},
   "source": [
    "### 学習関数の実装"
   ]
  },
  {
   "cell_type": "code",
   "execution_count": 49,
   "metadata": {},
   "outputs": [],
   "source": [
    "# CUDA を使うので確認. google colab の場合 GPU accelerator をオンにしておいてください\n",
    "assert torch.cuda.is_available()\n",
    "\n",
    "DEVICE = torch.device(\"cuda\")"
   ]
  },
  {
   "cell_type": "code",
   "execution_count": 50,
   "metadata": {},
   "outputs": [],
   "source": [
    "from torch.optim.optimizer import Optimizer\n",
    "from collections import defaultdict\n",
    "\n",
    "def train(\n",
    "    model: nn.Module,\n",
    "    optimizer: Optimizer,\n",
    "    train_loader: data.DataLoader\n",
    ") -> pd.Series:\n",
    "\n",
    "    # train にすることで model 内の学習時にのみ有効な機構が有効になります (Dropouts Layers、BatchNorm Layers...)\n",
    "    model.train()\n",
    "    \n",
    "    criterion = nn.MSELoss()\n",
    "\n",
    "    # ロスの値を保存する用に dict を用意\n",
    "    metrics = defaultdict(float)\n",
    "    n_iters = len(train_loader)\n",
    "    \n",
    "    for i, (x_i, y_i) in enumerate(train_loader):\n",
    "        x_i = x_i.to(DEVICE)\n",
    "        y_i = y_i.to(DEVICE).reshape(-1, 1).float()\n",
    "\n",
    "        output = model(x_i)\n",
    "        loss = criterion(output, y_i)\n",
    "\n",
    "        optimizer.zero_grad()\n",
    "        loss.backward()\n",
    "        optimizer.step()\n",
    "\n",
    "        metric_i = {\n",
    "            # loss は tensor object なので item をつかって python object に戻す\n",
    "            \"loss\": loss.item()\n",
    "        }\n",
    "        for k, v in metric_i.items():\n",
    "            metrics[k] += v\n",
    "\n",
    "    for k, v in metrics.items():\n",
    "        metrics[k] /= n_iters\n",
    "\n",
    "    return pd.Series(metrics).add_prefix(\"train_\")"
   ]
  },
  {
   "cell_type": "markdown",
   "metadata": {},
   "source": [
    "上記を使うと学習は以下のように書くことが出来ます。"
   ]
  },
  {
   "cell_type": "code",
   "execution_count": 52,
   "metadata": {},
   "outputs": [
    {
     "name": "stdout",
     "output_type": "stream",
     "text": [
      "train: epoch=1 13.904[s]\n",
      "train_loss    2.29936\n",
      "dtype: float64\n"
     ]
    }
   ],
   "source": [
    "from vivid.utils import timer\n",
    "\n",
    "n_epochs = 10\n",
    "\n",
    "# GPU 環境で学習するため変換. この呼び出しは破壊的\n",
    "model.to(DEVICE)\n",
    "optimizer = Adam(params=model.parameters(), lr=1e-3)\n",
    "\n",
    "for epoch in range(1, n_epochs + 1):\n",
    "    \n",
    "    with timer(prefix=\"train: epoch={}\".format(epoch)):\n",
    "        score_train = train(\n",
    "            model, optimizer, train_loader=loader\n",
    "        )\n",
    "    print(score_train)\n",
    "    \n",
    "    break"
   ]
  },
  {
   "cell_type": "markdown",
   "metadata": {},
   "source": [
    "## モデル作成の基本的な考え方\n",
    "\n",
    "さて学習の枠組みは完成しましたが一般にはこれに検証のフェーズを組み込んで学習をします。この時大事になるのが交差検証 (Cross Validation) という考え方です。\n",
    "\n",
    "### 交差検証によるモデルの性能見積もり\n",
    "\n",
    "交差検証 (Cross Validation) とは学習用のデータセットを複数に分割してそれぞれの分割で学習・検証のデータセットを作り、モデルの性能を見積もる枠組みのことです。\n",
    "\n",
    "### 交差検証はなぜ必要か\n",
    "\n",
    "なぜわざわざ分割するの? (そのまま全部学習で使っちゃえばいいじゃない?) と思われるのが普通だと思います。なぜ分割するかというと学習データの中で今の枠組みの性能(枠組みと言っているのは特徴量・モデルの構成もろもろ全部が含まれるためです)を評価したいからです。手元で評価ができないとLBに出してみて一喜一憂するしかなくなり、結果publicLBにオーバーフィットしてしまうのでよろしくないです。"
   ]
  },
  {
   "cell_type": "markdown",
   "metadata": {},
   "source": [
    "検証のためのデータ分割手法は sklearn.model_selection モジュールに定義されています。今回はもっとも単純な KFold を使って学習を行います。\n",
    "\n",
    "### NOTE: データ分割の方法は重要です\n",
    "\n",
    "分割方法はモデルの性能の見積もりにもっとも密接に関わりますので今後予測する状態を考えて慎重に選択する必要があります。例えば天気予報をしたい(未来の予測をしたい)のにもかかわらず、日付を考慮せずに KFold したとします。この場合、学習データに前日と次の日の天気があって、その真ん中の日を予測するような条件が発生する可能性があります。この場合検証のスコアは実際に天気予報を運用した時に得られないことはわかるでしょう。この場合ある時刻を基準として過去・未来で分割することが必要です。\n",
    "\n",
    "今回のコンペティションにおいても train / test がどう分かれているかを考慮して、それを交差検証の分割にも反映しより正確にモデルの性能を見積もると良いでしょう。(が今回は触れません) [CV vs LB](https://www.guruguru.science/competitions/17/discussions/f1c8c1d7-7698-4ac0-9982-10e35952ff6e/) のスレッドで分割方法を記載している方もいますので、そちらも参考にすると良いかもしれません。"
   ]
  },
  {
   "cell_type": "markdown",
   "metadata": {},
   "source": [
    "![kfold](https://scikit-learn.org/stable/_images/sphx_glr_plot_cv_indices_0041.png)"
   ]
  },
  {
   "cell_type": "code",
   "execution_count": 53,
   "metadata": {},
   "outputs": [],
   "source": [
    "from sklearn.model_selection import KFold\n",
    "\n",
    "fold = KFold(n_splits=5, shuffle=True, random_state=510)\n",
    "cv = list(fold.split(X=train_df, y=train_df['target']))"
   ]
  },
  {
   "cell_type": "markdown",
   "metadata": {},
   "source": [
    "fold 内の train / valid の確認"
   ]
  },
  {
   "cell_type": "code",
   "execution_count": 66,
   "metadata": {},
   "outputs": [
    {
     "data": {
      "text/plain": [
       "(3149, 788)"
      ]
     },
     "execution_count": 66,
     "metadata": {},
     "output_type": "execute_result"
    }
   ],
   "source": [
    "idx_tr, idx_val = cv[0]\n",
    "\n",
    "len(idx_tr), len(idx_val)"
   ]
  },
  {
   "cell_type": "code",
   "execution_count": 69,
   "metadata": {},
   "outputs": [
    {
     "data": {
      "text/plain": [
       "<matplotlib_venn._common.VennDiagram at 0x7faa664fa790>"
      ]
     },
     "execution_count": 69,
     "metadata": {},
     "output_type": "execute_result"
    },
    {
     "data": {
      "image/png": "[encoded data removed]",
      "text/plain": [
       "<Figure size 432x288 with 1 Axes>"
      ]
     },
     "metadata": {},
     "output_type": "display_data"
    }
   ],
   "source": [
    "# train / valid で index の重複はない\n",
    "venn2(subsets=(set(idx_tr), set(idx_val)), set_labels=('train', 'valid'))"
   ]
  },
  {
   "cell_type": "markdown",
   "metadata": {},
   "source": [
    "### note:\n",
    "\n",
    "場合によっては fold すべての学習せず、最初の fold のみで検証する場合があります。こうすることで、見積もりの正確性は落ちますが、たくさんの実験パターンを実行できるというメリットがあります。特に一つの fold の学習にとても時間がかかる場合、実験条件のPDCAを回す速度を優先して fold を削ることがあります。\n",
    "\n",
    "たとえば最初の fold だけで考えるよ〜という時は以下のコードを埋め込みましょう。\n",
    "\n",
    "```python\n",
    "# 最初の fold だけで考える\n",
    "cv = cv[:1]\n",
    "```"
   ]
  },
  {
   "cell_type": "markdown",
   "metadata": {},
   "source": [
    "### 検証フェーズの実装\n",
    "\n",
    "検証用データでのスコア確認をするためにいくつか関数を実装します。\n",
    "\n",
    "* predict: 与えられたデータ (data-loader) に対しての予測値を計算\n",
    "* valid: 与えられたモデル・データローダを使って検証フェーズを実行。スコアの dict と予測した値を返す"
   ]
  },
  {
   "cell_type": "code",
   "execution_count": 56,
   "metadata": {},
   "outputs": [],
   "source": [
    "# from vivid.metrics import regression_metrics\n",
    "from sklearn.metrics import mean_squared_error\n",
    "\n",
    "\n",
    "def predict(model: nn.Module, loader: data.DataLoader) -> np.ndarray:\n",
    "    # train とは逆で model 内の学習時にのみ有効な機構がオフになります (Dropouts Layers、BatchNorm Layers...)\n",
    "    model.eval()\n",
    "    \n",
    "    predicts = []\n",
    "    \n",
    "    for x_i, y_i in loader:\n",
    "        \n",
    "        # 明示的に勾配を計算しないように指定することができます. \n",
    "        # この関数ではモデルの更新はせずに単に出力だけを使いますので勾配は不要です.\n",
    "        with torch.no_grad():\n",
    "            output = model(x_i.to(DEVICE))\n",
    "\n",
    "        predicts.extend(output.data.cpu().numpy())\n",
    "\n",
    "    pred = np.array(predicts).reshape(-1)\n",
    "    return pred\n",
    "\n",
    "\n",
    "def calculate_metrics(y_true, y_pred) -> dict:\n",
    "    \"\"\"正解ラベルと予測ラベルから指標を計算する\"\"\"\n",
    "    # return regression_metrics(y_true, y_pred)\n",
    "    \n",
    "    return {\n",
    "        'rmse': mean_squared_error(y_true, y_pred) ** .5\n",
    "    }\n",
    "\n",
    "\n",
    "def valid(\n",
    "    model: nn.Module, \n",
    "    y_valid: np.ndarray, \n",
    "    valid_loader: data.DataLoader\n",
    ") -> pd.Series:\n",
    "    \"\"\"検証フェーズ\n",
    "    与えられたモデル・データローダを使って検証フェーズを実行。スコアの dict と予測した値を返す\n",
    "    \"\"\"\n",
    "    \n",
    "    pred = predict(model, valid_loader)\n",
    "    score = calculate_metrics(y_valid, pred)\n",
    "    \n",
    "    valid_score = pd.Series(score)\n",
    "    return valid_score.add_prefix(\"valid_\"), pred"
   ]
  },
  {
   "cell_type": "code",
   "execution_count": 57,
   "metadata": {},
   "outputs": [],
   "source": [
    "from tabulate import tabulate\n",
    "\n",
    "\n",
    "def run_fold(\n",
    "    model: nn.Module, \n",
    "    train_df: pd.DataFrame, \n",
    "    valid_df: pd.DataFrame, \n",
    "    y_valid: np.ndarray, \n",
    "    output_dir: str, \n",
    "    n_epochs=30) -> np.ndarray:\n",
    "    \"\"\"\n",
    "    train / valid に分割されたデータで学習と同時に検証を行なう\n",
    "    \"\"\"\n",
    "    \n",
    "    os.makedirs(output_i, exist_ok=True)\n",
    "    \n",
    "    # 0: 前準備. dataframe から data loader を作成\n",
    "    train_dataset = AtmaDataset(meta_df=train_df)\n",
    "    # 検証用の方は is_train=False にしてデータ拡張オフにする\n",
    "    valid_dataset = AtmaDataset(meta_df=valid_df, is_train=False)\n",
    "\n",
    "    train_loader = data.DataLoader(\n",
    "        train_dataset, batch_size=64, shuffle=True, drop_last=True, num_workers=4\n",
    "    )\n",
    "    valid_loader = data.DataLoader(valid_dataset, batch_size=256, num_workers=4)\n",
    "\n",
    "    # --- 保存のための変数定義\n",
    "    score_df = pd.DataFrame()\n",
    "    valid_score = np.inf\n",
    "    valid_score_key = \"valid_rmse\"\n",
    "    valid_best_pred = None\n",
    "    \n",
    "    for epoch in range(1, n_epochs + 1):\n",
    "        print(f'start {epoch}')\n",
    "        \n",
    "        # 1: 学習用データで学習を実行。学習時のロスを取得\n",
    "        with timer(prefix=\"train: epoch={}\".format(epoch)):\n",
    "            score_train = train(\n",
    "                model, optimizer, train_loader\n",
    "            )\n",
    "\n",
    "        # 2: 検証データでのスコアを計算\n",
    "        with timer(prefix=\"validate\"):\n",
    "            score_valid, y_valid_pred = valid(model=model, valid_loader=valid_loader, y_valid=y_valid)\n",
    "            \n",
    "            \n",
    "        # --- 学習のロスと検証スコアの値をデータフレームに追加\n",
    "        row = pd.concat([score_train, score_valid])\n",
    "        row[\"epoch\"] = epoch\n",
    "        row = pd.DataFrame([row])\n",
    "        print(tabulate(row, headers=row.columns))\n",
    "        score_df = pd.concat([score_df, row], ignore_index=True)\n",
    "        # ---\n",
    "        \n",
    "        # 今の検証スコアと過去最高のスコアを比較\n",
    "        current_score = score_valid[valid_score_key]\n",
    "        if current_score < valid_score:\n",
    "            # スコア改善したときモデルを保存する\n",
    "            print(f'validation score is improved!! {valid_score:.4f} -> {current_score:.4f}')\n",
    "            torch.save(\n",
    "                model.state_dict(), os.path.join(output_dir, 'model_best.pth')\n",
    "            )\n",
    "            valid_best_pred = y_valid_pred\n",
    "    \n",
    "    score_df.to_csv(os.path.join(output_dir, 'score.csv'), index=False)\n",
    "    return y_valid_pred"
   ]
  },
  {
   "cell_type": "markdown",
   "metadata": {},
   "source": [
    "### CrossValidationの枠組みで学習の実行\n",
    "\n",
    "cv ごとに train / valid を区切って学習を行います。`train_meta_df` を iloc をつかって cv の train / valid に分割していることに注意してください。"
   ]
  },
  {
   "cell_type": "code",
   "execution_count": 58,
   "metadata": {},
   "outputs": [
    {
     "name": "stdout",
     "output_type": "stream",
     "text": [
      "start 1\n",
      "train: epoch=1 10.489[s]\n",
      "validate 1.569[s]\n",
      "      train_loss    valid_rmse    epoch\n",
      "--  ------------  ------------  -------\n",
      " 0       3.46222       1.87201        1\n",
      "validation score is improved!! inf -> 1.8720\n",
      "start 1\n",
      "train: epoch=1 10.508[s]\n",
      "validate 1.753[s]\n",
      "      train_loss    valid_rmse    epoch\n",
      "--  ------------  ------------  -------\n",
      " 0       7.28837       2.51989        1\n",
      "validation score is improved!! inf -> 2.5199\n",
      "start 1\n",
      "train: epoch=1 11.065[s]\n",
      "validate 1.815[s]\n",
      "      train_loss    valid_rmse    epoch\n",
      "--  ------------  ------------  -------\n",
      " 0       3.42927       1.85707        1\n",
      "validation score is improved!! inf -> 1.8571\n",
      "start 1\n",
      "train: epoch=1 10.612[s]\n",
      "validate 1.732[s]\n",
      "      train_loss    valid_rmse    epoch\n",
      "--  ------------  ------------  -------\n",
      " 0        5.9048       2.41774        1\n",
      "validation score is improved!! inf -> 2.4177\n",
      "start 1\n",
      "train: epoch=1 10.365[s]\n",
      "validate 1.495[s]\n",
      "      train_loss    valid_rmse    epoch\n",
      "--  ------------  ------------  -------\n",
      " 0        5.6133        2.1623        1\n",
      "validation score is improved!! inf -> 2.1623\n"
     ]
    }
   ],
   "source": [
    "def get_output_dir(n_cv: int):\n",
    "    return os.path.join(output_dir, 'simple_resnet', f'cv={n_cv}')\n",
    "\n",
    "oof = np.zeros((len(train_df), ), dtype=np.float32)\n",
    "\n",
    "for i, (idx_tr, idx_valid) in enumerate(cv):\n",
    "    output_i = get_output_dir(i)\n",
    "    model = resnet34(pretrained=False)\n",
    "    model.fc = nn.Linear(in_features=512, out_features=1, bias=True)\n",
    "    \n",
    "    model.to(DEVICE)\n",
    "    \n",
    "    oof_i = run_fold(\n",
    "        model=model, \n",
    "        train_df=train_meta_df.iloc[idx_tr], \n",
    "        valid_df=train_meta_df.iloc[idx_valid], \n",
    "        y_valid=train_meta_df['target'].values[idx_valid],\n",
    "        output_dir=output_i,\n",
    "        \n",
    "        # 今は 1 ですぐ終わるようにしている. 本当は validation score の値を見つつ適宜設定する\n",
    "        n_epochs=1\n",
    "    )\n",
    "    \n",
    "    oof[idx_valid] = oof_i"
   ]
  },
  {
   "cell_type": "markdown",
   "metadata": {},
   "source": [
    "### FoldOutした予測値でのスコア確認\n",
    "\n",
    "この値が手元で見積もった今の学習方法での検証スコアになります。この値とLBの値が相関しているか?がひとつのチェックポイントです。手元のスコアは良いのにLBのスコアが悪い場合には、モデルの性能を過剰に見積もっているといえます。\n",
    "\n",
    "この場合はデータに過剰に fitting していたり、CrossValidationの仕組みが良くない可能性がありますので CV のやリ方や学習に使うデータの作成方法を見直します。"
   ]
  },
  {
   "cell_type": "code",
   "execution_count": 59,
   "metadata": {},
   "outputs": [
    {
     "data": {
      "text/plain": [
       "{'rmse': 2.1828628745414136}"
      ]
     },
     "execution_count": 59,
     "metadata": {},
     "output_type": "execute_result"
    }
   ],
   "source": [
    "calculate_metrics(train_df['target'], oof)"
   ]
  },
  {
   "cell_type": "code",
   "execution_count": 60,
   "metadata": {},
   "outputs": [
    {
     "data": {
      "text/plain": [
       "<matplotlib.axes._subplots.AxesSubplot at 0x7faa1188fe90>"
      ]
     },
     "execution_count": 60,
     "metadata": {},
     "output_type": "execute_result"
    },
    {
     "data": {
      "image/png": "[encoded data removed]",
      "text/plain": [
       "<Figure size 432x288 with 1 Axes>"
      ]
     },
     "metadata": {
      "needs_background": "light"
     },
     "output_type": "display_data"
    }
   ],
   "source": [
    "sns.distplot(oof)"
   ]
  },
  {
   "cell_type": "markdown",
   "metadata": {},
   "source": [
    "## Submission を作る"
   ]
  },
  {
   "cell_type": "markdown",
   "metadata": {},
   "source": [
    "テスト用にデータセットを作りましょう。これは学習時に作ったものと同じですが `is_train` の指定だけ注意をしてください。"
   ]
  },
  {
   "cell_type": "code",
   "execution_count": 61,
   "metadata": {},
   "outputs": [],
   "source": [
    "def create_metadata(input_df):\n",
    "    out_df = input_df[['object_id']].copy()\n",
    "    out_df['object_path'] = input_df['object_id'].map(to_img_path)\n",
    "    \n",
    "    if \"target\" in input_df:\n",
    "        out_df[\"target\"] = input_df[\"target\"]\n",
    "\n",
    "    return out_df\n",
    "\n",
    "# train と似たようなことをするので、次回から楽したいとおもって `create_metadata` という関数を作りました\n",
    "test_meta_df = create_metadata(test_df)\n",
    "\n",
    "# 学習時のデータ拡張はオフにしたいので is_train=False としている\n",
    "test_dataset = AtmaDataset(meta_df=test_meta_df, is_train=False)\n",
    "test_loader = data.DataLoader(dataset=test_dataset, batch_size=128, drop_last=False, num_workers=4)"
   ]
  },
  {
   "cell_type": "markdown",
   "metadata": {},
   "source": [
    "\n",
    "学習したモデルを使って submission を作りましょう。CV のフェーズで `model_best.pth` という名前で重みを保存していますのでそれを読み込んで予測関数 `predict` に入れるを繰り返していきます。"
   ]
  },
  {
   "cell_type": "code",
   "execution_count": 62,
   "metadata": {},
   "outputs": [
    {
     "name": "stdout",
     "output_type": "stream",
     "text": [
      "pred cv=0 6.307[s]\n",
      "pred cv=1 7.476[s]\n",
      "pred cv=2 6.934[s]\n",
      "pred cv=3 6.924[s]\n",
      "pred cv=4 6.554[s]\n"
     ]
    }
   ],
   "source": [
    "test_predictions = []\n",
    "\n",
    "for i in range(len(cv)):\n",
    "    output_i = get_output_dir(i)\n",
    "    \n",
    "    model = resnet34(pretrained=False)\n",
    "    model.fc = nn.Linear(in_features=512, out_features=1, bias=True)\n",
    "    \n",
    "    # 最も良かった重みを読みだす\n",
    "    # https://pytorch.org/tutorials/beginner/saving_loading_models.html\n",
    "    model_path = os.path.join(output_i, 'model_best.pth')\n",
    "    \n",
    "    model.load_state_dict(torch.load(model_path))\n",
    "    \n",
    "    # GPU環境で予測するため `to` で変換\n",
    "    model.to(DEVICE)\n",
    "    \n",
    "    with timer(prefix=f'pred cv={i}'):\n",
    "        y_pred_i = predict(model, loader=test_loader)\n",
    "    \n",
    "    test_predictions.append(y_pred_i)"
   ]
  },
  {
   "cell_type": "markdown",
   "metadata": {},
   "source": [
    "#### submission file として保存"
   ]
  },
  {
   "cell_type": "code",
   "execution_count": 63,
   "metadata": {},
   "outputs": [],
   "source": [
    "# すべての予測の平均値を使う\n",
    "pred_mean = np.array(test_predictions).mean(axis=0)\n",
    "\n",
    "pd.DataFrame({\n",
    "    \"target\": pred_mean\n",
    "}).to_csv(os.path.join(output_dir, \"0001__submission.csv\"), index=False)"
   ]
  }
 ],
 "metadata": {
  "kernelspec": {
   "display_name": "Python 3",
   "language": "python",
   "name": "python3"
  },
  "language_info": {
   "codemirror_mode": {
    "name": "ipython",
    "version": 3
   },
   "file_extension": ".py",
   "mimetype": "text/x-python",
   "name": "python",
   "nbconvert_exporter": "python",
   "pygments_lexer": "ipython3",
   "version": "3.7.10"
  }
 },
 "nbformat": 4,
 "nbformat_minor": 4
}
