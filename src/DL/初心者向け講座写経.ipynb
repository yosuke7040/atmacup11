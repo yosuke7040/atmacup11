{
 "cells": [
  {
   "cell_type": "code",
   "execution_count": 1,
   "id": "talented-accessory",
   "metadata": {},
   "outputs": [],
   "source": [
    "import os\n",
    "\n",
    "import pandas as pd\n",
    "import numpy as np\n",
    "from glob import  glob\n",
    "\n",
    "import matplotlib.pyplot as plt\n",
    "import seaborn as sns"
   ]
  },
  {
   "cell_type": "code",
   "execution_count": 2,
   "id": "moved-assurance",
   "metadata": {},
   "outputs": [
    {
     "name": "stdout",
     "output_type": "stream",
     "text": [
      "Requirement already satisfied: python-vivid in /opt/conda/lib/python3.7/site-packages (0.3.3.4)\n",
      "Requirement already satisfied: tqdm in /opt/conda/lib/python3.7/site-packages (from python-vivid) (4.59.0)\n",
      "Requirement already satisfied: numpy in /opt/conda/lib/python3.7/site-packages (from python-vivid) (1.19.5)\n",
      "Requirement already satisfied: seaborn in /opt/conda/lib/python3.7/site-packages (from python-vivid) (0.11.1)\n",
      "Requirement already satisfied: matplotlib in /opt/conda/lib/python3.7/site-packages (from python-vivid) (3.4.2)\n",
      "Requirement already satisfied: xgboost in /opt/conda/lib/python3.7/site-packages (from python-vivid) (1.4.2)\n",
      "Requirement already satisfied: lightgbm in /opt/conda/lib/python3.7/site-packages (from python-vivid) (3.2.0)\n",
      "Requirement already satisfied: scipy in /opt/conda/lib/python3.7/site-packages (from python-vivid) (1.6.2)\n",
      "Requirement already satisfied: scikit-learn in /opt/conda/lib/python3.7/site-packages (from python-vivid) (0.24.2)\n",
      "Requirement already satisfied: feather-format in /opt/conda/lib/python3.7/site-packages (from python-vivid) (0.4.1)\n",
      "Requirement already satisfied: tabulate in /opt/conda/lib/python3.7/site-packages (from python-vivid) (0.8.9)\n",
      "Requirement already satisfied: networkx in /opt/conda/lib/python3.7/site-packages (from python-vivid) (2.5)\n",
      "Requirement already satisfied: optuna in /opt/conda/lib/python3.7/site-packages (from python-vivid) (2.7.0)\n",
      "Requirement already satisfied: joblib in /opt/conda/lib/python3.7/site-packages (from python-vivid) (1.0.1)\n",
      "Requirement already satisfied: pandas in /opt/conda/lib/python3.7/site-packages (from python-vivid) (1.1.5)\n",
      "Requirement already satisfied: pyarrow>=0.4.0 in /opt/conda/lib/python3.7/site-packages (from feather-format->python-vivid) (1.0.1)\n",
      "Requirement already satisfied: wheel in /opt/conda/lib/python3.7/site-packages (from lightgbm->python-vivid) (0.36.2)\n",
      "Requirement already satisfied: threadpoolctl>=2.0.0 in /opt/conda/lib/python3.7/site-packages (from scikit-learn->python-vivid) (2.1.0)\n",
      "Requirement already satisfied: pillow>=6.2.0 in /opt/conda/lib/python3.7/site-packages (from matplotlib->python-vivid) (8.1.2)\n",
      "Requirement already satisfied: kiwisolver>=1.0.1 in /opt/conda/lib/python3.7/site-packages (from matplotlib->python-vivid) (1.3.1)\n",
      "Requirement already satisfied: python-dateutil>=2.7 in /opt/conda/lib/python3.7/site-packages (from matplotlib->python-vivid) (2.8.1)\n",
      "Requirement already satisfied: cycler>=0.10 in /opt/conda/lib/python3.7/site-packages (from matplotlib->python-vivid) (0.10.0)\n",
      "Requirement already satisfied: pyparsing>=2.2.1 in /opt/conda/lib/python3.7/site-packages (from matplotlib->python-vivid) (2.4.7)\n",
      "Requirement already satisfied: six in /opt/conda/lib/python3.7/site-packages (from cycler>=0.10->matplotlib->python-vivid) (1.15.0)\n",
      "Requirement already satisfied: decorator>=4.3.0 in /opt/conda/lib/python3.7/site-packages (from networkx->python-vivid) (4.4.2)\n",
      "Requirement already satisfied: colorlog in /opt/conda/lib/python3.7/site-packages (from optuna->python-vivid) (5.0.1)\n",
      "Requirement already satisfied: cmaes>=0.8.2 in /opt/conda/lib/python3.7/site-packages (from optuna->python-vivid) (0.8.2)\n",
      "Requirement already satisfied: cliff in /opt/conda/lib/python3.7/site-packages (from optuna->python-vivid) (3.8.0)\n",
      "Requirement already satisfied: sqlalchemy>=1.1.0 in /opt/conda/lib/python3.7/site-packages (from optuna->python-vivid) (1.4.3)\n",
      "Requirement already satisfied: packaging>=20.0 in /opt/conda/lib/python3.7/site-packages (from optuna->python-vivid) (20.9)\n",
      "Requirement already satisfied: alembic in /opt/conda/lib/python3.7/site-packages (from optuna->python-vivid) (1.6.5)\n",
      "Requirement already satisfied: greenlet!=0.4.17 in /opt/conda/lib/python3.7/site-packages (from sqlalchemy>=1.1.0->optuna->python-vivid) (1.0.0)\n",
      "Requirement already satisfied: importlib-metadata in /opt/conda/lib/python3.7/site-packages (from sqlalchemy>=1.1.0->optuna->python-vivid) (3.4.0)\n",
      "Requirement already satisfied: Mako in /opt/conda/lib/python3.7/site-packages (from alembic->optuna->python-vivid) (1.1.4)\n",
      "Requirement already satisfied: python-editor>=0.3 in /opt/conda/lib/python3.7/site-packages (from alembic->optuna->python-vivid) (1.0.4)\n",
      "Requirement already satisfied: cmd2>=1.0.0 in /opt/conda/lib/python3.7/site-packages (from cliff->optuna->python-vivid) (1.5.0)\n",
      "Requirement already satisfied: PyYAML>=3.12 in /opt/conda/lib/python3.7/site-packages (from cliff->optuna->python-vivid) (5.4.1)\n",
      "Requirement already satisfied: PrettyTable>=0.7.2 in /opt/conda/lib/python3.7/site-packages (from cliff->optuna->python-vivid) (2.1.0)\n",
      "Requirement already satisfied: pbr!=2.1.0,>=2.0.0 in /opt/conda/lib/python3.7/site-packages (from cliff->optuna->python-vivid) (5.6.0)\n",
      "Requirement already satisfied: stevedore>=2.0.1 in /opt/conda/lib/python3.7/site-packages (from cliff->optuna->python-vivid) (3.3.0)\n",
      "Requirement already satisfied: pyperclip>=1.6 in /opt/conda/lib/python3.7/site-packages (from cmd2>=1.0.0->cliff->optuna->python-vivid) (1.8.2)\n",
      "Requirement already satisfied: wcwidth>=0.1.7 in /opt/conda/lib/python3.7/site-packages (from cmd2>=1.0.0->cliff->optuna->python-vivid) (0.2.5)\n",
      "Requirement already satisfied: attrs>=16.3.0 in /opt/conda/lib/python3.7/site-packages (from cmd2>=1.0.0->cliff->optuna->python-vivid) (20.3.0)\n",
      "Requirement already satisfied: colorama>=0.3.7 in /opt/conda/lib/python3.7/site-packages (from cmd2>=1.0.0->cliff->optuna->python-vivid) (0.4.4)\n",
      "Requirement already satisfied: zipp>=0.5 in /opt/conda/lib/python3.7/site-packages (from importlib-metadata->sqlalchemy>=1.1.0->optuna->python-vivid) (3.4.1)\n",
      "Requirement already satisfied: typing-extensions>=3.6.4 in /opt/conda/lib/python3.7/site-packages (from importlib-metadata->sqlalchemy>=1.1.0->optuna->python-vivid) (3.7.4.3)\n",
      "Requirement already satisfied: MarkupSafe>=0.9.2 in /opt/conda/lib/python3.7/site-packages (from Mako->alembic->optuna->python-vivid) (2.0.1)\n",
      "Requirement already satisfied: pytz>=2017.2 in /opt/conda/lib/python3.7/site-packages (from pandas->python-vivid) (2021.1)\n",
      "\u001b[33mWARNING: Running pip as root will break packages and permissions. You should install packages reliably by using venv: https://pip.pypa.io/warnings/venv\u001b[0m\n",
      "\u001b[33mWARNING: You are using pip version 21.1.2; however, version 21.1.3 is available.\n",
      "You should consider upgrading via the '/opt/conda/bin/python3.7 -m pip install --upgrade pip' command.\u001b[0m\n"
     ]
    }
   ],
   "source": [
    "!pip install python-vivid"
   ]
  },
  {
   "cell_type": "code",
   "execution_count": 3,
   "id": "modified-parts",
   "metadata": {},
   "outputs": [],
   "source": [
    "input_dir = '/src/atmacup/atmacup11/data/inputs/'\n",
    "photo_dir = os.path.join(input_dir, 'photos')\n",
    "photo_pathes = glob(os.path.join(photo_dir, \"*.jpg\"))\n",
    "output_dir = '/src/atmacup/atmacup11/data/outputs/'\n",
    "\n",
    "os.makedirs(output_dir, exist_ok=True)\n",
    "\n",
    "train_df = pd.read_csv(os.path.join(input_dir, 'train.csv'))\n",
    "test_df = pd.read_csv(os.path.join(input_dir, 'test.csv'))"
   ]
  },
  {
   "cell_type": "code",
   "execution_count": 4,
   "id": "mounted-rachel",
   "metadata": {},
   "outputs": [],
   "source": [
    "train_df = pd.read_csv(os.path.join(input_dir, 'train.csv'))\n",
    "test_df = pd.read_csv(os.path.join(input_dir, 'test.csv'))\n",
    "material_df = pd.read_csv(os.path.join(input_dir, 'materials.csv'))\n",
    "technique_df = pd.read_csv(os.path.join(input_dir, 'techniques.csv'))"
   ]
  },
  {
   "cell_type": "code",
   "execution_count": 5,
   "id": "opposed-salem",
   "metadata": {},
   "outputs": [],
   "source": [
    "from matplotlib_venn import venn2"
   ]
  },
  {
   "cell_type": "code",
   "execution_count": 6,
   "id": "extended-experience",
   "metadata": {},
   "outputs": [
    {
     "data": {
      "text/plain": [
       "<matplotlib_venn._common.VennDiagram at 0x7f1549d274d0>"
      ]
     },
     "execution_count": 6,
     "metadata": {},
     "output_type": "execute_result"
    },
    {
     "data": {
      "image/png": "[encoded data removed]",
      "text/plain": [
       "<Figure size 864x360 with 2 Axes>"
      ]
     },
     "metadata": {},
     "output_type": "display_data"
    }
   ],
   "source": [
    "input_df = technique_df\n",
    "\n",
    "fig, axes = plt.subplots(figsize=(12, 5), ncols=2)\n",
    "\n",
    "venn2(subsets=(\n",
    "    set(train_df['object_id']), set(input_df['object_id'])\n",
    "), set_labels=('train', 'input'), ax=axes[0])\n",
    "\n",
    "venn2(subsets=(\n",
    "    set(test_df['object_id']), set(input_df['object_id'])\n",
    "), set_labels=('test', 'input'), ax=axes[1])"
   ]
  },
  {
   "cell_type": "code",
   "execution_count": 7,
   "id": "numerous-nursing",
   "metadata": {},
   "outputs": [
    {
     "data": {
      "text/plain": [
       "<matplotlib_venn._common.VennDiagram at 0x7f154a019090>"
      ]
     },
     "execution_count": 7,
     "metadata": {},
     "output_type": "execute_result"
    },
    {
     "data": {
      "image/png": "[encoded data removed]",
      "text/plain": [
       "<Figure size 864x360 with 2 Axes>"
      ]
     },
     "metadata": {},
     "output_type": "display_data"
    }
   ],
   "source": [
    "input_df = material_df\n",
    "\n",
    "fig, axes = plt.subplots(figsize=(12, 5), ncols=2)\n",
    "                         \n",
    "venn2(subsets=(\n",
    "    set(train_df['object_id']), set(input_df['object_id'])\n",
    "), set_labels=('train', 'input'), ax=axes[0])\n",
    "\n",
    "venn2(subsets=(\n",
    "    set(test_df['object_id']), set(input_df['object_id'])\n",
    "), set_labels=('test', 'input'), ax=axes[1])\n"
   ]
  },
  {
   "cell_type": "code",
   "execution_count": 8,
   "id": "homeless-dating",
   "metadata": {},
   "outputs": [
    {
     "data": {
      "text/html": [
       "<div>\n",
       "<style scoped>\n",
       "    .dataframe tbody tr th:only-of-type {\n",
       "        vertical-align: middle;\n",
       "    }\n",
       "\n",
       "    .dataframe tbody tr th {\n",
       "        vertical-align: top;\n",
       "    }\n",
       "\n",
       "    .dataframe thead th {\n",
       "        text-align: right;\n",
       "    }\n",
       "</style>\n",
       "<table border=\"1\" class=\"dataframe\">\n",
       "  <thead>\n",
       "    <tr style=\"text-align: right;\">\n",
       "      <th></th>\n",
       "      <th>object_id</th>\n",
       "      <th>sorting_date</th>\n",
       "      <th>art_series_id</th>\n",
       "      <th>target</th>\n",
       "    </tr>\n",
       "  </thead>\n",
       "  <tbody>\n",
       "    <tr>\n",
       "      <th>0</th>\n",
       "      <td>002bff09b09998d0be65</td>\n",
       "      <td>1631</td>\n",
       "      <td>509357f67692a6a45626</td>\n",
       "      <td>1</td>\n",
       "    </tr>\n",
       "    <tr>\n",
       "      <th>1</th>\n",
       "      <td>00309fb1ef05416f9c1f</td>\n",
       "      <td>1900</td>\n",
       "      <td>7987b47bbe5dc3039179</td>\n",
       "      <td>3</td>\n",
       "    </tr>\n",
       "    <tr>\n",
       "      <th>2</th>\n",
       "      <td>003a1562e97f79ba96dc</td>\n",
       "      <td>1834</td>\n",
       "      <td>ded7c3c9636708e5b14c</td>\n",
       "      <td>3</td>\n",
       "    </tr>\n",
       "    <tr>\n",
       "      <th>3</th>\n",
       "      <td>004890880e8e7431147b</td>\n",
       "      <td>1743</td>\n",
       "      <td>582ac2d7f0cef195b605</td>\n",
       "      <td>2</td>\n",
       "    </tr>\n",
       "    <tr>\n",
       "      <th>4</th>\n",
       "      <td>00718c32602425f504c1</td>\n",
       "      <td>1885</td>\n",
       "      <td>64c907f0c08dce4fb8e8</td>\n",
       "      <td>3</td>\n",
       "    </tr>\n",
       "  </tbody>\n",
       "</table>\n",
       "</div>"
      ],
      "text/plain": [
       "              object_id  sorting_date         art_series_id  target\n",
       "0  002bff09b09998d0be65          1631  509357f67692a6a45626       1\n",
       "1  00309fb1ef05416f9c1f          1900  7987b47bbe5dc3039179       3\n",
       "2  003a1562e97f79ba96dc          1834  ded7c3c9636708e5b14c       3\n",
       "3  004890880e8e7431147b          1743  582ac2d7f0cef195b605       2\n",
       "4  00718c32602425f504c1          1885  64c907f0c08dce4fb8e8       3"
      ]
     },
     "execution_count": 8,
     "metadata": {},
     "output_type": "execute_result"
    }
   ],
   "source": [
    "train_df.head()"
   ]
  },
  {
   "cell_type": "code",
   "execution_count": 9,
   "id": "employed-consequence",
   "metadata": {},
   "outputs": [
    {
     "data": {
      "image/png": "[encoded data removed]",
      "text/plain": [
       "<Figure size 576x288 with 1 Axes>"
      ]
     },
     "metadata": {
      "needs_background": "light"
     },
     "output_type": "display_data"
    }
   ],
   "source": [
    "fig, ax = plt.subplots(figsize=(8,4))\n",
    "sns.countplot(data=train_df, x='target', ax=ax)\n",
    "ax.grid()"
   ]
  },
  {
   "cell_type": "code",
   "execution_count": 10,
   "id": "olympic-lambda",
   "metadata": {},
   "outputs": [
    {
     "data": {
      "text/plain": [
       "0     475\n",
       "1     896\n",
       "2    1511\n",
       "3    1055\n",
       "Name: target, dtype: int64"
      ]
     },
     "execution_count": 10,
     "metadata": {},
     "output_type": "execute_result"
    }
   ],
   "source": [
    "train_df['target'].value_counts().sort_index()"
   ]
  },
  {
   "cell_type": "code",
   "execution_count": 11,
   "id": "large-exhibition",
   "metadata": {},
   "outputs": [
    {
     "data": {
      "image/png": "[encoded data removed]",
      "text/plain": [
       "<Figure size 576x288 with 1 Axes>"
      ]
     },
     "metadata": {
      "needs_background": "light"
     },
     "output_type": "display_data"
    }
   ],
   "source": [
    "fig, ax = plt.subplots(figsize=(8,4))\n",
    "sns.boxenplot(data=train_df, x='target', y='sorting_date', ax=ax)\n",
    "ax.grid()"
   ]
  },
  {
   "cell_type": "code",
   "execution_count": 12,
   "id": "imported-lender",
   "metadata": {},
   "outputs": [
    {
     "data": {
      "text/html": [
       "<div>\n",
       "<style scoped>\n",
       "    .dataframe tbody tr th:only-of-type {\n",
       "        vertical-align: middle;\n",
       "    }\n",
       "\n",
       "    .dataframe tbody tr th {\n",
       "        vertical-align: top;\n",
       "    }\n",
       "\n",
       "    .dataframe thead th {\n",
       "        text-align: right;\n",
       "    }\n",
       "</style>\n",
       "<table border=\"1\" class=\"dataframe\">\n",
       "  <thead>\n",
       "    <tr style=\"text-align: right;\">\n",
       "      <th></th>\n",
       "      <th>min</th>\n",
       "      <th>max</th>\n",
       "      <th>median</th>\n",
       "      <th>size</th>\n",
       "    </tr>\n",
       "    <tr>\n",
       "      <th>target</th>\n",
       "      <th></th>\n",
       "      <th></th>\n",
       "      <th></th>\n",
       "      <th></th>\n",
       "    </tr>\n",
       "  </thead>\n",
       "  <tbody>\n",
       "    <tr>\n",
       "      <th>0</th>\n",
       "      <td>1440</td>\n",
       "      <td>1600</td>\n",
       "      <td>1574</td>\n",
       "      <td>475</td>\n",
       "    </tr>\n",
       "    <tr>\n",
       "      <th>1</th>\n",
       "      <td>1601</td>\n",
       "      <td>1700</td>\n",
       "      <td>1655</td>\n",
       "      <td>896</td>\n",
       "    </tr>\n",
       "    <tr>\n",
       "      <th>2</th>\n",
       "      <td>1701</td>\n",
       "      <td>1800</td>\n",
       "      <td>1770</td>\n",
       "      <td>1511</td>\n",
       "    </tr>\n",
       "    <tr>\n",
       "      <th>3</th>\n",
       "      <td>1801</td>\n",
       "      <td>1991</td>\n",
       "      <td>1841</td>\n",
       "      <td>1055</td>\n",
       "    </tr>\n",
       "  </tbody>\n",
       "</table>\n",
       "</div>"
      ],
      "text/plain": [
       "         min   max  median  size\n",
       "target                          \n",
       "0       1440  1600    1574   475\n",
       "1       1601  1700    1655   896\n",
       "2       1701  1800    1770  1511\n",
       "3       1801  1991    1841  1055"
      ]
     },
     "execution_count": 12,
     "metadata": {},
     "output_type": "execute_result"
    }
   ],
   "source": [
    "train_df.groupby('target')['sorting_date'].agg(['min', 'max', 'median', 'size'])"
   ]
  },
  {
   "cell_type": "code",
   "execution_count": 13,
   "id": "future-appreciation",
   "metadata": {},
   "outputs": [
    {
     "data": {
      "text/html": [
       "<div>\n",
       "<style scoped>\n",
       "    .dataframe tbody tr th:only-of-type {\n",
       "        vertical-align: middle;\n",
       "    }\n",
       "\n",
       "    .dataframe tbody tr th {\n",
       "        vertical-align: top;\n",
       "    }\n",
       "\n",
       "    .dataframe thead th {\n",
       "        text-align: right;\n",
       "    }\n",
       "</style>\n",
       "<table border=\"1\" class=\"dataframe\">\n",
       "  <thead>\n",
       "    <tr style=\"text-align: right;\">\n",
       "      <th></th>\n",
       "      <th>object_id</th>\n",
       "    </tr>\n",
       "  </thead>\n",
       "  <tbody>\n",
       "    <tr>\n",
       "      <th>0</th>\n",
       "      <td>0009e50b94be36ccad39</td>\n",
       "    </tr>\n",
       "    <tr>\n",
       "      <th>1</th>\n",
       "      <td>000bd5e82eb22f199f44</td>\n",
       "    </tr>\n",
       "    <tr>\n",
       "      <th>2</th>\n",
       "      <td>0015f44de1854f617516</td>\n",
       "    </tr>\n",
       "    <tr>\n",
       "      <th>3</th>\n",
       "      <td>00388a678879ba1efa27</td>\n",
       "    </tr>\n",
       "    <tr>\n",
       "      <th>4</th>\n",
       "      <td>005e1e7c6496902d23f3</td>\n",
       "    </tr>\n",
       "  </tbody>\n",
       "</table>\n",
       "</div>"
      ],
      "text/plain": [
       "              object_id\n",
       "0  0009e50b94be36ccad39\n",
       "1  000bd5e82eb22f199f44\n",
       "2  0015f44de1854f617516\n",
       "3  00388a678879ba1efa27\n",
       "4  005e1e7c6496902d23f3"
      ]
     },
     "execution_count": 13,
     "metadata": {},
     "output_type": "execute_result"
    }
   ],
   "source": [
    "test_df.head()"
   ]
  },
  {
   "cell_type": "code",
   "execution_count": 14,
   "id": "little-patch",
   "metadata": {},
   "outputs": [],
   "source": [
    "from PIL import Image"
   ]
  },
  {
   "cell_type": "code",
   "execution_count": 15,
   "id": "recovered-intersection",
   "metadata": {},
   "outputs": [],
   "source": [
    "def to_img_path(object_id):\n",
    "    return os.path.join(photo_dir, f'{object_id}.jpg')\n",
    "\n",
    "def read_image(object_id):\n",
    "    return Image.open(to_img_path(object_id))"
   ]
  },
  {
   "cell_type": "code",
   "execution_count": 16,
   "id": "ranging-money",
   "metadata": {},
   "outputs": [],
   "source": [
    "img = read_image(train_df['object_id'].iat[0])"
   ]
  },
  {
   "cell_type": "code",
   "execution_count": 17,
   "id": "industrial-sustainability",
   "metadata": {},
   "outputs": [
    {
     "data": {
      "image/png": "[encoded data removed]",
      "text/plain": [
       "<PIL.JpegImagePlugin.JpegImageFile image mode=RGB size=224x109 at 0x7F15499F7A50>"
      ]
     },
     "execution_count": 17,
     "metadata": {},
     "output_type": "execute_result"
    }
   ],
   "source": [
    "img"
   ]
  },
  {
   "cell_type": "code",
   "execution_count": 18,
   "id": "recorded-segment",
   "metadata": {},
   "outputs": [],
   "source": [
    "from torchvision import transforms as T"
   ]
  },
  {
   "cell_type": "code",
   "execution_count": 19,
   "id": "cooperative-wound",
   "metadata": {},
   "outputs": [
    {
     "data": {
      "image/png": "[encoded data removed]",
      "text/plain": [
       "<PIL.Image.Image image mode=RGB size=224x109 at 0x7F15409E1050>"
      ]
     },
     "execution_count": 19,
     "metadata": {},
     "output_type": "execute_result"
    }
   ],
   "source": [
    "T.RandomVerticalFlip(p=1)(img)"
   ]
  },
  {
   "cell_type": "code",
   "execution_count": 20,
   "id": "cordless-boost",
   "metadata": {},
   "outputs": [
    {
     "data": {
      "image/png": "[encoded data removed]",
      "text/plain": [
       "<PIL.JpegImagePlugin.JpegImageFile image mode=RGB size=224x109 at 0x7F15499F7A50>"
      ]
     },
     "execution_count": 20,
     "metadata": {},
     "output_type": "execute_result"
    }
   ],
   "source": [
    "T.RandomVerticalFlip(p=0.001)(img)"
   ]
  },
  {
   "cell_type": "code",
   "execution_count": 21,
   "id": "weighted-underwear",
   "metadata": {},
   "outputs": [
    {
     "data": {
      "image/png": "[encoded data removed]",
      "text/plain": [
       "<PIL.Image.Image image mode=RGB size=224x109 at 0x7F152FC1CDD0>"
      ]
     },
     "execution_count": 21,
     "metadata": {},
     "output_type": "execute_result"
    }
   ],
   "source": [
    "T.RandomHorizontalFlip(p=1)(img)"
   ]
  },
  {
   "cell_type": "code",
   "execution_count": 22,
   "id": "antique-garden",
   "metadata": {},
   "outputs": [
    {
     "data": {
      "image/png": "[encoded data removed]",
      "text/plain": [
       "<PIL.Image.Image image mode=RGB size=224x109 at 0x7F152FC241D0>"
      ]
     },
     "execution_count": 22,
     "metadata": {},
     "output_type": "execute_result"
    }
   ],
   "source": [
    "T.RandomGrayscale(1)(img)"
   ]
  },
  {
   "cell_type": "code",
   "execution_count": 23,
   "id": "modular-arthur",
   "metadata": {},
   "outputs": [
    {
     "data": {
      "image/png": "[encoded data removed]",
      "text/plain": [
       "<PIL.Image.Image image mode=RGB size=224x109 at 0x7F152FC24C10>"
      ]
     },
     "execution_count": 23,
     "metadata": {},
     "output_type": "execute_result"
    }
   ],
   "source": [
    "T.ColorJitter(brightness=.3, contrast=.5, saturation=[.8, 1.3])(img)"
   ]
  },
  {
   "cell_type": "code",
   "execution_count": 24,
   "id": "fitting-redhead",
   "metadata": {},
   "outputs": [
    {
     "data": {
      "image/png": "[encoded data removed]",
      "text/plain": [
       "<PIL.Image.Image image mode=RGB size=200x200 at 0x7F152FC29E50>"
      ]
     },
     "execution_count": 24,
     "metadata": {},
     "output_type": "execute_result"
    }
   ],
   "source": [
    "T.RandomResizedCrop(size=(200,200),)(img)"
   ]
  },
  {
   "cell_type": "code",
   "execution_count": 25,
   "id": "honest-princess",
   "metadata": {},
   "outputs": [
    {
     "data": {
      "image/png": "[encoded data removed]",
      "text/plain": [
       "<PIL.Image.Image image mode=RGB size=224x109 at 0x7F152FC24C50>"
      ]
     },
     "execution_count": 25,
     "metadata": {},
     "output_type": "execute_result"
    }
   ],
   "source": [
    "converter = T.Compose([\n",
    "    T.RandomVerticalFlip(p=1),\n",
    "    T.ColorJitter(brightness=.5, contrast=.5)\n",
    "])\n",
    "\n",
    "converter(img)"
   ]
  },
  {
   "cell_type": "code",
   "execution_count": 26,
   "id": "helpful-guarantee",
   "metadata": {},
   "outputs": [],
   "source": [
    "import torch\n",
    "from torchvision.models import resnet34\n",
    "from torch import nn"
   ]
  },
  {
   "cell_type": "code",
   "execution_count": 27,
   "id": "combined-philip",
   "metadata": {},
   "outputs": [],
   "source": [
    "model = resnet34(pretrained=False)"
   ]
  },
  {
   "cell_type": "code",
   "execution_count": 28,
   "id": "friendly-chapter",
   "metadata": {},
   "outputs": [
    {
     "data": {
      "text/plain": [
       "ResNet(\n",
       "  (conv1): Conv2d(3, 64, kernel_size=(7, 7), stride=(2, 2), padding=(3, 3), bias=False)\n",
       "  (bn1): BatchNorm2d(64, eps=1e-05, momentum=0.1, affine=True, track_running_stats=True)\n",
       "  (relu): ReLU(inplace=True)\n",
       "  (maxpool): MaxPool2d(kernel_size=3, stride=2, padding=1, dilation=1, ceil_mode=False)\n",
       "  (layer1): Sequential(\n",
       "    (0): BasicBlock(\n",
       "      (conv1): Conv2d(64, 64, kernel_size=(3, 3), stride=(1, 1), padding=(1, 1), bias=False)\n",
       "      (bn1): BatchNorm2d(64, eps=1e-05, momentum=0.1, affine=True, track_running_stats=True)\n",
       "      (relu): ReLU(inplace=True)\n",
       "      (conv2): Conv2d(64, 64, kernel_size=(3, 3), stride=(1, 1), padding=(1, 1), bias=False)\n",
       "      (bn2): BatchNorm2d(64, eps=1e-05, momentum=0.1, affine=True, track_running_stats=True)\n",
       "    )\n",
       "    (1): BasicBlock(\n",
       "      (conv1): Conv2d(64, 64, kernel_size=(3, 3), stride=(1, 1), padding=(1, 1), bias=False)\n",
       "      (bn1): BatchNorm2d(64, eps=1e-05, momentum=0.1, affine=True, track_running_stats=True)\n",
       "      (relu): ReLU(inplace=True)\n",
       "      (conv2): Conv2d(64, 64, kernel_size=(3, 3), stride=(1, 1), padding=(1, 1), bias=False)\n",
       "      (bn2): BatchNorm2d(64, eps=1e-05, momentum=0.1, affine=True, track_running_stats=True)\n",
       "    )\n",
       "    (2): BasicBlock(\n",
       "      (conv1): Conv2d(64, 64, kernel_size=(3, 3), stride=(1, 1), padding=(1, 1), bias=False)\n",
       "      (bn1): BatchNorm2d(64, eps=1e-05, momentum=0.1, affine=True, track_running_stats=True)\n",
       "      (relu): ReLU(inplace=True)\n",
       "      (conv2): Conv2d(64, 64, kernel_size=(3, 3), stride=(1, 1), padding=(1, 1), bias=False)\n",
       "      (bn2): BatchNorm2d(64, eps=1e-05, momentum=0.1, affine=True, track_running_stats=True)\n",
       "    )\n",
       "  )\n",
       "  (layer2): Sequential(\n",
       "    (0): BasicBlock(\n",
       "      (conv1): Conv2d(64, 128, kernel_size=(3, 3), stride=(2, 2), padding=(1, 1), bias=False)\n",
       "      (bn1): BatchNorm2d(128, eps=1e-05, momentum=0.1, affine=True, track_running_stats=True)\n",
       "      (relu): ReLU(inplace=True)\n",
       "      (conv2): Conv2d(128, 128, kernel_size=(3, 3), stride=(1, 1), padding=(1, 1), bias=False)\n",
       "      (bn2): BatchNorm2d(128, eps=1e-05, momentum=0.1, affine=True, track_running_stats=True)\n",
       "      (downsample): Sequential(\n",
       "        (0): Conv2d(64, 128, kernel_size=(1, 1), stride=(2, 2), bias=False)\n",
       "        (1): BatchNorm2d(128, eps=1e-05, momentum=0.1, affine=True, track_running_stats=True)\n",
       "      )\n",
       "    )\n",
       "    (1): BasicBlock(\n",
       "      (conv1): Conv2d(128, 128, kernel_size=(3, 3), stride=(1, 1), padding=(1, 1), bias=False)\n",
       "      (bn1): BatchNorm2d(128, eps=1e-05, momentum=0.1, affine=True, track_running_stats=True)\n",
       "      (relu): ReLU(inplace=True)\n",
       "      (conv2): Conv2d(128, 128, kernel_size=(3, 3), stride=(1, 1), padding=(1, 1), bias=False)\n",
       "      (bn2): BatchNorm2d(128, eps=1e-05, momentum=0.1, affine=True, track_running_stats=True)\n",
       "    )\n",
       "    (2): BasicBlock(\n",
       "      (conv1): Conv2d(128, 128, kernel_size=(3, 3), stride=(1, 1), padding=(1, 1), bias=False)\n",
       "      (bn1): BatchNorm2d(128, eps=1e-05, momentum=0.1, affine=True, track_running_stats=True)\n",
       "      (relu): ReLU(inplace=True)\n",
       "      (conv2): Conv2d(128, 128, kernel_size=(3, 3), stride=(1, 1), padding=(1, 1), bias=False)\n",
       "      (bn2): BatchNorm2d(128, eps=1e-05, momentum=0.1, affine=True, track_running_stats=True)\n",
       "    )\n",
       "    (3): BasicBlock(\n",
       "      (conv1): Conv2d(128, 128, kernel_size=(3, 3), stride=(1, 1), padding=(1, 1), bias=False)\n",
       "      (bn1): BatchNorm2d(128, eps=1e-05, momentum=0.1, affine=True, track_running_stats=True)\n",
       "      (relu): ReLU(inplace=True)\n",
       "      (conv2): Conv2d(128, 128, kernel_size=(3, 3), stride=(1, 1), padding=(1, 1), bias=False)\n",
       "      (bn2): BatchNorm2d(128, eps=1e-05, momentum=0.1, affine=True, track_running_stats=True)\n",
       "    )\n",
       "  )\n",
       "  (layer3): Sequential(\n",
       "    (0): BasicBlock(\n",
       "      (conv1): Conv2d(128, 256, kernel_size=(3, 3), stride=(2, 2), padding=(1, 1), bias=False)\n",
       "      (bn1): BatchNorm2d(256, eps=1e-05, momentum=0.1, affine=True, track_running_stats=True)\n",
       "      (relu): ReLU(inplace=True)\n",
       "      (conv2): Conv2d(256, 256, kernel_size=(3, 3), stride=(1, 1), padding=(1, 1), bias=False)\n",
       "      (bn2): BatchNorm2d(256, eps=1e-05, momentum=0.1, affine=True, track_running_stats=True)\n",
       "      (downsample): Sequential(\n",
       "        (0): Conv2d(128, 256, kernel_size=(1, 1), stride=(2, 2), bias=False)\n",
       "        (1): BatchNorm2d(256, eps=1e-05, momentum=0.1, affine=True, track_running_stats=True)\n",
       "      )\n",
       "    )\n",
       "    (1): BasicBlock(\n",
       "      (conv1): Conv2d(256, 256, kernel_size=(3, 3), stride=(1, 1), padding=(1, 1), bias=False)\n",
       "      (bn1): BatchNorm2d(256, eps=1e-05, momentum=0.1, affine=True, track_running_stats=True)\n",
       "      (relu): ReLU(inplace=True)\n",
       "      (conv2): Conv2d(256, 256, kernel_size=(3, 3), stride=(1, 1), padding=(1, 1), bias=False)\n",
       "      (bn2): BatchNorm2d(256, eps=1e-05, momentum=0.1, affine=True, track_running_stats=True)\n",
       "    )\n",
       "    (2): BasicBlock(\n",
       "      (conv1): Conv2d(256, 256, kernel_size=(3, 3), stride=(1, 1), padding=(1, 1), bias=False)\n",
       "      (bn1): BatchNorm2d(256, eps=1e-05, momentum=0.1, affine=True, track_running_stats=True)\n",
       "      (relu): ReLU(inplace=True)\n",
       "      (conv2): Conv2d(256, 256, kernel_size=(3, 3), stride=(1, 1), padding=(1, 1), bias=False)\n",
       "      (bn2): BatchNorm2d(256, eps=1e-05, momentum=0.1, affine=True, track_running_stats=True)\n",
       "    )\n",
       "    (3): BasicBlock(\n",
       "      (conv1): Conv2d(256, 256, kernel_size=(3, 3), stride=(1, 1), padding=(1, 1), bias=False)\n",
       "      (bn1): BatchNorm2d(256, eps=1e-05, momentum=0.1, affine=True, track_running_stats=True)\n",
       "      (relu): ReLU(inplace=True)\n",
       "      (conv2): Conv2d(256, 256, kernel_size=(3, 3), stride=(1, 1), padding=(1, 1), bias=False)\n",
       "      (bn2): BatchNorm2d(256, eps=1e-05, momentum=0.1, affine=True, track_running_stats=True)\n",
       "    )\n",
       "    (4): BasicBlock(\n",
       "      (conv1): Conv2d(256, 256, kernel_size=(3, 3), stride=(1, 1), padding=(1, 1), bias=False)\n",
       "      (bn1): BatchNorm2d(256, eps=1e-05, momentum=0.1, affine=True, track_running_stats=True)\n",
       "      (relu): ReLU(inplace=True)\n",
       "      (conv2): Conv2d(256, 256, kernel_size=(3, 3), stride=(1, 1), padding=(1, 1), bias=False)\n",
       "      (bn2): BatchNorm2d(256, eps=1e-05, momentum=0.1, affine=True, track_running_stats=True)\n",
       "    )\n",
       "    (5): BasicBlock(\n",
       "      (conv1): Conv2d(256, 256, kernel_size=(3, 3), stride=(1, 1), padding=(1, 1), bias=False)\n",
       "      (bn1): BatchNorm2d(256, eps=1e-05, momentum=0.1, affine=True, track_running_stats=True)\n",
       "      (relu): ReLU(inplace=True)\n",
       "      (conv2): Conv2d(256, 256, kernel_size=(3, 3), stride=(1, 1), padding=(1, 1), bias=False)\n",
       "      (bn2): BatchNorm2d(256, eps=1e-05, momentum=0.1, affine=True, track_running_stats=True)\n",
       "    )\n",
       "  )\n",
       "  (layer4): Sequential(\n",
       "    (0): BasicBlock(\n",
       "      (conv1): Conv2d(256, 512, kernel_size=(3, 3), stride=(2, 2), padding=(1, 1), bias=False)\n",
       "      (bn1): BatchNorm2d(512, eps=1e-05, momentum=0.1, affine=True, track_running_stats=True)\n",
       "      (relu): ReLU(inplace=True)\n",
       "      (conv2): Conv2d(512, 512, kernel_size=(3, 3), stride=(1, 1), padding=(1, 1), bias=False)\n",
       "      (bn2): BatchNorm2d(512, eps=1e-05, momentum=0.1, affine=True, track_running_stats=True)\n",
       "      (downsample): Sequential(\n",
       "        (0): Conv2d(256, 512, kernel_size=(1, 1), stride=(2, 2), bias=False)\n",
       "        (1): BatchNorm2d(512, eps=1e-05, momentum=0.1, affine=True, track_running_stats=True)\n",
       "      )\n",
       "    )\n",
       "    (1): BasicBlock(\n",
       "      (conv1): Conv2d(512, 512, kernel_size=(3, 3), stride=(1, 1), padding=(1, 1), bias=False)\n",
       "      (bn1): BatchNorm2d(512, eps=1e-05, momentum=0.1, affine=True, track_running_stats=True)\n",
       "      (relu): ReLU(inplace=True)\n",
       "      (conv2): Conv2d(512, 512, kernel_size=(3, 3), stride=(1, 1), padding=(1, 1), bias=False)\n",
       "      (bn2): BatchNorm2d(512, eps=1e-05, momentum=0.1, affine=True, track_running_stats=True)\n",
       "    )\n",
       "    (2): BasicBlock(\n",
       "      (conv1): Conv2d(512, 512, kernel_size=(3, 3), stride=(1, 1), padding=(1, 1), bias=False)\n",
       "      (bn1): BatchNorm2d(512, eps=1e-05, momentum=0.1, affine=True, track_running_stats=True)\n",
       "      (relu): ReLU(inplace=True)\n",
       "      (conv2): Conv2d(512, 512, kernel_size=(3, 3), stride=(1, 1), padding=(1, 1), bias=False)\n",
       "      (bn2): BatchNorm2d(512, eps=1e-05, momentum=0.1, affine=True, track_running_stats=True)\n",
       "    )\n",
       "  )\n",
       "  (avgpool): AdaptiveAvgPool2d(output_size=(1, 1))\n",
       "  (fc): Linear(in_features=512, out_features=1000, bias=True)\n",
       ")"
      ]
     },
     "execution_count": 28,
     "metadata": {},
     "output_type": "execute_result"
    }
   ],
   "source": [
    "model"
   ]
  },
  {
   "cell_type": "code",
   "execution_count": 29,
   "id": "damaged-bubble",
   "metadata": {},
   "outputs": [],
   "source": [
    "converter = T.Compose([\n",
    "    T.RandomVerticalFlip(p=1),\n",
    "    T.ColorJitter(brightness=.5, contrast=.5),\n",
    "    T.ToTensor()\n",
    "])"
   ]
  },
  {
   "cell_type": "code",
   "execution_count": 30,
   "id": "plastic-place",
   "metadata": {},
   "outputs": [],
   "source": [
    "x = converter(img)"
   ]
  },
  {
   "cell_type": "code",
   "execution_count": 31,
   "id": "romance-respondent",
   "metadata": {},
   "outputs": [
    {
     "data": {
      "text/plain": [
       "PIL.JpegImagePlugin.JpegImageFile"
      ]
     },
     "execution_count": 31,
     "metadata": {},
     "output_type": "execute_result"
    }
   ],
   "source": [
    "type(img)"
   ]
  },
  {
   "cell_type": "code",
   "execution_count": 32,
   "id": "sharing-richmond",
   "metadata": {},
   "outputs": [
    {
     "data": {
      "text/plain": [
       "torch.Tensor"
      ]
     },
     "execution_count": 32,
     "metadata": {},
     "output_type": "execute_result"
    }
   ],
   "source": [
    "type(x)"
   ]
  },
  {
   "cell_type": "code",
   "execution_count": 33,
   "id": "funny-operator",
   "metadata": {},
   "outputs": [
    {
     "data": {
      "text/plain": [
       "torch.Size([3, 109, 224])"
      ]
     },
     "execution_count": 33,
     "metadata": {},
     "output_type": "execute_result"
    }
   ],
   "source": [
    "x.shape"
   ]
  },
  {
   "cell_type": "code",
   "execution_count": 34,
   "id": "looking-queue",
   "metadata": {},
   "outputs": [
    {
     "data": {
      "text/plain": [
       "torch.Size([1, 3, 109, 224])"
      ]
     },
     "execution_count": 34,
     "metadata": {},
     "output_type": "execute_result"
    }
   ],
   "source": [
    "# pytorchはまとめて処理することを想定しているから、unsqueezeで1足す必要がある\n",
    "# もしなかったら、モデルは「３枚の画像、１０９チャンネル、２２４の高さって想定と違う認識をしてしまう\n",
    "x.unsqueeze(0).shape"
   ]
  },
  {
   "cell_type": "code",
   "execution_count": 35,
   "id": "intelligent-washington",
   "metadata": {},
   "outputs": [],
   "source": [
    "output = model(x.unsqueeze(0))"
   ]
  },
  {
   "cell_type": "code",
   "execution_count": 36,
   "id": "wrong-diana",
   "metadata": {},
   "outputs": [
    {
     "data": {
      "text/plain": [
       "tensor([[ 0.6506,  1.3284, -0.1414,  0.0365,  0.3114, -0.5741, -0.4175,  1.0541,\n",
       "         -0.8060, -0.9152,  0.5592,  0.3055, -0.0569, -0.3539, -0.1250, -0.2401,\n",
       "          0.1922,  0.5648,  0.3709, -0.1290,  0.4579, -0.0053, -0.7633,  0.4544,\n",
       "         -0.3531,  0.2009,  0.5341, -0.0513,  0.5314,  0.2607,  0.0023,  0.2449,\n",
       "          0.6812,  0.4359,  0.8697,  0.1321, -0.2457,  0.2785, -0.4037, -1.2809,\n",
       "         -0.7034,  0.0147,  0.4927,  0.9532,  0.2271, -0.2382, -1.4824,  0.2600,\n",
       "         -0.1372,  0.8285,  0.9681, -0.4463,  0.2999, -0.3364, -0.4287,  0.3813,\n",
       "          0.8038,  0.4866, -0.0382, -0.4086,  0.1623, -0.7221, -0.2844,  0.1962,\n",
       "         -1.0284, -0.6277, -0.4066,  0.6156,  1.5970,  0.0936,  0.3269, -0.7603,\n",
       "         -0.1379,  0.5388, -0.2794,  0.5627,  0.9027,  0.3822,  0.3046, -0.2623,\n",
       "          0.4991, -0.8302,  0.3345,  0.0245, -0.6941,  0.4732,  0.1664,  0.5981,\n",
       "         -0.7695,  0.3185,  0.8090, -0.3850,  0.8776,  0.5551, -0.4025, -1.6704,\n",
       "          0.7059, -0.3432,  0.2851,  1.5338,  0.1341, -1.1267, -0.1293, -0.9964,\n",
       "         -0.1956, -0.1733,  0.4944, -0.5220,  0.2909,  0.3520, -0.3228, -0.1712,\n",
       "          0.1322, -0.0618, -0.3899, -0.3483,  0.2962,  0.1389,  0.3923,  0.2446,\n",
       "          0.1764,  0.6141,  0.4721, -0.6675,  0.3461, -0.7670,  0.8786, -0.0639,\n",
       "         -0.4677, -0.1003, -1.1946, -0.6119, -0.4357, -0.0624,  0.6808,  0.3642,\n",
       "          0.9530, -0.3967,  0.2286,  0.3214,  0.1034,  0.1774,  0.0136, -0.9297,\n",
       "          0.5540,  0.7061,  0.8093, -0.7192,  1.0721,  0.1594, -1.8273,  0.2175,\n",
       "         -1.5407, -0.3083,  0.3100, -0.4028, -0.7834, -0.3779, -0.3045, -0.3003,\n",
       "         -0.3562,  0.8763, -0.0268,  0.4447, -0.0766,  0.1780,  0.0756, -0.6698,\n",
       "         -0.4070,  0.3867,  0.9038,  0.0745, -1.0775,  0.3916, -0.7575, -0.6340,\n",
       "         -0.1125,  0.8062, -0.5362, -0.3234, -0.1771, -0.0724,  0.8190, -0.7749,\n",
       "          0.2709,  0.1741,  0.0296, -0.3789, -0.2789, -0.1402,  0.9326, -0.0927,\n",
       "         -0.2415,  0.0101,  0.2281, -1.0682, -0.1435, -0.3058, -0.7772,  0.6689,\n",
       "         -0.3215,  1.0104, -0.6506,  0.5511, -0.0870,  0.0240,  0.0497, -0.3620,\n",
       "         -0.5387,  0.0396,  0.5574, -0.0880, -0.9375,  0.1532,  0.2278,  0.0497,\n",
       "          0.4367,  0.1461,  0.4587, -0.4457,  0.0393, -0.2493, -0.4529,  0.6084,\n",
       "          0.0712,  0.4777,  0.0199,  0.2167, -0.1031,  1.2029, -0.2217, -0.0262,\n",
       "         -0.4148,  0.2175, -0.8521,  0.1826, -0.0205, -0.0931,  0.4938, -0.4425,\n",
       "         -0.3400,  0.3325,  0.6338, -0.5064, -0.1690, -0.3646,  0.0500, -0.2038,\n",
       "         -0.0241, -0.1223, -0.4192, -0.2024,  0.9687,  0.9857, -0.1262, -0.6276,\n",
       "          0.0761, -0.1389,  0.0408, -0.5745, -0.7272,  0.2372, -0.7573, -0.5695,\n",
       "         -0.5833, -0.1174, -0.4288,  0.0922,  0.6898,  0.7479, -0.2806, -0.2947,\n",
       "          0.2084, -0.0296,  0.0835,  0.2397, -0.2253,  0.2638,  0.2352, -0.5389,\n",
       "         -0.5957,  0.0087, -1.0884,  0.4758,  0.7037, -0.1964, -0.1019,  1.0924,\n",
       "          0.2250,  0.0677,  0.3544, -0.1536,  0.5464,  0.1061,  0.0093, -0.5882,\n",
       "          0.0398, -0.3718, -0.1469,  0.4629,  0.2883,  0.1960,  0.6251, -0.3341,\n",
       "         -0.4058, -1.1780, -0.7885,  0.2287,  0.3256,  0.3841, -0.4909,  0.0389,\n",
       "          0.7129, -0.3288, -0.2880,  0.0387, -0.3228, -0.7788, -1.4713,  0.9393,\n",
       "          0.2885,  0.0516, -0.5928,  0.9988,  0.8705, -0.2979, -0.4891, -0.1393,\n",
       "         -0.1295, -0.1402,  0.1900, -0.2555, -0.4850,  0.3176, -0.1528,  0.6045,\n",
       "         -0.0592, -0.4903, -0.6220, -0.0708,  0.5796,  0.5735,  0.3162, -0.7586,\n",
       "          0.3925, -0.5072, -0.0893,  0.0670,  0.7158, -0.0264,  0.8795,  1.3107,\n",
       "         -0.1190,  0.1297,  0.1119, -0.6694,  0.7085, -0.4419, -0.4573,  0.4310,\n",
       "          1.3402, -1.2332, -0.0808,  0.7516, -0.8792,  0.0339,  0.9805,  0.1961,\n",
       "          0.2582, -0.8273, -0.7787,  0.2707,  0.1380,  0.4093,  0.8435,  0.2764,\n",
       "         -0.5967, -0.8810,  0.0176, -1.0601, -0.2706, -0.9492, -0.2127,  0.9874,\n",
       "         -0.6815, -0.8896,  0.1005,  0.0397,  0.0583, -0.7805,  0.5860,  1.3275,\n",
       "          0.1732, -0.7922,  0.5569, -0.5125,  0.2004, -0.8417,  0.6774,  0.0045,\n",
       "          0.0626,  0.1438,  0.6678,  0.6199,  0.4939,  0.8570, -0.0218, -0.4368,\n",
       "          1.2889, -0.4250,  0.2148,  0.2136,  0.1926, -0.6255, -0.3814,  0.0137,\n",
       "         -0.7123,  1.5226, -0.6651, -0.0884, -0.2619,  0.0827, -0.9299, -1.0737,\n",
       "         -1.3966, -0.0892,  0.7492,  0.4082,  0.7689, -0.3561,  0.6465, -0.4853,\n",
       "         -0.4171, -0.2282, -0.6905,  0.2628,  0.3807,  0.9995,  0.4160,  0.5202,\n",
       "          0.5333,  0.2178, -0.4121,  0.0584,  0.3486,  0.6015,  0.1211, -0.0460,\n",
       "          0.4587, -0.0522,  0.7616, -0.4118, -0.7032, -0.9907,  0.2330, -0.9840,\n",
       "         -0.8876,  0.0353, -0.0408, -0.2742,  0.0375,  0.8962,  0.1470, -0.5105,\n",
       "          0.6162,  0.9548,  0.7417, -0.5129, -0.8836, -1.2684,  0.4253,  0.2506,\n",
       "          1.2861,  0.2960, -1.0383,  0.1753, -0.3759, -0.0759,  0.3794,  1.6459,\n",
       "          0.6035,  0.8191, -0.3444,  1.1303, -0.4488,  0.7859, -1.1181, -0.6246,\n",
       "         -0.6815, -1.0395, -0.9082, -0.0582, -0.4932, -0.8594, -0.1779,  0.1904,\n",
       "         -0.2009, -1.2173, -0.2943, -0.3598, -1.3698,  0.5146, -1.4915, -0.0181,\n",
       "         -0.7181, -0.5183, -0.3681, -0.0961,  1.2147,  0.3088, -1.0821,  0.0481,\n",
       "         -0.4401, -0.3183,  0.6333, -0.2355, -1.0048, -0.7292, -0.1609, -0.4695,\n",
       "          0.5731,  0.6549, -0.3597,  0.0789,  0.2096,  0.2103, -0.5219, -0.3091,\n",
       "         -0.6425, -0.7810,  0.2728, -0.7615,  1.1861, -0.0055,  0.2825, -0.4547,\n",
       "         -0.2663,  0.5109, -0.7914,  0.1855,  0.1141, -0.9411, -0.7079,  0.7921,\n",
       "         -0.8601,  0.2824,  0.4784,  0.3061, -0.0285, -0.4317,  0.1026,  0.7973,\n",
       "          0.3382,  0.1318, -0.8556, -0.7563, -0.5932, -0.1220, -1.5002,  0.9992,\n",
       "         -0.1292, -0.2102,  0.2654,  0.3810, -0.3850,  0.2569,  0.5154,  0.5054,\n",
       "          1.4303,  0.5352,  0.0680,  0.0042,  1.0783, -0.9486, -1.1657,  1.5898,\n",
       "          0.2646,  0.4423, -0.6306, -0.2527,  0.5176,  0.6358, -0.9559,  0.4715,\n",
       "          0.6032,  0.5232,  0.3058,  0.0872, -0.5063, -0.4595, -0.2131, -0.8197,\n",
       "          0.3011,  1.3225, -2.0007, -0.2335, -0.8953, -0.7139, -0.4633, -0.1439,\n",
       "          0.6461,  0.0138,  0.3904, -0.8136,  0.1230,  0.5824,  0.2481,  0.3781,\n",
       "          0.3210,  0.7043, -0.4416,  0.0765,  0.1960, -0.1558,  0.2468,  0.8889,\n",
       "         -0.3664,  0.2534, -0.5890, -0.4430,  0.9872,  0.9403,  0.6004,  0.2454,\n",
       "          0.4861, -0.3413, -0.0719, -0.7082,  0.7652,  0.0298, -0.8612,  0.1421,\n",
       "         -0.2839, -1.2191, -0.4163, -0.4516, -0.8895,  0.0369, -0.0780, -0.5401,\n",
       "          0.0401,  0.7002, -1.3202,  0.6767, -0.4915, -0.3371, -0.4802, -0.4302,\n",
       "         -0.0228,  0.3869,  0.1750,  0.2116, -0.8559,  0.2695,  0.1380, -0.0774,\n",
       "         -0.8890,  0.3721,  0.6386, -1.0621, -0.2379, -0.1552,  1.1709,  0.0469,\n",
       "         -1.0731,  0.7813, -0.1967, -0.3166,  0.1146,  0.2322, -0.1616,  0.9563,\n",
       "          0.4586,  0.3224, -0.8332, -0.4143,  0.3020, -0.5348, -1.4781,  0.5686,\n",
       "         -0.6640,  2.0670,  0.1554, -0.2812, -0.8858,  0.3938, -0.6855,  0.5816,\n",
       "          0.6994,  0.4853, -0.2690,  0.1620, -0.1015,  0.3013,  1.0252, -0.2535,\n",
       "          0.4880, -0.2744,  0.4216,  0.1232, -0.5122,  0.5692,  0.9927,  0.2068,\n",
       "          0.0815, -1.3693,  0.1105,  1.9830, -0.7579, -0.3955,  0.5370, -0.1497,\n",
       "         -0.4161,  0.3099,  1.3406, -1.4056,  1.3195, -0.3417,  0.5825,  0.6974,\n",
       "         -1.0358,  0.1134, -1.3092, -0.4539, -1.0254,  0.1473, -0.8883,  0.0532,\n",
       "         -0.0911, -0.6126,  0.6107, -0.4198,  1.0952, -1.0979, -0.8201,  0.4988,\n",
       "         -0.0886,  0.4094,  0.7570,  0.2496, -0.1413, -0.5254, -0.5417,  1.0149,\n",
       "         -1.2826, -0.0711,  0.3237, -0.3018, -0.1141, -0.4844, -1.1304,  0.4523,\n",
       "          0.4467, -0.0649,  1.1687,  0.0699, -0.1153, -0.1640, -0.3662,  0.9826,\n",
       "         -0.1948,  0.2072,  0.2192,  1.2672, -0.0652,  0.4172,  0.0859,  0.3282,\n",
       "         -0.6230, -0.9271,  0.0853, -1.0873, -0.7075, -0.6108,  0.1746,  0.3086,\n",
       "         -0.9746,  0.1521, -0.4779, -0.3128,  0.0224, -0.5932,  0.2862, -0.7903,\n",
       "         -0.5616, -0.2064, -0.3396,  0.7004,  0.9746,  0.5533, -0.5398,  0.7644,\n",
       "          0.1455,  0.6914, -0.1237,  0.1641, -0.1365, -0.5607,  0.7426,  0.7744,\n",
       "          0.6052, -0.8294, -0.0256, -0.5316,  0.8798,  0.6105, -0.2215, -0.1924,\n",
       "          0.5270,  0.2361,  0.6126,  0.3416,  0.8236, -0.4252, -0.4717, -0.4661,\n",
       "         -0.0083, -0.5454,  0.3349, -1.1473, -0.5568, -0.0346,  0.2589,  0.2743,\n",
       "          0.6656, -0.2011, -0.8388, -0.7161,  0.0614, -0.6161,  0.0065, -0.3204,\n",
       "         -0.5786, -0.4968,  0.5922,  1.8474,  1.0176, -0.8624, -0.3172,  0.9356,\n",
       "          0.2617, -0.2558, -0.2881, -0.8803,  0.2459,  0.0540,  0.6674,  0.6332,\n",
       "          0.2902, -0.6065, -1.3251,  0.5730, -1.0715, -0.0893, -1.5260, -0.1606,\n",
       "         -0.2807,  0.1778,  0.1003,  0.0942, -0.8107,  0.9820, -0.3302,  0.1694,\n",
       "         -0.4465, -1.0981, -0.4844, -0.1655,  0.3113, -0.6290, -0.4559,  0.7985,\n",
       "          0.0924,  0.9502,  0.6439,  0.4426, -0.4356, -0.3547,  0.0296, -0.3437,\n",
       "         -0.4266, -0.4229,  0.2475, -0.3771,  0.7868, -0.2854,  1.2556, -0.8417,\n",
       "         -0.6121, -0.1544, -0.2485, -0.0838,  0.1635, -0.0470, -0.2699, -1.1109,\n",
       "          0.2969, -0.5883,  0.3585,  0.0090, -0.7723,  0.0539, -0.3307, -0.0849,\n",
       "         -0.0906, -0.7531,  0.0429,  0.1884,  0.8296, -0.4525,  0.2724, -0.4873,\n",
       "         -1.9117, -1.1472, -0.0949,  0.3891,  0.7342, -0.3643,  0.1324,  0.1821,\n",
       "         -0.8741, -0.3208,  0.0161,  0.8155,  0.9145, -0.4251, -0.2818, -0.1484,\n",
       "          0.5256,  0.4132,  0.2304, -0.4404,  0.3932, -0.0668, -1.1691,  0.0423,\n",
       "         -0.3439,  0.1535,  0.0961,  0.6313, -0.1215, -0.4191,  0.3562, -0.8913,\n",
       "          0.6331,  0.1843,  0.3694,  1.2833,  0.9300, -0.1012,  0.7361,  0.5654,\n",
       "         -0.6325, -0.5782, -0.1998, -0.9693,  0.8128, -1.6145, -0.4106,  1.2924,\n",
       "         -0.8443, -0.6604, -0.7825,  1.5523,  0.4822, -0.2311, -0.0042,  0.1537,\n",
       "         -0.0976,  0.4664, -1.4098, -0.1668, -0.6606, -0.1285,  0.5916,  0.4896,\n",
       "          0.2900,  0.0115,  0.2689, -0.7370, -0.0991,  0.3444, -0.5606,  0.9320,\n",
       "          1.1720, -0.5234,  0.3101,  0.2154,  0.3555,  1.2891, -0.1099,  0.1912,\n",
       "         -0.1464, -1.3635, -0.3075, -0.6945, -0.7885,  1.3964,  0.0107,  0.5063]],\n",
       "       grad_fn=<AddmmBackward>)"
      ]
     },
     "execution_count": 36,
     "metadata": {},
     "output_type": "execute_result"
    }
   ],
   "source": [
    "output"
   ]
  },
  {
   "cell_type": "code",
   "execution_count": 37,
   "id": "continental-volunteer",
   "metadata": {},
   "outputs": [
    {
     "data": {
      "text/plain": [
       "torch.Size([1, 1000])"
      ]
     },
     "execution_count": 37,
     "metadata": {},
     "output_type": "execute_result"
    }
   ],
   "source": [
    "output.shape"
   ]
  },
  {
   "cell_type": "code",
   "execution_count": 38,
   "id": "familiar-sodium",
   "metadata": {},
   "outputs": [],
   "source": [
    "model.fc = nn.Linear(in_features=512, out_features=1, bias=True)"
   ]
  },
  {
   "cell_type": "code",
   "execution_count": 39,
   "id": "civic-treasury",
   "metadata": {},
   "outputs": [
    {
     "data": {
      "text/plain": [
       "ResNet(\n",
       "  (conv1): Conv2d(3, 64, kernel_size=(7, 7), stride=(2, 2), padding=(3, 3), bias=False)\n",
       "  (bn1): BatchNorm2d(64, eps=1e-05, momentum=0.1, affine=True, track_running_stats=True)\n",
       "  (relu): ReLU(inplace=True)\n",
       "  (maxpool): MaxPool2d(kernel_size=3, stride=2, padding=1, dilation=1, ceil_mode=False)\n",
       "  (layer1): Sequential(\n",
       "    (0): BasicBlock(\n",
       "      (conv1): Conv2d(64, 64, kernel_size=(3, 3), stride=(1, 1), padding=(1, 1), bias=False)\n",
       "      (bn1): BatchNorm2d(64, eps=1e-05, momentum=0.1, affine=True, track_running_stats=True)\n",
       "      (relu): ReLU(inplace=True)\n",
       "      (conv2): Conv2d(64, 64, kernel_size=(3, 3), stride=(1, 1), padding=(1, 1), bias=False)\n",
       "      (bn2): BatchNorm2d(64, eps=1e-05, momentum=0.1, affine=True, track_running_stats=True)\n",
       "    )\n",
       "    (1): BasicBlock(\n",
       "      (conv1): Conv2d(64, 64, kernel_size=(3, 3), stride=(1, 1), padding=(1, 1), bias=False)\n",
       "      (bn1): BatchNorm2d(64, eps=1e-05, momentum=0.1, affine=True, track_running_stats=True)\n",
       "      (relu): ReLU(inplace=True)\n",
       "      (conv2): Conv2d(64, 64, kernel_size=(3, 3), stride=(1, 1), padding=(1, 1), bias=False)\n",
       "      (bn2): BatchNorm2d(64, eps=1e-05, momentum=0.1, affine=True, track_running_stats=True)\n",
       "    )\n",
       "    (2): BasicBlock(\n",
       "      (conv1): Conv2d(64, 64, kernel_size=(3, 3), stride=(1, 1), padding=(1, 1), bias=False)\n",
       "      (bn1): BatchNorm2d(64, eps=1e-05, momentum=0.1, affine=True, track_running_stats=True)\n",
       "      (relu): ReLU(inplace=True)\n",
       "      (conv2): Conv2d(64, 64, kernel_size=(3, 3), stride=(1, 1), padding=(1, 1), bias=False)\n",
       "      (bn2): BatchNorm2d(64, eps=1e-05, momentum=0.1, affine=True, track_running_stats=True)\n",
       "    )\n",
       "  )\n",
       "  (layer2): Sequential(\n",
       "    (0): BasicBlock(\n",
       "      (conv1): Conv2d(64, 128, kernel_size=(3, 3), stride=(2, 2), padding=(1, 1), bias=False)\n",
       "      (bn1): BatchNorm2d(128, eps=1e-05, momentum=0.1, affine=True, track_running_stats=True)\n",
       "      (relu): ReLU(inplace=True)\n",
       "      (conv2): Conv2d(128, 128, kernel_size=(3, 3), stride=(1, 1), padding=(1, 1), bias=False)\n",
       "      (bn2): BatchNorm2d(128, eps=1e-05, momentum=0.1, affine=True, track_running_stats=True)\n",
       "      (downsample): Sequential(\n",
       "        (0): Conv2d(64, 128, kernel_size=(1, 1), stride=(2, 2), bias=False)\n",
       "        (1): BatchNorm2d(128, eps=1e-05, momentum=0.1, affine=True, track_running_stats=True)\n",
       "      )\n",
       "    )\n",
       "    (1): BasicBlock(\n",
       "      (conv1): Conv2d(128, 128, kernel_size=(3, 3), stride=(1, 1), padding=(1, 1), bias=False)\n",
       "      (bn1): BatchNorm2d(128, eps=1e-05, momentum=0.1, affine=True, track_running_stats=True)\n",
       "      (relu): ReLU(inplace=True)\n",
       "      (conv2): Conv2d(128, 128, kernel_size=(3, 3), stride=(1, 1), padding=(1, 1), bias=False)\n",
       "      (bn2): BatchNorm2d(128, eps=1e-05, momentum=0.1, affine=True, track_running_stats=True)\n",
       "    )\n",
       "    (2): BasicBlock(\n",
       "      (conv1): Conv2d(128, 128, kernel_size=(3, 3), stride=(1, 1), padding=(1, 1), bias=False)\n",
       "      (bn1): BatchNorm2d(128, eps=1e-05, momentum=0.1, affine=True, track_running_stats=True)\n",
       "      (relu): ReLU(inplace=True)\n",
       "      (conv2): Conv2d(128, 128, kernel_size=(3, 3), stride=(1, 1), padding=(1, 1), bias=False)\n",
       "      (bn2): BatchNorm2d(128, eps=1e-05, momentum=0.1, affine=True, track_running_stats=True)\n",
       "    )\n",
       "    (3): BasicBlock(\n",
       "      (conv1): Conv2d(128, 128, kernel_size=(3, 3), stride=(1, 1), padding=(1, 1), bias=False)\n",
       "      (bn1): BatchNorm2d(128, eps=1e-05, momentum=0.1, affine=True, track_running_stats=True)\n",
       "      (relu): ReLU(inplace=True)\n",
       "      (conv2): Conv2d(128, 128, kernel_size=(3, 3), stride=(1, 1), padding=(1, 1), bias=False)\n",
       "      (bn2): BatchNorm2d(128, eps=1e-05, momentum=0.1, affine=True, track_running_stats=True)\n",
       "    )\n",
       "  )\n",
       "  (layer3): Sequential(\n",
       "    (0): BasicBlock(\n",
       "      (conv1): Conv2d(128, 256, kernel_size=(3, 3), stride=(2, 2), padding=(1, 1), bias=False)\n",
       "      (bn1): BatchNorm2d(256, eps=1e-05, momentum=0.1, affine=True, track_running_stats=True)\n",
       "      (relu): ReLU(inplace=True)\n",
       "      (conv2): Conv2d(256, 256, kernel_size=(3, 3), stride=(1, 1), padding=(1, 1), bias=False)\n",
       "      (bn2): BatchNorm2d(256, eps=1e-05, momentum=0.1, affine=True, track_running_stats=True)\n",
       "      (downsample): Sequential(\n",
       "        (0): Conv2d(128, 256, kernel_size=(1, 1), stride=(2, 2), bias=False)\n",
       "        (1): BatchNorm2d(256, eps=1e-05, momentum=0.1, affine=True, track_running_stats=True)\n",
       "      )\n",
       "    )\n",
       "    (1): BasicBlock(\n",
       "      (conv1): Conv2d(256, 256, kernel_size=(3, 3), stride=(1, 1), padding=(1, 1), bias=False)\n",
       "      (bn1): BatchNorm2d(256, eps=1e-05, momentum=0.1, affine=True, track_running_stats=True)\n",
       "      (relu): ReLU(inplace=True)\n",
       "      (conv2): Conv2d(256, 256, kernel_size=(3, 3), stride=(1, 1), padding=(1, 1), bias=False)\n",
       "      (bn2): BatchNorm2d(256, eps=1e-05, momentum=0.1, affine=True, track_running_stats=True)\n",
       "    )\n",
       "    (2): BasicBlock(\n",
       "      (conv1): Conv2d(256, 256, kernel_size=(3, 3), stride=(1, 1), padding=(1, 1), bias=False)\n",
       "      (bn1): BatchNorm2d(256, eps=1e-05, momentum=0.1, affine=True, track_running_stats=True)\n",
       "      (relu): ReLU(inplace=True)\n",
       "      (conv2): Conv2d(256, 256, kernel_size=(3, 3), stride=(1, 1), padding=(1, 1), bias=False)\n",
       "      (bn2): BatchNorm2d(256, eps=1e-05, momentum=0.1, affine=True, track_running_stats=True)\n",
       "    )\n",
       "    (3): BasicBlock(\n",
       "      (conv1): Conv2d(256, 256, kernel_size=(3, 3), stride=(1, 1), padding=(1, 1), bias=False)\n",
       "      (bn1): BatchNorm2d(256, eps=1e-05, momentum=0.1, affine=True, track_running_stats=True)\n",
       "      (relu): ReLU(inplace=True)\n",
       "      (conv2): Conv2d(256, 256, kernel_size=(3, 3), stride=(1, 1), padding=(1, 1), bias=False)\n",
       "      (bn2): BatchNorm2d(256, eps=1e-05, momentum=0.1, affine=True, track_running_stats=True)\n",
       "    )\n",
       "    (4): BasicBlock(\n",
       "      (conv1): Conv2d(256, 256, kernel_size=(3, 3), stride=(1, 1), padding=(1, 1), bias=False)\n",
       "      (bn1): BatchNorm2d(256, eps=1e-05, momentum=0.1, affine=True, track_running_stats=True)\n",
       "      (relu): ReLU(inplace=True)\n",
       "      (conv2): Conv2d(256, 256, kernel_size=(3, 3), stride=(1, 1), padding=(1, 1), bias=False)\n",
       "      (bn2): BatchNorm2d(256, eps=1e-05, momentum=0.1, affine=True, track_running_stats=True)\n",
       "    )\n",
       "    (5): BasicBlock(\n",
       "      (conv1): Conv2d(256, 256, kernel_size=(3, 3), stride=(1, 1), padding=(1, 1), bias=False)\n",
       "      (bn1): BatchNorm2d(256, eps=1e-05, momentum=0.1, affine=True, track_running_stats=True)\n",
       "      (relu): ReLU(inplace=True)\n",
       "      (conv2): Conv2d(256, 256, kernel_size=(3, 3), stride=(1, 1), padding=(1, 1), bias=False)\n",
       "      (bn2): BatchNorm2d(256, eps=1e-05, momentum=0.1, affine=True, track_running_stats=True)\n",
       "    )\n",
       "  )\n",
       "  (layer4): Sequential(\n",
       "    (0): BasicBlock(\n",
       "      (conv1): Conv2d(256, 512, kernel_size=(3, 3), stride=(2, 2), padding=(1, 1), bias=False)\n",
       "      (bn1): BatchNorm2d(512, eps=1e-05, momentum=0.1, affine=True, track_running_stats=True)\n",
       "      (relu): ReLU(inplace=True)\n",
       "      (conv2): Conv2d(512, 512, kernel_size=(3, 3), stride=(1, 1), padding=(1, 1), bias=False)\n",
       "      (bn2): BatchNorm2d(512, eps=1e-05, momentum=0.1, affine=True, track_running_stats=True)\n",
       "      (downsample): Sequential(\n",
       "        (0): Conv2d(256, 512, kernel_size=(1, 1), stride=(2, 2), bias=False)\n",
       "        (1): BatchNorm2d(512, eps=1e-05, momentum=0.1, affine=True, track_running_stats=True)\n",
       "      )\n",
       "    )\n",
       "    (1): BasicBlock(\n",
       "      (conv1): Conv2d(512, 512, kernel_size=(3, 3), stride=(1, 1), padding=(1, 1), bias=False)\n",
       "      (bn1): BatchNorm2d(512, eps=1e-05, momentum=0.1, affine=True, track_running_stats=True)\n",
       "      (relu): ReLU(inplace=True)\n",
       "      (conv2): Conv2d(512, 512, kernel_size=(3, 3), stride=(1, 1), padding=(1, 1), bias=False)\n",
       "      (bn2): BatchNorm2d(512, eps=1e-05, momentum=0.1, affine=True, track_running_stats=True)\n",
       "    )\n",
       "    (2): BasicBlock(\n",
       "      (conv1): Conv2d(512, 512, kernel_size=(3, 3), stride=(1, 1), padding=(1, 1), bias=False)\n",
       "      (bn1): BatchNorm2d(512, eps=1e-05, momentum=0.1, affine=True, track_running_stats=True)\n",
       "      (relu): ReLU(inplace=True)\n",
       "      (conv2): Conv2d(512, 512, kernel_size=(3, 3), stride=(1, 1), padding=(1, 1), bias=False)\n",
       "      (bn2): BatchNorm2d(512, eps=1e-05, momentum=0.1, affine=True, track_running_stats=True)\n",
       "    )\n",
       "  )\n",
       "  (avgpool): AdaptiveAvgPool2d(output_size=(1, 1))\n",
       "  (fc): Linear(in_features=512, out_features=1, bias=True)\n",
       ")"
      ]
     },
     "execution_count": 39,
     "metadata": {},
     "output_type": "execute_result"
    }
   ],
   "source": [
    "model"
   ]
  },
  {
   "cell_type": "code",
   "execution_count": 40,
   "id": "boring-clause",
   "metadata": {},
   "outputs": [
    {
     "data": {
      "text/plain": [
       "tensor([[-0.2786]], grad_fn=<AddmmBackward>)"
      ]
     },
     "execution_count": 40,
     "metadata": {},
     "output_type": "execute_result"
    }
   ],
   "source": [
    "model(x.unsqueeze(0))"
   ]
  },
  {
   "cell_type": "code",
   "execution_count": 41,
   "id": "critical-fortune",
   "metadata": {},
   "outputs": [],
   "source": [
    "criterion = nn.MSELoss()"
   ]
  },
  {
   "cell_type": "code",
   "execution_count": 42,
   "id": "clean-blocking",
   "metadata": {},
   "outputs": [
    {
     "data": {
      "text/plain": [
       "49"
      ]
     },
     "execution_count": 42,
     "metadata": {},
     "output_type": "execute_result"
    }
   ],
   "source": [
    "(3 - 10) ** 2"
   ]
  },
  {
   "cell_type": "code",
   "execution_count": 43,
   "id": "sublime-compatibility",
   "metadata": {},
   "outputs": [
    {
     "data": {
      "text/plain": [
       "tensor(49.)"
      ]
     },
     "execution_count": 43,
     "metadata": {},
     "output_type": "execute_result"
    }
   ],
   "source": [
    "criterion(torch.Tensor([3]), torch.Tensor([10]))"
   ]
  },
  {
   "cell_type": "code",
   "execution_count": 44,
   "id": "caring-radar",
   "metadata": {},
   "outputs": [],
   "source": [
    "from torch.optim import Adam\n",
    "\n",
    "optimizer = Adam(params=model.parameters(), lr=1e-3)"
   ]
  },
  {
   "cell_type": "code",
   "execution_count": 45,
   "id": "cardiovascular-honor",
   "metadata": {},
   "outputs": [
    {
     "name": "stdout",
     "output_type": "stream",
     "text": [
      "1.5745394229888916\n"
     ]
    }
   ],
   "source": [
    "x = converter(img)\n",
    "x = x.unsqueeze(0)\n",
    "\n",
    "label = train_df['target'].iat[0]\n",
    "label = torch.Tensor([label])\n",
    "label = label.reshape(-1, 1)\n",
    "\n",
    "output = model(x)\n",
    "loss = criterion(output, label)\n",
    "\n",
    "optimizer.zero_grad()\n",
    "\n",
    "loss.backward()\n",
    "\n",
    "optimizer.step()\n",
    "\n",
    "print(loss.item())"
   ]
  },
  {
   "cell_type": "code",
   "execution_count": 46,
   "id": "silent-language",
   "metadata": {},
   "outputs": [
    {
     "data": {
      "text/plain": [
       "tensor([[1.]])"
      ]
     },
     "execution_count": 46,
     "metadata": {},
     "output_type": "execute_result"
    }
   ],
   "source": [
    "label"
   ]
  },
  {
   "cell_type": "code",
   "execution_count": 47,
   "id": "middle-stick",
   "metadata": {},
   "outputs": [
    {
     "data": {
      "text/plain": [
       "1"
      ]
     },
     "execution_count": 47,
     "metadata": {},
     "output_type": "execute_result"
    }
   ],
   "source": [
    "train_df['target'].iat[0]"
   ]
  },
  {
   "cell_type": "code",
   "execution_count": 48,
   "id": "monetary-salmon",
   "metadata": {},
   "outputs": [],
   "source": [
    "from torch.utils import data\n",
    "\n",
    "IMG_MEAN = [0.485, 0.456, 0.406]\n",
    "IMG_STD = [0.229, 0.224, 0.225]\n",
    "\n",
    "class AtmaDataset(data.Dataset):\n",
    "    \"\"\"atmaCup用にデータ読み込み等を行なうデータ・セット\"\"\"\n",
    "    object_path_key = \"object_path\"\n",
    "    label_key = \"target\"\n",
    "\n",
    "    @property\n",
    "    def meta_keys(self):\n",
    "        retval = [self.object_path_key]\n",
    "\n",
    "        if self.is_train:\n",
    "            retval += [self.label_key]\n",
    "\n",
    "        return retval\n",
    "\n",
    "    def __init__(self, meta_df: pd.DataFrame, is_train=True):\n",
    "        \"\"\"\n",
    "        args:\n",
    "            meta_df: \n",
    "                画像へのパスと label 情報が含まれている dataframe\n",
    "                必ず object_path に画像へのパス, target に正解ラベルが入っている必要があります\n",
    "            \n",
    "            is_train:\n",
    "                True のとき学習用のデータ拡張を適用します.\n",
    "                False の時は単に size にリサイズを行います\n",
    "        \"\"\"\n",
    "\n",
    "        self.is_train = is_train\n",
    "        for k in self.meta_keys:\n",
    "            if k not in meta_df:\n",
    "                raise ValueError(\"meta df must have {}\".format(k))\n",
    "\n",
    "        self.meta_df = meta_df.reset_index(drop=True)\n",
    "        self.index_to_data = self.meta_df.to_dict(orient=\"index\")\n",
    "\n",
    "        size = (224, 224)\n",
    "\n",
    "        additional_items = (\n",
    "            [T.Resize(size)]\n",
    "            if not is_train\n",
    "            else [\n",
    "                T.RandomGrayscale(p=0.2),\n",
    "                T.RandomVerticalFlip(),\n",
    "                T.RandomHorizontalFlip(),\n",
    "                T.ColorJitter(\n",
    "                    brightness=0.3,\n",
    "                    contrast=0.5,\n",
    "                    saturation=[0.8, 1.3],\n",
    "                    hue=[-0.05, 0.05],\n",
    "                ),\n",
    "                T.RandomResizedCrop(size),\n",
    "            ]\n",
    "        )\n",
    "\n",
    "        self.transformer = T.Compose(\n",
    "            [*additional_items, T.ToTensor(), T.Normalize(mean=IMG_MEAN, std=IMG_STD)]\n",
    "        )\n",
    "\n",
    "    def __getitem__(self, index):\n",
    "        data = self.index_to_data[index]\n",
    "\n",
    "        obj_path, label = data.get(self.object_path_key), data.get(self.label_key, -1)\n",
    "        img = Image.open(obj_path)\n",
    "        img = self.transformer(img)\n",
    "        return img, label\n",
    "\n",
    "    def __len__(self):\n",
    "        return len(self.meta_df)"
   ]
  },
  {
   "cell_type": "code",
   "execution_count": 49,
   "id": "funky-newsletter",
   "metadata": {},
   "outputs": [],
   "source": [
    "train_meta_df = train_df[['target', 'object_id']].copy()\n",
    "train_meta_df['object_path'] = train_meta_df['object_id'].map(to_img_path)\n",
    "\n",
    "dataset = AtmaDataset(meta_df=train_meta_df)"
   ]
  },
  {
   "cell_type": "code",
   "execution_count": 50,
   "id": "signal-cooper",
   "metadata": {},
   "outputs": [],
   "source": [
    "# この場合同時に 54 個の画像に対応した tensor と label が作られる\n",
    "loader = data.DataLoader(dataset=dataset, batch_size=54, num_workers=4)"
   ]
  },
  {
   "cell_type": "code",
   "execution_count": 51,
   "id": "powered-reggae",
   "metadata": {},
   "outputs": [],
   "source": [
    "for x_tensor, y in loader:\n",
    "    break"
   ]
  },
  {
   "cell_type": "code",
   "execution_count": 52,
   "id": "applicable-python",
   "metadata": {},
   "outputs": [
    {
     "name": "stdout",
     "output_type": "stream",
     "text": [
      "|            Variable Name|    Memory|\n",
      " ------------------------------------ \n",
      "|                 input_df|   1273291|\n",
      "|              material_df|   1273291|\n",
      "|             photo_pathes|     83120|\n",
      "|             technique_df|    522178|\n",
      "|                  test_df|    455923|\n",
      "|                 train_df|    669450|\n",
      "|            train_meta_df|    819056|\n"
     ]
    }
   ],
   "source": [
    "import sys\n",
    "\n",
    "print(\"{}{: >25}{}{: >10}{}\".format('|','Variable Name','|','Memory','|'))\n",
    "print(\" ------------------------------------ \")\n",
    "\n",
    "for var_name in dir():\n",
    "    if not var_name.startswith(\"_\") and sys.getsizeof(eval(var_name)) > 10000:\n",
    "        print(\"{}{: >25}{}{: >10}{}\".format('|',var_name,'|',sys.getsizeof(eval(var_name)),'|'))"
   ]
  },
  {
   "cell_type": "code",
   "execution_count": 53,
   "id": "nominated-grenada",
   "metadata": {},
   "outputs": [
    {
     "data": {
      "text/plain": [
       "(torch.Size([54, 3, 224, 224]), torch.Size([54]))"
      ]
     },
     "execution_count": 53,
     "metadata": {},
     "output_type": "execute_result"
    }
   ],
   "source": [
    "x_tensor.shape, y.shape"
   ]
  },
  {
   "cell_type": "code",
   "execution_count": 54,
   "id": "adverse-output",
   "metadata": {},
   "outputs": [
    {
     "data": {
      "text/plain": [
       "[1, 2, 3, 4, 5, 5]"
      ]
     },
     "execution_count": 54,
     "metadata": {},
     "output_type": "execute_result"
    }
   ],
   "source": [
    "aa = [1,2,3]\n",
    "aa += [4,5,5]\n",
    "aa"
   ]
  },
  {
   "cell_type": "code",
   "execution_count": 55,
   "id": "historical-chocolate",
   "metadata": {},
   "outputs": [],
   "source": [
    "assert torch.cuda.is_available()\n",
    "\n",
    "DEVICE = torch.device(\"cuda\")"
   ]
  },
  {
   "cell_type": "code",
   "execution_count": 56,
   "id": "classified-police",
   "metadata": {},
   "outputs": [],
   "source": [
    "from torch.optim.optimizer import Optimizer\n",
    "from collections import defaultdict\n",
    "\n",
    "def train(\n",
    "    model: nn.Module,\n",
    "    optimizer: Optimizer,\n",
    "    train_loader: data.DataLoader\n",
    ") -> pd.Series:\n",
    "    \n",
    "    model.train()\n",
    "    criterion = nn.MSELoss()\n",
    "    \n",
    "    metrics = defaultdict(float)\n",
    "    n_iters = len(train_loader)\n",
    "    \n",
    "    for i, (x_i, y_i) in enumerate(train_loader):\n",
    "        x_i = x_i.to(DEVICE)\n",
    "        y_i = y_i.to(DEVICE).reshape(-1, 1).float()\n",
    "        \n",
    "        output = model(x_i)\n",
    "        loss = criterion(output, y_i)\n",
    "        \n",
    "        optimizer.zero_grad()\n",
    "        loss.backward()\n",
    "        optimizer.step()\n",
    "        \n",
    "        metric_i = {\n",
    "            \"loss\": loss.item()\n",
    "        }\n",
    "        for k, v in metric_i.items():\n",
    "            metrics[k] += v\n",
    "            \n",
    "    for k, v in metrics.items():\n",
    "        metrics[k] /= n_iters\n",
    "        \n",
    "    return pd.Series(metrics).add_prefix(\"train_\")"
   ]
  },
  {
   "cell_type": "code",
   "execution_count": 57,
   "id": "handmade-motorcycle",
   "metadata": {},
   "outputs": [
    {
     "data": {
      "text/plain": [
       "array([[ 0,  1,  2,  3],\n",
       "       [ 4,  5,  6,  7],\n",
       "       [ 8,  9, 10, 11]])"
      ]
     },
     "execution_count": 57,
     "metadata": {},
     "output_type": "execute_result"
    }
   ],
   "source": [
    "a = np.arange(12).reshape(3,4)\n",
    "a"
   ]
  },
  {
   "cell_type": "code",
   "execution_count": 58,
   "id": "textile-omaha",
   "metadata": {},
   "outputs": [
    {
     "data": {
      "text/plain": [
       "array([[ 0],\n",
       "       [ 1],\n",
       "       [ 2],\n",
       "       [ 3],\n",
       "       [ 4],\n",
       "       [ 5],\n",
       "       [ 6],\n",
       "       [ 7],\n",
       "       [ 8],\n",
       "       [ 9],\n",
       "       [10],\n",
       "       [11]])"
      ]
     },
     "execution_count": 58,
     "metadata": {},
     "output_type": "execute_result"
    }
   ],
   "source": [
    "a.reshape(-1, 1)"
   ]
  },
  {
   "cell_type": "code",
   "execution_count": 59,
   "id": "dying-merchandise",
   "metadata": {},
   "outputs": [
    {
     "name": "stdout",
     "output_type": "stream",
     "text": [
      "train: epoch=1 23.314[s]\n",
      "train_loss    1.440841\n",
      "dtype: float64\n"
     ]
    }
   ],
   "source": [
    "from vivid.utils import timer\n",
    "\n",
    "n_epochs = 10\n",
    "\n",
    "model.to(DEVICE)\n",
    "optimizer = Adam(params=model.parameters(), lr=1e-3)\n",
    "\n",
    "for epoch in range(1, n_epochs+1):\n",
    "    with timer(prefix=\"train: epoch={}\".format(epoch)):\n",
    "        score_train = train(\n",
    "            model, optimizer, train_loader=loader\n",
    "        )\n",
    "    print(score_train)\n",
    "    \n",
    "    break"
   ]
  },
  {
   "cell_type": "code",
   "execution_count": 60,
   "id": "featured-highland",
   "metadata": {},
   "outputs": [],
   "source": [
    "from sklearn.model_selection import KFold\n",
    "fold = KFold(n_splits=5, shuffle=True, random_state=510)\n",
    "cv = list(fold.split(X=train_df, y=train_df['target']))"
   ]
  },
  {
   "cell_type": "code",
   "execution_count": 61,
   "id": "compound-korea",
   "metadata": {},
   "outputs": [
    {
     "data": {
      "text/plain": [
       "[(array([   0,    1,    2, ..., 3934, 3935, 3936]),\n",
       "  array([   3,    6,   10,   23,   25,   30,   34,   40,   57,   63,   71,\n",
       "           74,   82,   92,   93,  100,  124,  125,  126,  129,  133,  136,\n",
       "          139,  142,  153,  154,  158,  161,  167,  172,  173,  179,  192,\n",
       "          212,  223,  224,  227,  229,  230,  231,  233,  241,  242,  244,\n",
       "          249,  256,  260,  261,  262,  272,  276,  277,  279,  292,  294,\n",
       "          295,  296,  307,  326,  327,  330,  332,  340,  342,  343,  353,\n",
       "          355,  357,  359,  361,  367,  368,  377,  378,  386,  392,  397,\n",
       "          403,  414,  422,  424,  434,  436,  443,  449,  451,  458,  461,\n",
       "          467,  468,  478,  486,  490,  491,  493,  497,  499,  501,  512,\n",
       "          513,  515,  527,  530,  532,  540,  547,  553,  556,  566,  568,\n",
       "          575,  576,  583,  584,  585,  600,  612,  614,  628,  659,  660,\n",
       "          668,  669,  672,  682,  689,  695,  701,  702,  720,  721,  722,\n",
       "          724,  732,  739,  743,  748,  749,  750,  751,  773,  774,  780,\n",
       "          783,  790,  792,  794,  795,  812,  816,  818,  819,  821,  827,\n",
       "          847,  852,  854,  855,  863,  864,  868,  869,  882,  886,  889,\n",
       "          891,  894,  895,  898,  899,  900,  901,  906,  908,  914,  915,\n",
       "          917,  918,  920,  931,  932,  935,  942,  962,  969,  972,  978,\n",
       "          979,  980,  987,  989,  995,  998, 1002, 1005, 1006, 1012, 1015,\n",
       "         1019, 1026, 1027, 1029, 1030, 1031, 1035, 1036, 1051, 1060, 1067,\n",
       "         1069, 1077, 1079, 1080, 1081, 1083, 1085, 1087, 1090, 1091, 1093,\n",
       "         1094, 1095, 1105, 1121, 1122, 1123, 1126, 1131, 1147, 1150, 1154,\n",
       "         1157, 1172, 1181, 1186, 1187, 1198, 1201, 1202, 1211, 1212, 1230,\n",
       "         1232, 1238, 1239, 1243, 1249, 1250, 1256, 1259, 1264, 1268, 1274,\n",
       "         1278, 1282, 1283, 1287, 1294, 1295, 1297, 1303, 1305, 1306, 1313,\n",
       "         1320, 1335, 1346, 1350, 1354, 1357, 1358, 1366, 1368, 1370, 1372,\n",
       "         1380, 1393, 1405, 1407, 1409, 1421, 1425, 1426, 1427, 1429, 1432,\n",
       "         1436, 1443, 1457, 1460, 1461, 1462, 1464, 1469, 1470, 1472, 1480,\n",
       "         1491, 1500, 1504, 1508, 1510, 1516, 1518, 1520, 1521, 1522, 1523,\n",
       "         1527, 1535, 1546, 1556, 1558, 1560, 1561, 1564, 1571, 1579, 1585,\n",
       "         1587, 1592, 1608, 1612, 1614, 1619, 1622, 1623, 1627, 1628, 1630,\n",
       "         1635, 1636, 1640, 1644, 1645, 1646, 1650, 1651, 1655, 1659, 1662,\n",
       "         1667, 1670, 1671, 1672, 1677, 1681, 1686, 1694, 1695, 1697, 1698,\n",
       "         1709, 1711, 1714, 1724, 1725, 1727, 1735, 1739, 1740, 1744, 1747,\n",
       "         1750, 1753, 1783, 1785, 1786, 1790, 1795, 1799, 1804, 1809, 1810,\n",
       "         1811, 1813, 1816, 1824, 1825, 1830, 1836, 1857, 1858, 1860, 1864,\n",
       "         1865, 1866, 1875, 1898, 1905, 1907, 1927, 1941, 1943, 1950, 1952,\n",
       "         1953, 1964, 1973, 1975, 1976, 1977, 1981, 1988, 1990, 1992, 1994,\n",
       "         1998, 2002, 2003, 2014, 2016, 2034, 2038, 2045, 2053, 2054, 2073,\n",
       "         2075, 2076, 2081, 2086, 2096, 2098, 2105, 2107, 2110, 2111, 2114,\n",
       "         2116, 2117, 2121, 2128, 2129, 2133, 2136, 2140, 2145, 2147, 2148,\n",
       "         2149, 2163, 2164, 2165, 2166, 2171, 2172, 2175, 2177, 2185, 2190,\n",
       "         2196, 2197, 2198, 2212, 2216, 2217, 2219, 2222, 2228, 2231, 2236,\n",
       "         2240, 2245, 2255, 2270, 2278, 2287, 2294, 2298, 2304, 2310, 2313,\n",
       "         2319, 2320, 2323, 2332, 2336, 2338, 2343, 2345, 2350, 2354, 2362,\n",
       "         2364, 2366, 2367, 2369, 2370, 2375, 2377, 2384, 2385, 2392, 2393,\n",
       "         2396, 2397, 2400, 2409, 2427, 2436, 2454, 2459, 2463, 2465, 2471,\n",
       "         2478, 2479, 2482, 2487, 2495, 2510, 2511, 2517, 2519, 2534, 2539,\n",
       "         2540, 2571, 2576, 2577, 2588, 2591, 2601, 2612, 2613, 2617, 2619,\n",
       "         2620, 2628, 2633, 2641, 2643, 2647, 2650, 2652, 2660, 2662, 2672,\n",
       "         2673, 2676, 2703, 2706, 2709, 2716, 2720, 2732, 2733, 2736, 2737,\n",
       "         2754, 2758, 2761, 2764, 2767, 2768, 2789, 2804, 2805, 2806, 2817,\n",
       "         2821, 2822, 2823, 2825, 2832, 2833, 2836, 2839, 2843, 2845, 2847,\n",
       "         2851, 2856, 2857, 2862, 2867, 2868, 2873, 2886, 2887, 2891, 2892,\n",
       "         2898, 2905, 2910, 2911, 2917, 2918, 2924, 2929, 2931, 2935, 2937,\n",
       "         2941, 2943, 2944, 2950, 2956, 2957, 2958, 2971, 2974, 2975, 2978,\n",
       "         2981, 2985, 2986, 2994, 2995, 3000, 3006, 3009, 3010, 3016, 3022,\n",
       "         3025, 3026, 3031, 3033, 3039, 3046, 3050, 3064, 3065, 3068, 3073,\n",
       "         3075, 3088, 3089, 3091, 3100, 3107, 3108, 3136, 3146, 3147, 3149,\n",
       "         3152, 3155, 3156, 3167, 3170, 3179, 3182, 3183, 3188, 3189, 3196,\n",
       "         3214, 3216, 3218, 3221, 3224, 3231, 3235, 3237, 3238, 3239, 3244,\n",
       "         3255, 3264, 3265, 3266, 3271, 3276, 3285, 3302, 3306, 3313, 3323,\n",
       "         3326, 3328, 3336, 3337, 3343, 3345, 3349, 3360, 3372, 3376, 3383,\n",
       "         3384, 3390, 3395, 3397, 3401, 3402, 3403, 3406, 3420, 3433, 3451,\n",
       "         3453, 3457, 3458, 3460, 3461, 3465, 3468, 3475, 3483, 3496, 3498,\n",
       "         3508, 3512, 3513, 3518, 3519, 3520, 3534, 3537, 3544, 3547, 3553,\n",
       "         3554, 3558, 3561, 3571, 3573, 3575, 3576, 3583, 3587, 3588, 3591,\n",
       "         3610, 3612, 3613, 3618, 3621, 3622, 3625, 3627, 3628, 3631, 3635,\n",
       "         3638, 3650, 3658, 3678, 3680, 3694, 3695, 3698, 3701, 3707, 3714,\n",
       "         3720, 3723, 3741, 3745, 3753, 3755, 3760, 3762, 3766, 3769, 3774,\n",
       "         3775, 3780, 3782, 3792, 3806, 3809, 3812, 3813, 3824, 3829, 3832,\n",
       "         3835, 3842, 3849, 3850, 3870, 3872, 3882, 3890, 3894, 3898, 3906,\n",
       "         3907, 3914, 3917, 3918, 3920, 3923, 3928])),\n",
       " (array([   0,    3,    4, ..., 3933, 3934, 3935]),\n",
       "  array([   1,    2,    7,   12,   13,   18,   20,   21,   29,   36,   39,\n",
       "           42,   47,   54,   60,   61,   66,   68,   69,   80,   85,   86,\n",
       "           87,   91,  101,  104,  113,  114,  119,  120,  130,  135,  141,\n",
       "          143,  149,  152,  155,  166,  169,  170,  178,  180,  186,  187,\n",
       "          189,  194,  205,  213,  219,  222,  225,  232,  234,  235,  236,\n",
       "          239,  243,  252,  254,  258,  259,  274,  281,  299,  310,  316,\n",
       "          320,  321,  328,  331,  336,  344,  349,  351,  354,  365,  366,\n",
       "          379,  381,  383,  390,  399,  407,  412,  413,  417,  421,  425,\n",
       "          432,  433,  435,  447,  448,  462,  463,  480,  495,  504,  508,\n",
       "          520,  523,  529,  538,  541,  543,  548,  554,  560,  571,  577,\n",
       "          579,  580,  588,  590,  595,  604,  608,  610,  617,  625,  627,\n",
       "          633,  634,  641,  644,  645,  652,  657,  664,  665,  673,  681,\n",
       "          683,  684,  685,  686,  687,  688,  690,  691,  696,  699,  703,\n",
       "          706,  715,  717,  718,  725,  728,  741,  757,  758,  760,  763,\n",
       "          764,  765,  778,  779,  784,  785,  786,  820,  830,  835,  838,\n",
       "          841,  845,  846,  850,  856,  857,  858,  865,  872,  874,  877,\n",
       "          879,  880,  887,  892,  897,  902,  911,  919,  922,  927,  933,\n",
       "          936,  937,  943,  947,  951,  952,  953,  959,  960,  966,  975,\n",
       "          977,  994,  997, 1007, 1017, 1021, 1037, 1038, 1039, 1040, 1043,\n",
       "         1047, 1050, 1066, 1076, 1078, 1092, 1096, 1101, 1107, 1109, 1113,\n",
       "         1115, 1118, 1120, 1124, 1130, 1132, 1133, 1143, 1144, 1148, 1158,\n",
       "         1162, 1163, 1177, 1179, 1189, 1190, 1194, 1196, 1216, 1218, 1220,\n",
       "         1221, 1227, 1228, 1231, 1242, 1251, 1252, 1258, 1260, 1272, 1273,\n",
       "         1281, 1292, 1298, 1301, 1302, 1316, 1339, 1341, 1343, 1352, 1373,\n",
       "         1378, 1392, 1395, 1398, 1402, 1417, 1423, 1430, 1437, 1440, 1441,\n",
       "         1442, 1445, 1458, 1471, 1473, 1479, 1482, 1490, 1495, 1499, 1501,\n",
       "         1503, 1505, 1511, 1515, 1519, 1525, 1529, 1532, 1534, 1538, 1540,\n",
       "         1551, 1557, 1569, 1570, 1572, 1573, 1575, 1576, 1582, 1588, 1591,\n",
       "         1594, 1599, 1615, 1620, 1625, 1643, 1648, 1656, 1657, 1660, 1663,\n",
       "         1665, 1676, 1682, 1687, 1696, 1699, 1705, 1710, 1719, 1720, 1721,\n",
       "         1723, 1726, 1732, 1734, 1742, 1743, 1748, 1755, 1758, 1767, 1769,\n",
       "         1770, 1778, 1780, 1784, 1793, 1797, 1800, 1802, 1806, 1807, 1814,\n",
       "         1817, 1818, 1821, 1828, 1846, 1848, 1855, 1868, 1870, 1874, 1877,\n",
       "         1880, 1891, 1897, 1901, 1906, 1911, 1916, 1917, 1925, 1930, 1933,\n",
       "         1934, 1937, 1946, 1959, 1960, 1962, 1978, 1982, 1984, 1993, 1995,\n",
       "         1997, 2001, 2007, 2010, 2015, 2017, 2021, 2027, 2028, 2035, 2041,\n",
       "         2042, 2049, 2052, 2059, 2066, 2074, 2083, 2091, 2092, 2099, 2101,\n",
       "         2112, 2131, 2132, 2139, 2155, 2157, 2158, 2159, 2160, 2161, 2167,\n",
       "         2169, 2176, 2183, 2186, 2199, 2205, 2208, 2211, 2213, 2214, 2221,\n",
       "         2224, 2227, 2233, 2244, 2249, 2251, 2252, 2256, 2262, 2264, 2269,\n",
       "         2271, 2274, 2284, 2286, 2289, 2292, 2295, 2301, 2303, 2306, 2308,\n",
       "         2309, 2312, 2324, 2325, 2340, 2341, 2359, 2360, 2361, 2365, 2371,\n",
       "         2372, 2374, 2386, 2388, 2398, 2399, 2411, 2420, 2422, 2437, 2440,\n",
       "         2444, 2446, 2450, 2452, 2453, 2457, 2473, 2480, 2488, 2498, 2500,\n",
       "         2508, 2512, 2514, 2515, 2520, 2524, 2529, 2532, 2535, 2537, 2538,\n",
       "         2542, 2546, 2551, 2555, 2561, 2565, 2572, 2573, 2582, 2583, 2599,\n",
       "         2600, 2604, 2608, 2610, 2611, 2624, 2625, 2629, 2635, 2638, 2642,\n",
       "         2651, 2654, 2663, 2664, 2665, 2668, 2680, 2685, 2689, 2690, 2692,\n",
       "         2695, 2697, 2698, 2702, 2704, 2705, 2707, 2708, 2719, 2721, 2722,\n",
       "         2726, 2731, 2738, 2739, 2743, 2745, 2748, 2752, 2755, 2756, 2759,\n",
       "         2770, 2773, 2778, 2779, 2786, 2791, 2794, 2799, 2803, 2813, 2814,\n",
       "         2826, 2828, 2838, 2840, 2855, 2861, 2863, 2874, 2876, 2881, 2888,\n",
       "         2895, 2896, 2900, 2903, 2909, 2912, 2913, 2925, 2963, 2966, 2969,\n",
       "         2977, 2980, 2988, 2991, 2993, 2997, 2999, 3004, 3011, 3013, 3014,\n",
       "         3017, 3019, 3027, 3029, 3034, 3035, 3036, 3038, 3044, 3045, 3051,\n",
       "         3052, 3058, 3059, 3061, 3080, 3083, 3085, 3090, 3096, 3099, 3101,\n",
       "         3109, 3114, 3117, 3124, 3128, 3133, 3141, 3145, 3148, 3157, 3158,\n",
       "         3162, 3164, 3171, 3174, 3187, 3193, 3200, 3217, 3222, 3223, 3230,\n",
       "         3232, 3236, 3245, 3246, 3247, 3253, 3260, 3269, 3270, 3273, 3277,\n",
       "         3283, 3284, 3287, 3291, 3309, 3310, 3316, 3319, 3321, 3322, 3325,\n",
       "         3329, 3330, 3339, 3342, 3351, 3358, 3359, 3362, 3363, 3365, 3370,\n",
       "         3375, 3378, 3379, 3381, 3391, 3394, 3396, 3410, 3417, 3432, 3436,\n",
       "         3440, 3444, 3447, 3455, 3456, 3472, 3473, 3474, 3477, 3480, 3490,\n",
       "         3492, 3500, 3501, 3502, 3507, 3517, 3523, 3524, 3525, 3529, 3542,\n",
       "         3543, 3546, 3550, 3555, 3557, 3562, 3565, 3567, 3579, 3585, 3594,\n",
       "         3597, 3606, 3615, 3623, 3624, 3629, 3633, 3634, 3639, 3641, 3646,\n",
       "         3647, 3655, 3661, 3670, 3671, 3672, 3681, 3688, 3689, 3690, 3699,\n",
       "         3702, 3715, 3722, 3728, 3736, 3739, 3742, 3746, 3748, 3758, 3765,\n",
       "         3768, 3771, 3776, 3781, 3791, 3793, 3795, 3796, 3797, 3798, 3810,\n",
       "         3811, 3815, 3816, 3818, 3819, 3830, 3833, 3836, 3838, 3846, 3848,\n",
       "         3854, 3863, 3873, 3875, 3877, 3878, 3881, 3883, 3885, 3893, 3895,\n",
       "         3899, 3900, 3904, 3922, 3927, 3929, 3936])),\n",
       " (array([   0,    1,    2, ..., 3933, 3934, 3936]),\n",
       "  array([  26,   28,   31,   35,   41,   44,   45,   46,   48,   49,   53,\n",
       "           56,   58,   59,   72,   75,   78,   84,   90,   97,  102,  105,\n",
       "          106,  111,  112,  115,  116,  123,  127,  134,  145,  148,  159,\n",
       "          162,  165,  184,  185,  193,  197,  198,  199,  200,  201,  203,\n",
       "          204,  207,  209,  214,  217,  218,  221,  226,  240,  246,  257,\n",
       "          263,  269,  270,  275,  280,  283,  284,  287,  289,  290,  293,\n",
       "          297,  298,  300,  304,  306,  312,  313,  317,  322,  323,  324,\n",
       "          337,  338,  341,  347,  348,  352,  362,  369,  385,  391,  395,\n",
       "          398,  401,  409,  410,  415,  416,  423,  428,  429,  430,  439,\n",
       "          441,  442,  446,  450,  453,  456,  457,  459,  465,  466,  473,\n",
       "          475,  488,  492,  494,  496,  514,  517,  518,  521,  524,  535,\n",
       "          546,  551,  552,  555,  557,  559,  563,  565,  572,  574,  578,\n",
       "          581,  591,  593,  597,  599,  602,  603,  616,  624,  629,  639,\n",
       "          646,  651,  655,  670,  671,  677,  693,  700,  705,  708,  714,\n",
       "          737,  742,  746,  752,  753,  755,  762,  768,  770,  772,  776,\n",
       "          781,  782,  787,  788,  789,  793,  796,  799,  800,  801,  807,\n",
       "          822,  825,  828,  831,  832,  834,  836,  837,  839,  842,  843,\n",
       "          844,  848,  859,  860,  861,  867,  883,  884,  903,  913,  921,\n",
       "          923,  924,  928,  929,  930,  934,  941,  949,  954,  956,  961,\n",
       "          970,  971,  973,  983,  985,  986,  991,  992,  996, 1011, 1014,\n",
       "         1018, 1022, 1033, 1044, 1061, 1068, 1086, 1097, 1111, 1112, 1117,\n",
       "         1127, 1135, 1137, 1140, 1151, 1153, 1160, 1165, 1168, 1170, 1176,\n",
       "         1178, 1180, 1183, 1191, 1193, 1199, 1203, 1204, 1206, 1208, 1209,\n",
       "         1219, 1223, 1229, 1233, 1235, 1236, 1240, 1244, 1247, 1248, 1254,\n",
       "         1267, 1270, 1275, 1280, 1288, 1290, 1293, 1300, 1304, 1315, 1317,\n",
       "         1321, 1323, 1326, 1327, 1331, 1332, 1334, 1338, 1340, 1342, 1344,\n",
       "         1348, 1351, 1355, 1362, 1363, 1365, 1384, 1387, 1390, 1391, 1394,\n",
       "         1397, 1406, 1411, 1412, 1416, 1420, 1424, 1447, 1449, 1450, 1453,\n",
       "         1454, 1467, 1486, 1488, 1489, 1506, 1514, 1530, 1531, 1533, 1539,\n",
       "         1542, 1549, 1552, 1568, 1577, 1586, 1589, 1593, 1602, 1606, 1616,\n",
       "         1621, 1626, 1629, 1634, 1666, 1669, 1675, 1685, 1688, 1693, 1703,\n",
       "         1706, 1730, 1741, 1746, 1754, 1756, 1759, 1761, 1764, 1765, 1771,\n",
       "         1773, 1775, 1776, 1781, 1787, 1791, 1794, 1796, 1815, 1822, 1826,\n",
       "         1837, 1838, 1840, 1842, 1849, 1850, 1851, 1852, 1856, 1859, 1861,\n",
       "         1867, 1869, 1878, 1879, 1884, 1887, 1896, 1918, 1921, 1922, 1926,\n",
       "         1938, 1939, 1945, 1951, 1954, 1957, 1965, 1966, 1968, 1971, 1983,\n",
       "         1991, 2004, 2008, 2011, 2018, 2020, 2022, 2024, 2025, 2043, 2044,\n",
       "         2046, 2051, 2058, 2064, 2069, 2070, 2084, 2093, 2097, 2100, 2103,\n",
       "         2104, 2113, 2118, 2120, 2122, 2124, 2134, 2143, 2151, 2152, 2162,\n",
       "         2170, 2173, 2180, 2181, 2188, 2189, 2193, 2201, 2204, 2210, 2223,\n",
       "         2229, 2238, 2248, 2267, 2276, 2282, 2288, 2299, 2300, 2302, 2305,\n",
       "         2307, 2314, 2322, 2331, 2342, 2346, 2347, 2353, 2356, 2357, 2358,\n",
       "         2373, 2378, 2379, 2383, 2387, 2394, 2403, 2404, 2405, 2408, 2414,\n",
       "         2417, 2418, 2419, 2423, 2430, 2432, 2433, 2434, 2438, 2441, 2442,\n",
       "         2443, 2456, 2458, 2460, 2466, 2467, 2468, 2475, 2481, 2485, 2486,\n",
       "         2489, 2490, 2491, 2493, 2494, 2497, 2503, 2504, 2505, 2509, 2513,\n",
       "         2518, 2544, 2548, 2550, 2567, 2568, 2581, 2587, 2589, 2602, 2605,\n",
       "         2614, 2615, 2618, 2621, 2622, 2627, 2630, 2632, 2636, 2637, 2639,\n",
       "         2640, 2653, 2658, 2659, 2666, 2670, 2671, 2675, 2677, 2678, 2679,\n",
       "         2681, 2687, 2693, 2699, 2711, 2714, 2717, 2718, 2727, 2728, 2730,\n",
       "         2735, 2741, 2742, 2744, 2747, 2751, 2753, 2762, 2769, 2780, 2782,\n",
       "         2783, 2784, 2785, 2790, 2795, 2800, 2809, 2810, 2812, 2820, 2834,\n",
       "         2842, 2852, 2878, 2890, 2893, 2894, 2919, 2923, 2926, 2927, 2942,\n",
       "         2945, 2946, 2947, 2961, 2964, 2965, 2968, 2970, 2979, 3003, 3005,\n",
       "         3015, 3021, 3023, 3030, 3032, 3040, 3048, 3054, 3056, 3063, 3067,\n",
       "         3070, 3072, 3076, 3081, 3087, 3092, 3103, 3104, 3111, 3113, 3121,\n",
       "         3131, 3132, 3137, 3143, 3151, 3154, 3163, 3165, 3166, 3169, 3172,\n",
       "         3173, 3177, 3181, 3190, 3195, 3202, 3204, 3208, 3210, 3211, 3212,\n",
       "         3234, 3256, 3258, 3259, 3274, 3280, 3281, 3288, 3292, 3296, 3300,\n",
       "         3304, 3308, 3311, 3320, 3332, 3338, 3340, 3346, 3347, 3348, 3356,\n",
       "         3366, 3368, 3369, 3398, 3407, 3412, 3415, 3421, 3422, 3423, 3424,\n",
       "         3429, 3430, 3434, 3437, 3438, 3441, 3442, 3445, 3446, 3452, 3454,\n",
       "         3462, 3463, 3464, 3479, 3482, 3484, 3491, 3497, 3499, 3503, 3504,\n",
       "         3511, 3514, 3515, 3522, 3527, 3528, 3530, 3531, 3532, 3538, 3539,\n",
       "         3541, 3560, 3563, 3564, 3566, 3568, 3569, 3572, 3574, 3578, 3586,\n",
       "         3590, 3595, 3600, 3604, 3607, 3608, 3614, 3617, 3620, 3626, 3630,\n",
       "         3632, 3636, 3637, 3653, 3656, 3657, 3660, 3662, 3664, 3666, 3673,\n",
       "         3674, 3682, 3684, 3686, 3691, 3693, 3697, 3705, 3706, 3708, 3709,\n",
       "         3716, 3719, 3721, 3724, 3725, 3730, 3731, 3733, 3734, 3744, 3749,\n",
       "         3751, 3752, 3770, 3779, 3785, 3803, 3807, 3817, 3820, 3827, 3828,\n",
       "         3839, 3845, 3851, 3856, 3858, 3859, 3865, 3866, 3871, 3874, 3876,\n",
       "         3884, 3886, 3905, 3925, 3931, 3935])),\n",
       " (array([   1,    2,    3, ..., 3934, 3935, 3936]),\n",
       "  array([   0,    5,   14,   15,   17,   27,   32,   43,   50,   52,   67,\n",
       "           81,   83,   89,   95,   96,   98,  103,  107,  108,  117,  121,\n",
       "          122,  131,  138,  140,  144,  146,  147,  156,  157,  160,  164,\n",
       "          177,  183,  188,  190,  191,  202,  206,  208,  220,  228,  245,\n",
       "          255,  266,  268,  286,  288,  305,  311,  314,  318,  325,  329,\n",
       "          333,  334,  339,  345,  346,  363,  364,  370,  371,  372,  373,\n",
       "          375,  376,  380,  384,  388,  389,  400,  404,  406,  408,  418,\n",
       "          419,  426,  438,  455,  460,  469,  471,  476,  481,  483,  484,\n",
       "          485,  489,  500,  505,  507,  519,  522,  533,  536,  537,  539,\n",
       "          544,  545,  549,  550,  558,  561,  562,  573,  582,  586,  587,\n",
       "          589,  596,  598,  601,  605,  607,  613,  615,  620,  623,  626,\n",
       "          631,  635,  636,  640,  649,  650,  653,  656,  658,  661,  662,\n",
       "          663,  666,  667,  676,  678,  679,  707,  710,  712,  719,  730,\n",
       "          735,  736,  744,  745,  754,  756,  759,  766,  767,  777,  797,\n",
       "          802,  803,  806,  810,  811,  813,  817,  823,  824,  829,  833,\n",
       "          849,  853,  862,  866,  873,  875,  881,  890,  893,  896,  904,\n",
       "          912,  916,  926,  938,  939,  944,  946,  948,  950,  955,  957,\n",
       "          963,  964,  988,  990,  999, 1000, 1001, 1003, 1009, 1013, 1020,\n",
       "         1025, 1032, 1049, 1052, 1053, 1054, 1058, 1062, 1063, 1064, 1065,\n",
       "         1070, 1071, 1075, 1088, 1089, 1098, 1100, 1102, 1106, 1108, 1110,\n",
       "         1119, 1138, 1142, 1146, 1149, 1155, 1156, 1159, 1161, 1166, 1174,\n",
       "         1184, 1185, 1188, 1192, 1197, 1205, 1207, 1214, 1217, 1225, 1245,\n",
       "         1253, 1255, 1257, 1261, 1262, 1263, 1266, 1269, 1271, 1276, 1285,\n",
       "         1291, 1299, 1307, 1308, 1309, 1310, 1311, 1328, 1329, 1330, 1337,\n",
       "         1345, 1347, 1349, 1353, 1356, 1364, 1367, 1371, 1376, 1381, 1382,\n",
       "         1383, 1385, 1386, 1388, 1400, 1401, 1403, 1413, 1419, 1438, 1439,\n",
       "         1446, 1455, 1466, 1475, 1476, 1477, 1478, 1483, 1485, 1487, 1494,\n",
       "         1496, 1497, 1498, 1502, 1507, 1512, 1517, 1526, 1528, 1545, 1550,\n",
       "         1553, 1555, 1559, 1581, 1583, 1597, 1598, 1601, 1603, 1609, 1610,\n",
       "         1611, 1613, 1618, 1633, 1637, 1638, 1647, 1649, 1653, 1654, 1678,\n",
       "         1679, 1690, 1702, 1712, 1713, 1717, 1718, 1729, 1731, 1738, 1745,\n",
       "         1751, 1752, 1757, 1762, 1763, 1768, 1772, 1774, 1777, 1779, 1789,\n",
       "         1792, 1801, 1803, 1827, 1831, 1832, 1839, 1845, 1853, 1854, 1863,\n",
       "         1871, 1872, 1873, 1882, 1883, 1885, 1888, 1889, 1894, 1900, 1902,\n",
       "         1903, 1904, 1908, 1909, 1910, 1914, 1915, 1919, 1923, 1924, 1929,\n",
       "         1931, 1932, 1940, 1942, 1944, 1947, 1948, 1949, 1955, 1958, 1967,\n",
       "         1969, 1985, 1989, 1996, 2006, 2009, 2012, 2026, 2031, 2033, 2036,\n",
       "         2039, 2048, 2050, 2055, 2060, 2061, 2062, 2063, 2067, 2068, 2078,\n",
       "         2080, 2085, 2088, 2102, 2108, 2109, 2119, 2123, 2126, 2135, 2138,\n",
       "         2150, 2153, 2154, 2168, 2174, 2178, 2202, 2209, 2215, 2218, 2226,\n",
       "         2242, 2246, 2247, 2254, 2257, 2265, 2266, 2268, 2272, 2273, 2277,\n",
       "         2279, 2280, 2283, 2285, 2293, 2296, 2311, 2318, 2327, 2329, 2330,\n",
       "         2333, 2337, 2339, 2349, 2376, 2380, 2389, 2390, 2391, 2401, 2410,\n",
       "         2415, 2424, 2426, 2428, 2429, 2439, 2445, 2447, 2451, 2455, 2472,\n",
       "         2474, 2476, 2484, 2492, 2496, 2499, 2501, 2502, 2506, 2522, 2523,\n",
       "         2525, 2526, 2528, 2530, 2533, 2541, 2543, 2547, 2553, 2554, 2559,\n",
       "         2560, 2563, 2569, 2574, 2575, 2579, 2580, 2585, 2594, 2596, 2598,\n",
       "         2606, 2607, 2609, 2616, 2623, 2626, 2634, 2646, 2648, 2656, 2657,\n",
       "         2661, 2669, 2674, 2682, 2683, 2684, 2688, 2696, 2712, 2713, 2715,\n",
       "         2725, 2729, 2734, 2757, 2763, 2766, 2771, 2772, 2775, 2776, 2781,\n",
       "         2788, 2793, 2797, 2798, 2801, 2808, 2811, 2819, 2824, 2829, 2830,\n",
       "         2835, 2844, 2850, 2853, 2859, 2860, 2864, 2871, 2872, 2877, 2879,\n",
       "         2880, 2885, 2889, 2897, 2906, 2907, 2908, 2914, 2915, 2920, 2921,\n",
       "         2934, 2939, 2952, 2953, 2954, 2960, 2962, 2967, 2976, 2982, 2983,\n",
       "         2984, 2989, 2990, 2992, 2998, 3008, 3028, 3041, 3042, 3047, 3053,\n",
       "         3055, 3057, 3062, 3071, 3078, 3084, 3086, 3093, 3094, 3097, 3105,\n",
       "         3112, 3115, 3118, 3119, 3122, 3123, 3125, 3127, 3129, 3130, 3134,\n",
       "         3138, 3140, 3142, 3176, 3178, 3180, 3184, 3185, 3186, 3191, 3192,\n",
       "         3194, 3197, 3198, 3201, 3205, 3207, 3213, 3215, 3219, 3226, 3227,\n",
       "         3229, 3233, 3240, 3250, 3251, 3257, 3261, 3268, 3272, 3275, 3278,\n",
       "         3282, 3289, 3293, 3294, 3295, 3299, 3301, 3303, 3307, 3312, 3314,\n",
       "         3315, 3318, 3324, 3331, 3333, 3334, 3335, 3341, 3352, 3353, 3354,\n",
       "         3355, 3357, 3367, 3371, 3380, 3385, 3386, 3387, 3392, 3400, 3404,\n",
       "         3408, 3413, 3414, 3416, 3418, 3419, 3426, 3427, 3431, 3435, 3439,\n",
       "         3449, 3459, 3471, 3478, 3487, 3494, 3495, 3516, 3521, 3526, 3545,\n",
       "         3548, 3549, 3556, 3559, 3570, 3580, 3581, 3582, 3589, 3592, 3593,\n",
       "         3598, 3603, 3609, 3611, 3616, 3640, 3643, 3648, 3668, 3677, 3692,\n",
       "         3700, 3711, 3712, 3717, 3718, 3727, 3729, 3732, 3738, 3740, 3747,\n",
       "         3750, 3759, 3761, 3763, 3764, 3773, 3777, 3786, 3790, 3801, 3808,\n",
       "         3822, 3823, 3825, 3826, 3831, 3834, 3843, 3844, 3847, 3852, 3853,\n",
       "         3855, 3857, 3860, 3861, 3862, 3888, 3891, 3892, 3896, 3901, 3903,\n",
       "         3909, 3911, 3919, 3921, 3926, 3932])),\n",
       " (array([   0,    1,    2, ..., 3932, 3935, 3936]),\n",
       "  array([   4,    8,    9,   11,   16,   19,   22,   24,   33,   37,   38,\n",
       "           51,   55,   62,   64,   65,   70,   73,   76,   77,   79,   88,\n",
       "           94,   99,  109,  110,  118,  128,  132,  137,  150,  151,  163,\n",
       "          168,  171,  174,  175,  176,  181,  182,  195,  196,  210,  211,\n",
       "          215,  216,  237,  238,  247,  248,  250,  251,  253,  264,  265,\n",
       "          267,  271,  273,  278,  282,  285,  291,  301,  302,  303,  308,\n",
       "          309,  315,  319,  335,  350,  356,  358,  360,  374,  382,  387,\n",
       "          393,  394,  396,  402,  405,  411,  420,  427,  431,  437,  440,\n",
       "          444,  445,  452,  454,  464,  470,  472,  474,  477,  479,  482,\n",
       "          487,  498,  502,  503,  506,  509,  510,  511,  516,  525,  526,\n",
       "          528,  531,  534,  542,  564,  567,  569,  570,  592,  594,  606,\n",
       "          609,  611,  618,  619,  621,  622,  630,  632,  637,  638,  642,\n",
       "          643,  647,  648,  654,  674,  675,  680,  692,  694,  697,  698,\n",
       "          704,  709,  711,  713,  716,  723,  726,  727,  729,  731,  733,\n",
       "          734,  738,  740,  747,  761,  769,  771,  775,  791,  798,  804,\n",
       "          805,  808,  809,  814,  815,  826,  840,  851,  870,  871,  876,\n",
       "          878,  885,  888,  905,  907,  909,  910,  925,  940,  945,  958,\n",
       "          965,  967,  968,  974,  976,  981,  982,  984,  993, 1004, 1008,\n",
       "         1010, 1016, 1023, 1024, 1028, 1034, 1041, 1042, 1045, 1046, 1048,\n",
       "         1055, 1056, 1057, 1059, 1072, 1073, 1074, 1082, 1084, 1099, 1103,\n",
       "         1104, 1114, 1116, 1125, 1128, 1129, 1134, 1136, 1139, 1141, 1145,\n",
       "         1152, 1164, 1167, 1169, 1171, 1173, 1175, 1182, 1195, 1200, 1210,\n",
       "         1213, 1215, 1222, 1224, 1226, 1234, 1237, 1241, 1246, 1265, 1277,\n",
       "         1279, 1284, 1286, 1289, 1296, 1312, 1314, 1318, 1319, 1322, 1324,\n",
       "         1325, 1333, 1336, 1359, 1360, 1361, 1369, 1374, 1375, 1377, 1379,\n",
       "         1389, 1396, 1399, 1404, 1408, 1410, 1414, 1415, 1418, 1422, 1428,\n",
       "         1431, 1433, 1434, 1435, 1444, 1448, 1451, 1452, 1456, 1459, 1463,\n",
       "         1465, 1468, 1474, 1481, 1484, 1492, 1493, 1509, 1513, 1524, 1536,\n",
       "         1537, 1541, 1543, 1544, 1547, 1548, 1554, 1562, 1563, 1565, 1566,\n",
       "         1567, 1574, 1578, 1580, 1584, 1590, 1595, 1596, 1600, 1604, 1605,\n",
       "         1607, 1617, 1624, 1631, 1632, 1639, 1641, 1642, 1652, 1658, 1661,\n",
       "         1664, 1668, 1673, 1674, 1680, 1683, 1684, 1689, 1691, 1692, 1700,\n",
       "         1701, 1704, 1707, 1708, 1715, 1716, 1722, 1728, 1733, 1736, 1737,\n",
       "         1749, 1760, 1766, 1782, 1788, 1798, 1805, 1808, 1812, 1819, 1820,\n",
       "         1823, 1829, 1833, 1834, 1835, 1841, 1843, 1844, 1847, 1862, 1876,\n",
       "         1881, 1886, 1890, 1892, 1893, 1895, 1899, 1912, 1913, 1920, 1928,\n",
       "         1935, 1936, 1956, 1961, 1963, 1970, 1972, 1974, 1979, 1980, 1986,\n",
       "         1987, 1999, 2000, 2005, 2013, 2019, 2023, 2029, 2030, 2032, 2037,\n",
       "         2040, 2047, 2056, 2057, 2065, 2071, 2072, 2077, 2079, 2082, 2087,\n",
       "         2089, 2090, 2094, 2095, 2106, 2115, 2125, 2127, 2130, 2137, 2141,\n",
       "         2142, 2144, 2146, 2156, 2179, 2182, 2184, 2187, 2191, 2192, 2194,\n",
       "         2195, 2200, 2203, 2206, 2207, 2220, 2225, 2230, 2232, 2234, 2235,\n",
       "         2237, 2239, 2241, 2243, 2250, 2253, 2258, 2259, 2260, 2261, 2263,\n",
       "         2275, 2281, 2290, 2291, 2297, 2315, 2316, 2317, 2321, 2326, 2328,\n",
       "         2334, 2335, 2344, 2348, 2351, 2352, 2355, 2363, 2368, 2381, 2382,\n",
       "         2395, 2402, 2406, 2407, 2412, 2413, 2416, 2421, 2425, 2431, 2435,\n",
       "         2448, 2449, 2461, 2462, 2464, 2469, 2470, 2477, 2483, 2507, 2516,\n",
       "         2521, 2527, 2531, 2536, 2545, 2549, 2552, 2556, 2557, 2558, 2562,\n",
       "         2564, 2566, 2570, 2578, 2584, 2586, 2590, 2592, 2593, 2595, 2597,\n",
       "         2603, 2631, 2644, 2645, 2649, 2655, 2667, 2686, 2691, 2694, 2700,\n",
       "         2701, 2710, 2723, 2724, 2740, 2746, 2749, 2750, 2760, 2765, 2774,\n",
       "         2777, 2787, 2792, 2796, 2802, 2807, 2815, 2816, 2818, 2827, 2831,\n",
       "         2837, 2841, 2846, 2848, 2849, 2854, 2858, 2865, 2866, 2869, 2870,\n",
       "         2875, 2882, 2883, 2884, 2899, 2901, 2902, 2904, 2916, 2922, 2928,\n",
       "         2930, 2932, 2933, 2936, 2938, 2940, 2948, 2949, 2951, 2955, 2959,\n",
       "         2972, 2973, 2987, 2996, 3001, 3002, 3007, 3012, 3018, 3020, 3024,\n",
       "         3037, 3043, 3049, 3060, 3066, 3069, 3074, 3077, 3079, 3082, 3095,\n",
       "         3098, 3102, 3106, 3110, 3116, 3120, 3126, 3135, 3139, 3144, 3150,\n",
       "         3153, 3159, 3160, 3161, 3168, 3175, 3199, 3203, 3206, 3209, 3220,\n",
       "         3225, 3228, 3241, 3242, 3243, 3248, 3249, 3252, 3254, 3262, 3263,\n",
       "         3267, 3279, 3286, 3290, 3297, 3298, 3305, 3317, 3327, 3344, 3350,\n",
       "         3361, 3364, 3373, 3374, 3377, 3382, 3388, 3389, 3393, 3399, 3405,\n",
       "         3409, 3411, 3425, 3428, 3443, 3448, 3450, 3466, 3467, 3469, 3470,\n",
       "         3476, 3481, 3485, 3486, 3488, 3489, 3493, 3505, 3506, 3509, 3510,\n",
       "         3533, 3535, 3536, 3540, 3551, 3552, 3577, 3584, 3596, 3599, 3601,\n",
       "         3602, 3605, 3619, 3642, 3644, 3645, 3649, 3651, 3652, 3654, 3659,\n",
       "         3663, 3665, 3667, 3669, 3675, 3676, 3679, 3683, 3685, 3687, 3696,\n",
       "         3703, 3704, 3710, 3713, 3726, 3735, 3737, 3743, 3754, 3756, 3757,\n",
       "         3767, 3772, 3778, 3783, 3784, 3787, 3788, 3789, 3794, 3799, 3800,\n",
       "         3802, 3804, 3805, 3814, 3821, 3837, 3840, 3841, 3864, 3867, 3868,\n",
       "         3869, 3879, 3880, 3887, 3889, 3897, 3902, 3908, 3910, 3912, 3913,\n",
       "         3915, 3916, 3924, 3930, 3933, 3934]))]"
      ]
     },
     "execution_count": 61,
     "metadata": {},
     "output_type": "execute_result"
    }
   ],
   "source": [
    "cv"
   ]
  },
  {
   "cell_type": "code",
   "execution_count": 62,
   "id": "pressed-electronics",
   "metadata": {},
   "outputs": [
    {
     "data": {
      "text/plain": [
       "(3149, 788)"
      ]
     },
     "execution_count": 62,
     "metadata": {},
     "output_type": "execute_result"
    }
   ],
   "source": [
    "idx_tr, idx_val = cv[0]\n",
    "len(idx_tr), len(idx_val)"
   ]
  },
  {
   "cell_type": "code",
   "execution_count": 63,
   "id": "grateful-housing",
   "metadata": {},
   "outputs": [
    {
     "data": {
      "text/plain": [
       "<matplotlib_venn._common.VennDiagram at 0x7f1384e1ef90>"
      ]
     },
     "execution_count": 63,
     "metadata": {},
     "output_type": "execute_result"
    },
    {
     "data": {
      "image/png": "[encoded data removed]",
      "text/plain": [
       "<Figure size 432x288 with 1 Axes>"
      ]
     },
     "metadata": {},
     "output_type": "display_data"
    }
   ],
   "source": [
    "venn2(subsets=(set(idx_tr), set(idx_val)), set_labels=('train', 'test'))"
   ]
  },
  {
   "cell_type": "code",
   "execution_count": 69,
   "id": "greater-thomas",
   "metadata": {},
   "outputs": [],
   "source": [
    "# from vivid.metrics import regression_metrics\n",
    "from sklearn.metrics import mean_squared_error\n",
    "\n",
    "\n",
    "def predict(model: nn.Module, loader: data.DataLoader) -> np.ndarray:\n",
    "    # train とは逆で model 内の学習時にのみ有効な機構がオフになります (Dropouts Layers、BatchNorm Layers...)\n",
    "    model.eval()\n",
    "    \n",
    "    predicts = []\n",
    "    \n",
    "    for x_i, y_i in loader:\n",
    "        \n",
    "        # 明示的に勾配を計算しないように指定することができます. \n",
    "        # この関数ではモデルの更新はせずに単に出力だけを使いますので勾配は不要です.\n",
    "        with torch.no_grad():\n",
    "            output = model(x_i.to(DEVICE))\n",
    "\n",
    "        predicts.extend(output.data.cpu().numpy())\n",
    "\n",
    "    pred = np.array(predicts).reshape(-1)\n",
    "    return pred\n",
    "\n",
    "\n",
    "def calculate_metrics(y_true, y_pred) -> dict:\n",
    "    \"\"\"正解ラベルと予測ラベルから指標を計算する\"\"\"\n",
    "    # return regression_metrics(y_true, y_pred)\n",
    "    \n",
    "    return {\n",
    "        'rmse': mean_squared_error(y_true, y_pred) ** .5\n",
    "    }\n",
    "\n",
    "\n",
    "def valid(\n",
    "    model: nn.Module, \n",
    "    y_valid: np.ndarray, \n",
    "    valid_loader: data.DataLoader\n",
    ") -> pd.Series:\n",
    "    \"\"\"検証フェーズ\n",
    "    与えられたモデル・データローダを使って検証フェーズを実行。スコアの dict と予測した値を返す\n",
    "    \"\"\"\n",
    "    \n",
    "    pred = predict(model, valid_loader)\n",
    "    score = calculate_metrics(y_valid, pred)\n",
    "    \n",
    "    valid_score = pd.Series(score)\n",
    "    return valid_score.add_prefix(\"valid_\"), pred"
   ]
  },
  {
   "cell_type": "code",
   "execution_count": 70,
   "id": "greatest-hypothetical",
   "metadata": {},
   "outputs": [],
   "source": [
    "from tabulate import tabulate\n",
    "\n",
    "\n",
    "def run_fold(\n",
    "    model: nn.Module, \n",
    "    train_df: pd.DataFrame, \n",
    "    valid_df: pd.DataFrame, \n",
    "    y_valid: np.ndarray, \n",
    "    output_dir: str, \n",
    "    n_epochs=30) -> np.ndarray:\n",
    "    \"\"\"\n",
    "    train / valid に分割されたデータで学習と同時に検証を行なう\n",
    "    \"\"\"\n",
    "    \n",
    "    os.makedirs(output_i, exist_ok=True)\n",
    "    \n",
    "    optimizer = Adam(model.parameters(), lr=1e-3)\n",
    "    \n",
    "    # 0: 前準備. dataframe から data loader を作成\n",
    "    train_dataset = AtmaDataset(meta_df=train_df)\n",
    "    # 検証用の方は is_train=False にしてデータ拡張オフにする\n",
    "    valid_dataset = AtmaDataset(meta_df=valid_df, is_train=False)\n",
    "\n",
    "    train_loader = data.DataLoader(\n",
    "        train_dataset, batch_size=64, shuffle=True, drop_last=True, num_workers=4\n",
    "    )\n",
    "    valid_loader = data.DataLoader(valid_dataset, batch_size=256, num_workers=4)\n",
    "\n",
    "    # --- 保存のための変数定義\n",
    "    score_df = pd.DataFrame()\n",
    "    valid_score = np.inf\n",
    "    valid_score_key = \"valid_rmse\"\n",
    "    valid_best_pred = None\n",
    "    \n",
    "    for epoch in range(1, n_epochs + 1):\n",
    "        print(f'start {epoch}')\n",
    "        \n",
    "        # 1: 学習用データで学習を実行。学習時のロスを取得\n",
    "        with timer(prefix=\"train: epoch={}\".format(epoch)):\n",
    "            score_train = train(\n",
    "                model, optimizer, train_loader\n",
    "            )\n",
    "\n",
    "        # 2: 検証データでのスコアを計算\n",
    "        with timer(prefix=\"validate\"):\n",
    "            score_valid, y_valid_pred = valid(model=model, valid_loader=valid_loader, y_valid=y_valid)\n",
    "            \n",
    "            \n",
    "        # --- 学習のロスと検証スコアの値をデータフレームに追加\n",
    "        row = pd.concat([score_train, score_valid])\n",
    "        row[\"epoch\"] = epoch\n",
    "        row = pd.DataFrame([row])\n",
    "        print(tabulate(row, headers=row.columns))\n",
    "        score_df = pd.concat([score_df, row], ignore_index=True)\n",
    "        # ---\n",
    "        \n",
    "        # 今の検証スコアと過去最高のスコアを比較\n",
    "        current_score = score_valid[valid_score_key]\n",
    "        if current_score < valid_score:\n",
    "            # スコア改善したときモデルを保存する\n",
    "            print(f'validation score is improved!! {valid_score:.4f} -> {current_score:.4f}')\n",
    "            torch.save(\n",
    "                model.state_dict(), os.path.join(output_dir, 'model_best.pth')\n",
    "            )\n",
    "            valid_score = current_score\n",
    "            valid_best_pred = y_valid_pred\n",
    "    \n",
    "    score_df.to_csv(os.path.join(output_dir, 'score.csv'), index=False)\n",
    "    return valid_best_pred"
   ]
  },
  {
   "cell_type": "code",
   "execution_count": 73,
   "id": "powered-harvard",
   "metadata": {},
   "outputs": [
    {
     "name": "stdout",
     "output_type": "stream",
     "text": [
      "start 1\n",
      "train: epoch=1 9.669[s]\n",
      "validate 2.090[s]\n",
      "      train_loss    valid_rmse    epoch\n",
      "--  ------------  ------------  -------\n",
      " 0       3.23121       0.97234        1\n",
      "validation score is improved!! inf -> 0.9723\n",
      "start 1\n",
      "train: epoch=1 9.624[s]\n",
      "validate 2.140[s]\n",
      "      train_loss    valid_rmse    epoch\n",
      "--  ------------  ------------  -------\n",
      " 0       1.98106       1.36071        1\n",
      "validation score is improved!! inf -> 1.3607\n",
      "start 1\n",
      "train: epoch=1 9.585[s]\n",
      "validate 2.140[s]\n",
      "      train_loss    valid_rmse    epoch\n",
      "--  ------------  ------------  -------\n",
      " 0       3.21907      0.952215        1\n",
      "validation score is improved!! inf -> 0.9522\n",
      "start 1\n",
      "train: epoch=1 9.556[s]\n",
      "validate 2.090[s]\n",
      "      train_loss    valid_rmse    epoch\n",
      "--  ------------  ------------  -------\n",
      " 0       2.02055      0.964341        1\n",
      "validation score is improved!! inf -> 0.9643\n",
      "start 1\n",
      "train: epoch=1 9.577[s]\n",
      "validate 2.151[s]\n",
      "      train_loss    valid_rmse    epoch\n",
      "--  ------------  ------------  -------\n",
      " 0       2.04776       1.01728        1\n",
      "validation score is improved!! inf -> 1.0173\n"
     ]
    }
   ],
   "source": [
    "def get_output_dir(n_cv: int):\n",
    "    return os.path.join(output_dir, 'simple_reset', f'cv={n_cv}')\n",
    "\n",
    "oof = np.zeros((len(train_df), ), dtype=np.float32)\n",
    "\n",
    "for i, (idx_tr, idx_valid) in enumerate(cv):\n",
    "    output_i = get_output_dir(i)\n",
    "    model = resnet34(pretrained=False)\n",
    "    model.fc = nn.Linear(in_features=512, out_features=1, bias=True)\n",
    "    \n",
    "    model.to(DEVICE)\n",
    "    \n",
    "    oof_i = run_fold(\n",
    "        model=model,\n",
    "        train_df=train_meta_df.iloc[idx_tr],\n",
    "        valid_df=train_meta_df.iloc[idx_valid],\n",
    "        y_valid=train_meta_df['target'].values[idx_valid],\n",
    "        output_dir=output_i,\n",
    "        n_epochs=1\n",
    "    )\n",
    "    \n",
    "    oof[idx_valid] = oof_i"
   ]
  },
  {
   "cell_type": "code",
   "execution_count": 75,
   "id": "advised-kenya",
   "metadata": {},
   "outputs": [
    {
     "data": {
      "text/plain": [
       "{'rmse': 0.9430162352004229}"
      ]
     },
     "execution_count": 75,
     "metadata": {},
     "output_type": "execute_result"
    }
   ],
   "source": [
    "calculate_metrics(train_df['target'], oof)"
   ]
  },
  {
   "cell_type": "code",
   "execution_count": 76,
   "id": "internal-lucas",
   "metadata": {},
   "outputs": [
    {
     "name": "stderr",
     "output_type": "stream",
     "text": [
      "/opt/conda/lib/python3.7/site-packages/seaborn/distributions.py:2557: FutureWarning: `distplot` is a deprecated function and will be removed in a future version. Please adapt your code to use either `displot` (a figure-level function with similar flexibility) or `histplot` (an axes-level function for histograms).\n",
      "  warnings.warn(msg, FutureWarning)\n"
     ]
    },
    {
     "data": {
      "text/plain": [
       "<AxesSubplot:ylabel='Density'>"
      ]
     },
     "execution_count": 76,
     "metadata": {},
     "output_type": "execute_result"
    },
    {
     "data": {
      "image/png": "[encoded data removed]",
      "text/plain": [
       "<Figure size 432x288 with 1 Axes>"
      ]
     },
     "metadata": {
      "needs_background": "light"
     },
     "output_type": "display_data"
    }
   ],
   "source": [
    "sns.distplot(oof)"
   ]
  },
  {
   "cell_type": "code",
   "execution_count": 79,
   "id": "proof-danger",
   "metadata": {},
   "outputs": [],
   "source": [
    "def create_metadata(input_df):\n",
    "    out_df = input_df[['object_id']].copy()\n",
    "    out_df['object_path'] = input_df['object_id'].map(to_img_path)\n",
    "    \n",
    "    if \"target\" in input_df:\n",
    "        out_df[\"target\"] = input_df[\"target\"]\n",
    "        \n",
    "    return out_df\n",
    "\n",
    "test_meta_df = create_metadata(test_df)\n",
    "\n",
    "test_dataset = AtmaDataset(meta_df=test_meta_df, is_train=False)\n",
    "test_loader = data.DataLoader(dataset=test_dataset, batch_size=128, drop_last=False, num_workers=4)\n"
   ]
  },
  {
   "cell_type": "code",
   "execution_count": 81,
   "id": "checked-elizabeth",
   "metadata": {},
   "outputs": [
    {
     "name": "stdout",
     "output_type": "stream",
     "text": [
      "pred cv=0 8.114[s]\n",
      "pred cv=1 7.977[s]\n",
      "pred cv=2 8.231[s]\n",
      "pred cv=3 7.874[s]\n",
      "pred cv=4 8.310[s]\n"
     ]
    }
   ],
   "source": [
    "test_predictions = []\n",
    "for i in range(len(cv)):\n",
    "    output_i = get_output_dir(i)\n",
    "    model = resnet34(pretrained=False)\n",
    "    model.fc = nn.Linear(in_features=512, out_features=1, bias=True)\n",
    "    \n",
    "    model_path = os.path.join(output_i, 'model_best.pth')\n",
    "    \n",
    "    model.load_state_dict(torch.load(model_path))\n",
    "    \n",
    "    model.to(DEVICE)\n",
    "    \n",
    "    with timer(prefix=f'pred cv={i}'):\n",
    "        y_pred_i = predict(model, loader=test_loader)\n",
    "        \n",
    "    test_predictions.append(y_pred_i)"
   ]
  },
  {
   "cell_type": "code",
   "execution_count": 88,
   "id": "portuguese-ireland",
   "metadata": {},
   "outputs": [],
   "source": [
    "pred_mean = np.array(test_predictions).mean(axis=0)\n",
    "\n",
    "pd.DataFrame({\n",
    "    \"target\": pred_mean\n",
    "}).to_csv(os.path.join(output_dir,\"001__sub.csv\"), index=False)"
   ]
  },
  {
   "cell_type": "code",
   "execution_count": 89,
   "id": "toxic-syria",
   "metadata": {},
   "outputs": [
    {
     "name": "stdout",
     "output_type": "stream",
     "text": [
      "Package                        Version             Latest       Type\n",
      "------------------------------ ------------------- ------------ -----\n",
      "absl-py                        0.12.0              0.13.0       wheel\n",
      "adal                           1.2.6               1.2.7        wheel\n",
      "aiobotocore                    1.3.0               1.3.3        sdist\n",
      "aiohttp                        3.7.4               3.7.4.post0  wheel\n",
      "albumentations                 0.5.2               1.0.2        wheel\n",
      "allennlp                       2.4.0               2.5.0        wheel\n",
      "arrow                          1.0.3               1.1.1        wheel\n",
      "attrs                          20.3.0              21.2.0       wheel\n",
      "backports.functools-lru-cache  1.6.3               1.6.4        wheel\n",
      "biopython                      1.78                1.79         wheel\n",
      "bokeh                          2.3.2               2.3.3        sdist\n",
      "boto3                          1.17.83             1.17.110     wheel\n",
      "botocore                       1.20.83             1.20.110     wheel\n",
      "bqplot                         0.12.27             0.12.29      wheel\n",
      "cachetools                     4.2.1               4.2.2        wheel\n",
      "Cartopy                        0.18.0              0.19.0.post1 sdist\n",
      "catalogue                      1.0.0               2.0.4        wheel\n",
      "catalyst                       21.4.2              21.6         wheel\n",
      "catboost                       0.25.1              0.26         wheel\n",
      "certifi                        2020.12.5           2021.5.30    wheel\n",
      "cffi                           1.14.5              1.14.6       wheel\n",
      "click                          7.1.2               8.0.1        wheel\n",
      "cligj                          0.7.1               0.7.2        wheel\n",
      "cmd2                           1.5.0               2.1.2        wheel\n",
      "cmdstanpy                      0.9.5               0.9.76       wheel\n",
      "ConfigSpace                    0.4.18              0.4.19       wheel\n",
      "confuse                        1.4.0               1.5.0        wheel\n",
      "contextlib2                    0.6.0.post1         21.6.0       wheel\n",
      "cookiecutter                   1.7.2               1.7.3        wheel\n",
      "cupy                           8.0.0               9.2.0        sdist\n",
      "cvxpy                          1.1.7               1.1.13       wheel\n",
      "dask                           2021.5.0            2021.7.0     wheel\n",
      "datashader                     0.12.1              0.13.0       wheel\n",
      "datatable                      0.11.1              1.0.0        wheel\n",
      "decorator                      4.4.2               5.0.9        wheel\n",
      "decord                         0.5.2               0.6.0        wheel\n",
      "dill                           0.3.3               0.3.4        wheel\n",
      "distributed                    2021.5.0            2021.7.0     wheel\n",
      "docker                         4.4.4               5.0.0        wheel\n",
      "earthengine-api                0.1.267             0.1.272      sdist\n",
      "easyocr                        1.3.1               1.3.2        wheel\n",
      "ephem                          3.7.7.1             4.0.0.2      wheel\n",
      "fancyimpute                    0.5.5               0.6.0        wheel\n",
      "fastai                         2.2.7               2.4          wheel\n",
      "fastavro                       1.4.1               1.4.2        wheel\n",
      "featuretools                   0.24.1              0.25.0       wheel\n",
      "Fiona                          1.8.18              1.8.20       wheel\n",
      "flatbuffers                    1.12                2.0          wheel\n",
      "fsspec                         2021.5.0            2021.6.1     wheel\n",
      "gast                           0.3.3               0.5.0        wheel\n",
      "gcsfs                          0.7.2               2021.6.1     wheel\n",
      "GDAL                           3.2.1               3.3.1        sdist\n",
      "geographiclib                  1.50                1.52         wheel\n",
      "geoplot                        0.4.1               0.4.3        wheel\n",
      "geopy                          2.1.0               2.2.0        wheel\n",
      "GitPython                      3.1.14              3.1.18       wheel\n",
      "gluoncv                        0.10.1.post0        0.10.3       wheel\n",
      "google-api-core                1.26.2              1.31.0       wheel\n",
      "google-api-python-client       1.8.0               2.13.0       wheel\n",
      "google-auth                    1.26.1              1.32.1       wheel\n",
      "google-auth-httplib2           0.0.4               0.1.0        wheel\n",
      "google-auth-oauthlib           0.4.3               0.4.4        wheel\n",
      "google-cloud-aiplatform        0.6.0a1             1.1.1        wheel\n",
      "google-cloud-automl            1.0.1               2.4.0        wheel\n",
      "google-cloud-bigquery          2.2.0               2.20.0       wheel\n",
      "google-cloud-bigtable          1.4.0               2.3.0        wheel\n",
      "google-cloud-core              1.6.0               1.7.1        wheel\n",
      "google-cloud-dataproc          1.1.1               2.4.0        wheel\n",
      "google-cloud-datastore         1.12.0              2.1.4        wheel\n",
      "google-cloud-firestore         1.8.1               2.1.3        wheel\n",
      "google-cloud-kms               1.4.0               2.4.0        wheel\n",
      "google-cloud-language          2.0.0               2.2.0        wheel\n",
      "google-cloud-logging           1.15.1              2.5.0        wheel\n",
      "google-cloud-monitoring        1.1.0               2.4.0        wheel\n",
      "google-cloud-pubsub            1.7.0               2.6.1        wheel\n",
      "google-cloud-scheduler         1.3.0               2.3.0        wheel\n",
      "google-cloud-spanner           1.17.1              3.6.0        wheel\n",
      "google-cloud-speech            1.3.2               2.5.0        wheel\n",
      "google-cloud-storage           1.30.0              1.40.0       wheel\n",
      "google-cloud-tasks             1.5.0               2.4.0        wheel\n",
      "google-cloud-translate         3.1.0               3.2.1        wheel\n",
      "google-cloud-videointelligence 2.1.0               2.3.0        wheel\n",
      "google-cloud-vision            2.3.1               2.4.0        wheel\n",
      "google-resumable-media         1.2.0               1.3.1        wheel\n",
      "graphviz                       0.8.4               0.16         wheel\n",
      "greenlet                       1.0.0               1.1.0        wheel\n",
      "grpcio                         1.32.0              1.38.1       wheel\n",
      "h2o                            3.32.1.3            3.32.1.4     sdist\n",
      "h5py                           2.10.0              3.3.0        wheel\n",
      "hijri-converter                2.1.1               2.1.3        wheel\n",
      "httplib2                       0.19.0              0.19.1       wheel\n",
      "huggingface-hub                0.0.9               0.0.13       wheel\n",
      "humanize                       3.5.0               3.10.0       wheel\n",
      "hypertools                     0.6.3               0.7.0        wheel\n",
      "hypothesis                     6.13.8              6.14.2       wheel\n",
      "idna                           2.10                3.2          wheel\n",
      "imagecodecs                    2021.5.20           2021.6.8     wheel\n",
      "importlib-metadata             3.4.0               4.6.1        wheel\n",
      "ipykernel                      5.5.0               6.0.1        wheel\n",
      "ipython                        7.22.0              7.25.0       wheel\n",
      "ipython-sql                    0.3.9               0.4.0        wheel\n",
      "jax                            0.2.12              0.2.17       sdist\n",
      "jaxlib                         0.1.64+cuda110      0.1.69       wheel\n",
      "json5                          0.9.5               0.9.6        wheel\n",
      "jupyterlab                     1.2.16              3.0.16       wheel\n",
      "jupyterlab-git                 0.11.0              0.30.1       wheel\n",
      "jupyterlab-server              1.2.0               2.6.1        wheel\n",
      "kaggle-environments            1.7.11              1.8.0        wheel\n",
      "keras-tuner                    1.0.2               1.0.3        wheel\n",
      "kornia                         0.5.2               0.5.6        wheel\n",
      "kubernetes                     12.0.1              17.17.0      wheel\n",
      "lightgbm                       3.2.0               3.2.1        wheel\n",
      "line-profiler                  3.2.6               3.3.0        wheel\n",
      "missingno                      0.4.2               0.5.0        wheel\n",
      "mpld3                          0.5.2               0.5.5        sdist\n",
      "multiprocess                   0.70.11.1           0.70.12.2    wheel\n",
      "nbconvert                      6.0.7               6.1.0        wheel\n",
      "nbdime                         2.1.0               3.1.0        wheel\n",
      "nbformat                       5.1.2               5.1.3        wheel\n",
      "nest-asyncio                   1.4.3               1.5.1        wheel\n",
      "netCDF4                        1.5.6               1.5.7        wheel\n",
      "networkx                       2.5                 2.5.1        wheel\n",
      "nilearn                        0.7.1               0.8.0        wheel\n",
      "nltk                           3.2.4               3.6.2        wheel\n",
      "nnabla                         1.19.0              1.20.1       wheel\n",
      "nnabla-ext-cuda110             1.19.0              1.20.1       wheel\n",
      "notebook                       6.3.0               6.4.0        wheel\n",
      "numpy                          1.19.5              1.21.0       wheel\n",
      "oauthlib                       3.0.1               3.1.1        wheel\n",
      "onnx                           1.8.1               1.9.0        wheel\n",
      "opencv-python                  4.5.2.52            4.5.3.56     wheel\n",
      "opencv-python-headless         4.5.2.52            4.5.3.56     wheel\n",
      "optuna                         2.7.0               2.8.0        wheel\n",
      "overrides                      3.1.0               6.1.0        wheel\n",
      "packaging                      20.9                21.0         wheel\n",
      "pandas                         1.1.5               1.3.0        wheel\n",
      "pandas-profiling               2.11.0              3.0.0        wheel\n",
      "pandocfilters                  1.4.2               1.4.3        sdist\n",
      "param                          1.10.1              1.11.1       wheel\n",
      "parso                          0.8.1               0.8.2        wheel\n",
      "path                           15.1.2              16.0.0       wheel\n",
      "pathos                         0.2.7               0.2.8        wheel\n",
      "pdf2image                      1.15.1              1.16.0       wheel\n",
      "Pillow                         8.1.2               8.3.1        wheel\n",
      "pip                            21.1.2              21.1.3       wheel\n",
      "plac                           1.1.3               1.3.3        wheel\n",
      "plotly                         4.14.3              5.1.0        wheel\n",
      "pooch                          1.3.0               1.4.0        wheel\n",
      "pox                            0.2.9               0.3.0        wheel\n",
      "ppft                           1.6.6.3             1.6.6.4      wheel\n",
      "prometheus-client              0.9.0               0.11.0       wheel\n",
      "prompt-toolkit                 3.0.18              3.0.19       wheel\n",
      "proto-plus                     1.18.1              1.19.0       wheel\n",
      "protobuf                       3.17.1              3.17.3       wheel\n",
      "PyArabic                       0.6.10              0.6.11       wheel\n",
      "pyarrow                        1.0.1               4.0.1        wheel\n",
      "pyasn1-modules                 0.2.7               0.2.8        wheel\n",
      "pydash                         5.0.0               5.0.1        wheel\n",
      "pyDeprecate                    0.3.0               0.3.2        wheel\n",
      "pyglet                         1.5.15              1.5.18       wheel\n",
      "Pygments                       2.8.1               2.9.0        wheel\n",
      "PyJWT                          2.0.1               2.1.0        wheel\n",
      "pynndescent                    0.5.2               0.5.4        sdist\n",
      "pynvml                         8.0.4               11.0.0       wheel\n",
      "pyproj                         2.6.1.post1         3.1.0        wheel\n",
      "PyQt5                          5.12.3              5.15.4       wheel\n",
      "PyQt5-sip                      4.19.18             12.9.0       wheel\n",
      "PyQtChart                      5.12                5.15.4       wheel\n",
      "PyQtWebEngine                  5.12.1              5.15.4       wheel\n",
      "pyrsistent                     0.17.3              0.18.0       wheel\n",
      "pysal                          2.1.0               2.4.0        sdist\n",
      "pystan                         2.19.1.1            3.2.0        wheel\n",
      "pytesseract                    0.3.7               0.3.8        sdist\n",
      "pytext-nlp                     0.1.2               0.3.3        wheel\n",
      "python-igraph                  0.9.1               0.9.6        wheel\n",
      "python-slugify                 4.0.1               5.0.2        wheel\n",
      "pytools                        2021.2.6            2021.2.7     sdist\n",
      "pytorch-ignite                 0.4.4               0.4.5        wheel\n",
      "pytorch-lightning              1.3.3               1.3.8        wheel\n",
      "pyviz-comms                    2.0.1               2.1.0        wheel\n",
      "pyzmq                          22.0.3              22.1.0       wheel\n",
      "qtconsole                      5.1.0               5.1.1        wheel\n",
      "randomgen                      1.16.6              1.20.3       wheel\n",
      "rasterio                       1.2.3               1.2.6        wheel\n",
      "ray                            1.3.0               1.4.1        wheel\n",
      "regex                          2021.3.17           2021.7.6     wheel\n",
      "s3fs                           2021.5.0            2021.6.1     wheel\n",
      "scattertext                    0.1.2               0.1.4        wheel\n",
      "scikit-image                   0.18.1              0.18.2       wheel\n",
      "scipy                          1.6.2               1.7.0        wheel\n",
      "scs                            2.1.3               2.1.4        sdist\n",
      "Send2Trash                     1.5.0               1.7.1        wheel\n",
      "sentencepiece                  0.1.95              0.1.96       wheel\n",
      "sentry-sdk                     1.1.0               1.3.0        wheel\n",
      "setuptools                     49.6.0.post20210108 57.1.0       wheel\n",
      "simplejson                     3.17.2              3.17.3       wheel\n",
      "six                            1.15.0              1.16.0       wheel\n",
      "smmap                          3.0.5               4.0.0        wheel\n",
      "spacy                          2.3.5               3.1.0        wheel\n",
      "sphinx-rtd-theme               0.2.4               0.5.2        wheel\n",
      "SQLAlchemy                     1.4.3               1.4.20       wheel\n",
      "srsly                          1.0.5               2.4.1        wheel\n",
      "tangled-up-in-unicode          0.0.7               0.1.0        wheel\n",
      "tenacity                       7.0.0               8.0.1        wheel\n",
      "tensorboard                    2.4.1               2.5.0        wheel\n",
      "tensorboardX                   2.2                 2.4          wheel\n",
      "tensorflow                     2.4.1               2.5.0        wheel\n",
      "tensorflow-addons              0.12.1              0.13.0       wheel\n",
      "tensorflow-cloud               0.1.13              0.1.16       wheel\n",
      "tensorflow-datasets            3.0.0               4.3.0        wheel\n",
      "tensorflow-estimator           2.4.0               2.5.0        wheel\n",
      "tensorflow-gcs-config          2.1.7               2.5.0        wheel\n",
      "tensorflow-metadata            1.0.0               1.1.0        wheel\n",
      "tensorflow-probability         0.12.2              0.13.0       wheel\n",
      "terminado                      0.9.3               0.10.1       wheel\n",
      "testpath                       0.4.4               0.5.0        wheel\n",
      "thinc                          7.4.5               8.0.7        wheel\n",
      "threadpoolctl                  2.1.0               2.2.0        wheel\n",
      "tifffile                       2021.4.8            2021.7.2     wheel\n",
      "torch                          1.7.0               1.9.0        wheel\n",
      "torchaudio                     0.7.0a0+ac17b64     0.9.0        wheel\n",
      "torchmetrics                   0.3.2               0.4.1        wheel\n",
      "torchtext                      0.8.0a0+cd6902d     0.10.0       wheel\n",
      "torchvision                    0.8.1               0.10.0       wheel\n",
      "tqdm                           4.59.0              4.61.2       wheel\n",
      "transformers                   4.5.1               4.8.2        wheel\n",
      "treelite                       0.93                1.3.0        wheel\n",
      "treelite-runtime               0.93                1.3.0        wheel\n",
      "typed-ast                      1.4.2               1.4.3        wheel\n",
      "typeguard                      2.12.0              2.12.1       wheel\n",
      "typing-extensions              3.7.4.3             3.10.0.0     wheel\n",
      "typing-inspect                 0.6.0               0.7.1        wheel\n",
      "urllib3                        1.26.4              1.26.6       wheel\n",
      "visions                        0.6.0               0.7.1        wheel\n",
      "vowpalwabbit                   8.10.1              8.10.2       wheel\n",
      "vtk                            9.0.1               9.0.3        wheel\n",
      "wandb                          0.10.31             0.10.33      wheel\n",
      "websocket-client               0.57.0              1.1.0        wheel\n",
      "Wordbatch                      1.4.7               1.4.8        sdist\n",
      "zipp                           3.4.1               3.5.0        wheel\n",
      "\u001b[33mWARNING: You are using pip version 21.1.2; however, version 21.1.3 is available.\n",
      "You should consider upgrading via the '/opt/conda/bin/python -m pip install --upgrade pip' command.\u001b[0m\n"
     ]
    },
    {
     "name": "stdout",
     "output_type": "stream",
     "text": [
      "Note: you may need to restart the kernel to use updated packages.\n"
     ]
    }
   ],
   "source": [
    "pip list -o"
   ]
  },
  {
   "cell_type": "code",
   "execution_count": 90,
   "id": "meaning-lawrence",
   "metadata": {},
   "outputs": [
    {
     "name": "stdout",
     "output_type": "stream",
     "text": [
      "Requirement already satisfied: pip in /opt/conda/lib/python3.7/site-packages (21.1.2)\n",
      "Collecting pip\n",
      "  Downloading pip-21.1.3-py3-none-any.whl (1.5 MB)\n",
      "\u001b[K     |████████████████████████████████| 1.5 MB 825 kB/s eta 0:00:01\n",
      "\u001b[?25hInstalling collected packages: pip\n",
      "  Attempting uninstall: pip\n",
      "    Found existing installation: pip 21.1.2\n",
      "    Uninstalling pip-21.1.2:\n",
      "      Successfully uninstalled pip-21.1.2\n",
      "Successfully installed pip-21.1.3\n",
      "\u001b[33mWARNING: Running pip as root will break packages and permissions. You should install packages reliably by using venv: https://pip.pypa.io/warnings/venv\u001b[0m\n",
      "Note: you may need to restart the kernel to use updated packages.\n"
     ]
    }
   ],
   "source": [
    "pip install -U pip"
   ]
  },
  {
   "cell_type": "code",
   "execution_count": 1,
   "id": "prescription-agenda",
   "metadata": {
    "scrolled": true
   },
   "outputs": [
    {
     "name": "stdout",
     "output_type": "stream",
     "text": [
      "Found existing installation: scikit-learn 1.0.dev0\n",
      "Uninstalling scikit-learn-1.0.dev0:\n",
      "  Successfully uninstalled scikit-learn-1.0.dev0\n",
      "\u001b[33mWARNING: Running pip as the 'root' user can result in broken permissions and conflicting behaviour with the system package manager. It is recommended to use a virtual environment instead: https://pip.pypa.io/warnings/venv\u001b[0m\n",
      "Looking in indexes: https://pypi.org/simple, https://pypi.anaconda.org/scipy-wheels-nightly/simple\n",
      "Collecting scikit-learn\n",
      "  Downloading https://pypi.anaconda.org/scipy-wheels-nightly/simple/scikit-learn/1.0.dev0/scikit_learn-1.0.dev0-cp37-cp37m-manylinux2010_x86_64.whl (22.9 MB)\n",
      "\u001b[K     |████████████████████████████████| 22.9 MB 524 kB/s eta 0:00:01\n",
      "\u001b[?25hRequirement already satisfied: scipy>=1.1.0 in /opt/conda/lib/python3.7/site-packages (from scikit-learn) (1.6.2)\n",
      "Requirement already satisfied: joblib>=0.11 in /opt/conda/lib/python3.7/site-packages (from scikit-learn) (1.0.1)\n",
      "Requirement already satisfied: numpy>=1.14.6 in /opt/conda/lib/python3.7/site-packages (from scikit-learn) (1.19.5)\n",
      "Requirement already satisfied: threadpoolctl>=2.0.0 in /opt/conda/lib/python3.7/site-packages (from scikit-learn) (2.1.0)\n",
      "Installing collected packages: scikit-learn\n",
      "\u001b[31mERROR: pip's dependency resolver does not currently take into account all the packages that are installed. This behaviour is the source of the following dependency conflicts.\n",
      "pyldavis 3.3.1 requires numpy>=1.20.0, but you have numpy 1.19.5 which is incompatible.\n",
      "pyldavis 3.3.1 requires pandas>=1.2.0, but you have pandas 1.1.5 which is incompatible.\n",
      "pdpbox 0.2.1 requires matplotlib==3.1.1, but you have matplotlib 3.4.2 which is incompatible.\n",
      "autogluon-core 0.2.0 requires scikit-learn<0.25,>=0.23.2, but you have scikit-learn 1.0.dev0 which is incompatible.\u001b[0m\n",
      "Successfully installed scikit-learn-1.0.dev0\n",
      "\u001b[33mWARNING: Running pip as the 'root' user can result in broken permissions and conflicting behaviour with the system package manager. It is recommended to use a virtual environment instead: https://pip.pypa.io/warnings/venv\u001b[0m\n"
     ]
    }
   ],
   "source": [
    "!pip uninstall -y scikit-learn\n",
    "!pip install --pre --extra-index https://pypi.anaconda.org/scipy-wheels-nightly/simple scikit-learn"
   ]
  },
  {
   "cell_type": "code",
   "execution_count": 3,
   "id": "searching-candidate",
   "metadata": {},
   "outputs": [],
   "source": [
    "from sklearn.model_selection import StratifiedGroupKFold"
   ]
  },
  {
   "cell_type": "code",
   "execution_count": 4,
   "id": "pressed-parish",
   "metadata": {},
   "outputs": [
    {
     "name": "stdout",
     "output_type": "stream",
     "text": [
      "\r\n",
      "System:\r\n",
      "    python: 3.7.10 | packaged by conda-forge | (default, Feb 19 2021, 16:07:37)  [GCC 9.3.0]\r\n",
      "executable: /opt/conda/bin/python\r\n",
      "   machine: Linux-5.4.91-microsoft-standard-WSL2-x86_64-with-debian-buster-sid\r\n",
      "\r\n",
      "Python dependencies:\r\n",
      "          pip: 21.1.3\r\n",
      "   setuptools: 49.6.0.post20210108\r\n",
      "      sklearn: 1.0.dev0\r\n",
      "        numpy: 1.19.5\r\n",
      "        scipy: 1.6.2\r\n",
      "       Cython: 0.29.23\r\n",
      "       pandas: 1.1.5\r\n",
      "   matplotlib: 3.4.2\r\n",
      "       joblib: 1.0.1\r\n",
      "threadpoolctl: 2.1.0\r\n",
      "\r\n",
      "Built with OpenMP: True\r\n"
     ]
    }
   ],
   "source": [
    "!python -c \"import sklearn; sklearn.show_versions()\""
   ]
  },
  {
   "cell_type": "code",
   "execution_count": null,
   "id": "naughty-frontier",
   "metadata": {},
   "outputs": [],
   "source": []
  }
 ],
 "metadata": {
  "kernelspec": {
   "display_name": "Python 3",
   "language": "python",
   "name": "python3"
  },
  "language_info": {
   "codemirror_mode": {
    "name": "ipython",
    "version": 3
   },
   "file_extension": ".py",
   "mimetype": "text/x-python",
   "name": "python",
   "nbconvert_exporter": "python",
   "pygments_lexer": "ipython3",
   "version": "3.7.10"
  }
 },
 "nbformat": 4,
 "nbformat_minor": 5
}
